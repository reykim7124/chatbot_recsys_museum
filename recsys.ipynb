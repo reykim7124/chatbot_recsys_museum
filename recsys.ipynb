{
 "cells": [
  {
   "cell_type": "markdown",
   "metadata": {},
   "source": [
    "my reference for creating this recommender system model (thank you Heeral Dedhia!): [https://www.kaggle.com/heeraldedhia/movie-ratings-and-recommendation-using-knn](https://www.kaggle.com/heeraldedhia/movie-ratings-and-recommendation-using-knn \"Movie Ratings and Recommendation using KNN\")"
   ]
  },
  {
   "cell_type": "code",
   "execution_count": 1,
   "metadata": {},
   "outputs": [],
   "source": [
    "# import libraries\n",
    "import pandas as pd\n",
    "import os\n",
    "import matplotlib.pyplot as plt\n",
    "import seaborn as sns\n",
    "import math\n",
    "import operator\n",
    "import random as rand"
   ]
  },
  {
   "cell_type": "code",
   "execution_count": 2,
   "metadata": {},
   "outputs": [],
   "source": [
    "# functions\n",
    "def str_to_list(df, col):\n",
    "    \"\"\"\n",
    "    Function to format datatypes in all columns of a \n",
    "    dataframe into a list\n",
    "\n",
    "    Parameters:\n",
    "    -----------\n",
    "    df: The dataframe\n",
    "\n",
    "    col: Columns that needs to be formatted\n",
    "    \"\"\"\n",
    "    for c in col:\n",
    "        if c:\n",
    "            try:\n",
    "                df[c] = df[c].apply(lambda x: x.split(\n",
    "                    \", \") if x != False and isinstance(x, str) else False)\n",
    "            except AttributeError:\n",
    "                df[c] = df[c].apply(lambda x: str(\n",
    "                    x).split(\", \") if x else False)\n",
    "                df[c] = df[c].apply(lambda x: list(\n",
    "                    map(int, x)) if x else False)\n",
    "\n",
    "    return df\n",
    "\n",
    "\n",
    "def remove_duplicates(x):\n",
    "    \"\"\"\n",
    "    Function to remove duplicates in a list\n",
    "\n",
    "    Parameters:\n",
    "    -----------\n",
    "    x: The list\n",
    "    \"\"\"\n",
    "    # x = x.apply(lambda x: x.split(\", \"))\n",
    "    x = x.explode()\n",
    "    x = x.drop_duplicates()\n",
    "    return set(x)\n",
    "\n",
    "\n",
    "def binary(xList, yList):\n",
    "    \"\"\"\n",
    "    One Hot Encoding\n",
    "    \"\"\"\n",
    "    zList = []\n",
    "\n",
    "    for x in xList:\n",
    "        if yList != False and x in yList:\n",
    "            zList.append(1)\n",
    "        else:\n",
    "            zList.append(0)\n",
    "\n",
    "    return zList\n",
    "\n",
    "\n",
    "def top_graph(df, name):\n",
    "\n",
    "    lists = []\n",
    "    for i in df:\n",
    "        lists.extend(i)\n",
    "    ax = pd.Series(lists).value_counts()[:25].sort_values(\n",
    "        ascending=True).plot.barh(color=sns.color_palette('hls', 10))\n",
    "    plt.title('Top ' + name)\n",
    "    plt.show()\n"
   ]
  },
  {
   "cell_type": "code",
   "execution_count": 28,
   "metadata": {},
   "outputs": [],
   "source": [
    "# import dataset\n",
    "dir_path = os.getcwd()\n",
    "xls = pd.ExcelFile(dir_path + \"/datasets/raw_dataset.xlsx\")\n",
    "raw_museums = pd.read_excel(xls, \"Sheet1\")"
   ]
  },
  {
   "cell_type": "markdown",
   "metadata": {},
   "source": [
    "# Exploration"
   ]
  },
  {
   "cell_type": "code",
   "execution_count": 4,
   "metadata": {},
   "outputs": [
    {
     "data": {
      "text/html": [
       "<div>\n",
       "<style scoped>\n",
       "    .dataframe tbody tr th:only-of-type {\n",
       "        vertical-align: middle;\n",
       "    }\n",
       "\n",
       "    .dataframe tbody tr th {\n",
       "        vertical-align: top;\n",
       "    }\n",
       "\n",
       "    .dataframe thead th {\n",
       "        text-align: right;\n",
       "    }\n",
       "</style>\n",
       "<table border=\"1\" class=\"dataframe\">\n",
       "  <thead>\n",
       "    <tr style=\"text-align: right;\">\n",
       "      <th></th>\n",
       "      <th>name</th>\n",
       "      <th>category</th>\n",
       "      <th>schedule_1</th>\n",
       "      <th>schedule_name_1</th>\n",
       "      <th>open_1</th>\n",
       "      <th>closed_1</th>\n",
       "      <th>schedule_2</th>\n",
       "      <th>schedule_name_2</th>\n",
       "      <th>open_2</th>\n",
       "      <th>closed_2</th>\n",
       "      <th>...</th>\n",
       "      <th>twitter</th>\n",
       "      <th>ticket_1</th>\n",
       "      <th>ticket_price_1</th>\n",
       "      <th>ticket_2</th>\n",
       "      <th>ticket_name_2</th>\n",
       "      <th>ticket_price_2</th>\n",
       "      <th>public_transportation</th>\n",
       "      <th>distance_to_museum</th>\n",
       "      <th>latitude</th>\n",
       "      <th>longitude</th>\n",
       "    </tr>\n",
       "  </thead>\n",
       "  <tbody>\n",
       "    <tr>\n",
       "      <th>0</th>\n",
       "      <td>Art: 1 New Museum</td>\n",
       "      <td>Seni</td>\n",
       "      <td>Selasa, Rabu, Kamis, Jumat, Sabtu</td>\n",
       "      <td>NaN</td>\n",
       "      <td>10:00</td>\n",
       "      <td>20:00</td>\n",
       "      <td>Minggu</td>\n",
       "      <td>NaN</td>\n",
       "      <td>10:00</td>\n",
       "      <td>16:00</td>\n",
       "      <td>...</td>\n",
       "      <td>art1_newmuseum</td>\n",
       "      <td>Wisatawan Mancanegara, Umum, Pelajar, Anak - Anak</td>\n",
       "      <td>125000, 100000, 75000, 0</td>\n",
       "      <td>NaN</td>\n",
       "      <td>NaN</td>\n",
       "      <td>NaN</td>\n",
       "      <td>Bandara Halim Perdanakusuma, Stasiun Rajawali,...</td>\n",
       "      <td>26.9, 0.75, 3.2, 4.4, 5.7</td>\n",
       "      <td>-6.146950</td>\n",
       "      <td>106.840289</td>\n",
       "    </tr>\n",
       "    <tr>\n",
       "      <th>1</th>\n",
       "      <td>Bayt Al-Qur’an dan Museum Istiqlal</td>\n",
       "      <td>Agama</td>\n",
       "      <td>Selasa, Rabu, Kamis, Jumat, Sabtu, Minggu</td>\n",
       "      <td>NaN</td>\n",
       "      <td>08:30</td>\n",
       "      <td>15:00</td>\n",
       "      <td>NaN</td>\n",
       "      <td>NaN</td>\n",
       "      <td>NaN</td>\n",
       "      <td>NaN</td>\n",
       "      <td>...</td>\n",
       "      <td>bqmitmii</td>\n",
       "      <td>Umum</td>\n",
       "      <td>0</td>\n",
       "      <td>NaN</td>\n",
       "      <td>NaN</td>\n",
       "      <td>NaN</td>\n",
       "      <td>Bandara Soekarno - Hatta, Bandara Halim Perdan...</td>\n",
       "      <td>45, 10, 20.4, 22.6, 13, 4.3</td>\n",
       "      <td>-6.302798</td>\n",
       "      <td>106.887863</td>\n",
       "    </tr>\n",
       "    <tr>\n",
       "      <th>2</th>\n",
       "      <td>Galeri Foto Jurnalistik Antara</td>\n",
       "      <td>Sejarah</td>\n",
       "      <td>Selasa, Rabu, Kamis, Jumat, Sabtu, Minggu</td>\n",
       "      <td>NaN</td>\n",
       "      <td>10:00</td>\n",
       "      <td>20:00</td>\n",
       "      <td>NaN</td>\n",
       "      <td>NaN</td>\n",
       "      <td>NaN</td>\n",
       "      <td>NaN</td>\n",
       "      <td>...</td>\n",
       "      <td>NaN</td>\n",
       "      <td>Umum</td>\n",
       "      <td>0</td>\n",
       "      <td>NaN</td>\n",
       "      <td>NaN</td>\n",
       "      <td>NaN</td>\n",
       "      <td>Bandara Soekarno - Hatta, Bandara Halim Perdan...</td>\n",
       "      <td>29, 14, 1, 3, 3</td>\n",
       "      <td>-6.165897</td>\n",
       "      <td>106.833967</td>\n",
       "    </tr>\n",
       "    <tr>\n",
       "      <th>3</th>\n",
       "      <td>Galeri Nasional Indonesia</td>\n",
       "      <td>Seni</td>\n",
       "      <td>Selasa, Rabu, Kamis, Jumat</td>\n",
       "      <td>Pameran Tetap</td>\n",
       "      <td>09:00</td>\n",
       "      <td>16:00</td>\n",
       "      <td>Senin, Selasa, Rabu, Kamis, Jumat, Sabtu, Minggu</td>\n",
       "      <td>Pameran Temporer</td>\n",
       "      <td>10:00</td>\n",
       "      <td>19:00</td>\n",
       "      <td>...</td>\n",
       "      <td>galerinasional_</td>\n",
       "      <td>Umum</td>\n",
       "      <td>0</td>\n",
       "      <td>NaN</td>\n",
       "      <td>NaN</td>\n",
       "      <td>NaN</td>\n",
       "      <td>Bandara Soekarno - Hatta, Bandara Halim Perdan...</td>\n",
       "      <td>28.6, 20.4, 22.7, 13.3</td>\n",
       "      <td>-6.178550</td>\n",
       "      <td>106.832772</td>\n",
       "    </tr>\n",
       "    <tr>\n",
       "      <th>4</th>\n",
       "      <td>Monumen Nasional</td>\n",
       "      <td>Sejarah</td>\n",
       "      <td>Selasa, Rabu, Kamis, Jumat, Sabtu, Minggu</td>\n",
       "      <td>Pelataran Puncak Sesi 1</td>\n",
       "      <td>08:00</td>\n",
       "      <td>16:00</td>\n",
       "      <td>Selasa, Rabu, Kamis, Jumat, Sabtu, Minggu</td>\n",
       "      <td>Pelataran Puncak Sesi 2</td>\n",
       "      <td>19:00</td>\n",
       "      <td>22:00</td>\n",
       "      <td>...</td>\n",
       "      <td>NaN</td>\n",
       "      <td>Dewasa, Anak - Anak</td>\n",
       "      <td>20000, 10000</td>\n",
       "      <td>Dewasa, Anak - Anak</td>\n",
       "      <td>Pelataran Puncak</td>\n",
       "      <td>7500, 3500</td>\n",
       "      <td>Stasiun Gambir, Stasiun Pasar Senen, Terminal ...</td>\n",
       "      <td>0.85, 3, 4, 4, 16, 30</td>\n",
       "      <td>-6.175394</td>\n",
       "      <td>106.827152</td>\n",
       "    </tr>\n",
       "  </tbody>\n",
       "</table>\n",
       "<p>5 rows × 31 columns</p>\n",
       "</div>"
      ],
      "text/plain": [
       "                                 name category  \\\n",
       "0                   Art: 1 New Museum     Seni   \n",
       "1  Bayt Al-Qur’an dan Museum Istiqlal    Agama   \n",
       "2      Galeri Foto Jurnalistik Antara  Sejarah   \n",
       "3           Galeri Nasional Indonesia     Seni   \n",
       "4                    Monumen Nasional  Sejarah   \n",
       "\n",
       "                                  schedule_1          schedule_name_1 open_1  \\\n",
       "0          Selasa, Rabu, Kamis, Jumat, Sabtu                      NaN  10:00   \n",
       "1  Selasa, Rabu, Kamis, Jumat, Sabtu, Minggu                      NaN  08:30   \n",
       "2  Selasa, Rabu, Kamis, Jumat, Sabtu, Minggu                      NaN  10:00   \n",
       "3                 Selasa, Rabu, Kamis, Jumat            Pameran Tetap  09:00   \n",
       "4  Selasa, Rabu, Kamis, Jumat, Sabtu, Minggu  Pelataran Puncak Sesi 1  08:00   \n",
       "\n",
       "  closed_1                                        schedule_2  \\\n",
       "0    20:00                                            Minggu   \n",
       "1    15:00                                               NaN   \n",
       "2    20:00                                               NaN   \n",
       "3    16:00  Senin, Selasa, Rabu, Kamis, Jumat, Sabtu, Minggu   \n",
       "4    16:00         Selasa, Rabu, Kamis, Jumat, Sabtu, Minggu   \n",
       "\n",
       "           schedule_name_2 open_2 closed_2  ...          twitter  \\\n",
       "0                      NaN  10:00    16:00  ...   art1_newmuseum   \n",
       "1                      NaN    NaN      NaN  ...         bqmitmii   \n",
       "2                      NaN    NaN      NaN  ...              NaN   \n",
       "3         Pameran Temporer  10:00    19:00  ...  galerinasional_   \n",
       "4  Pelataran Puncak Sesi 2  19:00    22:00  ...              NaN   \n",
       "\n",
       "                                            ticket_1  \\\n",
       "0  Wisatawan Mancanegara, Umum, Pelajar, Anak - Anak   \n",
       "1                                               Umum   \n",
       "2                                               Umum   \n",
       "3                                               Umum   \n",
       "4                                Dewasa, Anak - Anak   \n",
       "\n",
       "             ticket_price_1             ticket_2     ticket_name_2  \\\n",
       "0  125000, 100000, 75000, 0                  NaN               NaN   \n",
       "1                         0                  NaN               NaN   \n",
       "2                         0                  NaN               NaN   \n",
       "3                         0                  NaN               NaN   \n",
       "4              20000, 10000  Dewasa, Anak - Anak  Pelataran Puncak   \n",
       "\n",
       "  ticket_price_2                              public_transportation  \\\n",
       "0            NaN  Bandara Halim Perdanakusuma, Stasiun Rajawali,...   \n",
       "1            NaN  Bandara Soekarno - Hatta, Bandara Halim Perdan...   \n",
       "2            NaN  Bandara Soekarno - Hatta, Bandara Halim Perdan...   \n",
       "3            NaN  Bandara Soekarno - Hatta, Bandara Halim Perdan...   \n",
       "4     7500, 3500  Stasiun Gambir, Stasiun Pasar Senen, Terminal ...   \n",
       "\n",
       "            distance_to_museum  latitude   longitude  \n",
       "0    26.9, 0.75, 3.2, 4.4, 5.7 -6.146950  106.840289  \n",
       "1  45, 10, 20.4, 22.6, 13, 4.3 -6.302798  106.887863  \n",
       "2              29, 14, 1, 3, 3 -6.165897  106.833967  \n",
       "3       28.6, 20.4, 22.7, 13.3 -6.178550  106.832772  \n",
       "4        0.85, 3, 4, 4, 16, 30 -6.175394  106.827152  \n",
       "\n",
       "[5 rows x 31 columns]"
      ]
     },
     "execution_count": 4,
     "metadata": {},
     "output_type": "execute_result"
    }
   ],
   "source": [
    "# show first 5 rows of data\n",
    "raw_museums.head(5)"
   ]
  },
  {
   "cell_type": "code",
   "execution_count": 5,
   "metadata": {},
   "outputs": [
    {
     "data": {
      "text/plain": [
       "Index(['name', 'category', 'schedule_1', 'schedule_name_1', 'open_1',\n",
       "       'closed_1', 'schedule_2', 'schedule_name_2', 'open_2', 'closed_2',\n",
       "       'schedule_3', 'schedule_name_3', 'open_3', 'closed_3', 'address',\n",
       "       'city', 'phone_number', 'email', 'website', 'facebook', 'instagram',\n",
       "       'twitter', 'ticket_1', 'ticket_price_1', 'ticket_2', 'ticket_name_2',\n",
       "       'ticket_price_2', 'public_transportation', 'distance_to_museum',\n",
       "       'latitude', 'longitude'],\n",
       "      dtype='object')"
      ]
     },
     "execution_count": 5,
     "metadata": {},
     "output_type": "execute_result"
    }
   ],
   "source": [
    "# show columns\n",
    "raw_museums.columns"
   ]
  },
  {
   "cell_type": "code",
   "execution_count": 6,
   "metadata": {},
   "outputs": [
    {
     "data": {
      "text/plain": [
       "Index(['name', 'category', 'schedule_1', 'open_1', 'closed_1', 'city',\n",
       "       'ticket_1', 'ticket_price_1', 'public_transportation',\n",
       "       'distance_to_museum'],\n",
       "      dtype='object')"
      ]
     },
     "execution_count": 6,
     "metadata": {},
     "output_type": "execute_result"
    }
   ],
   "source": [
    "# drop columns\n",
    "raw_museums.drop([\"schedule_name_1\", \"schedule_2\", \"schedule_name_2\", \"schedule_3\", \"schedule_name_3\", \"ticket_2\", \"ticket_name_2\", \"ticket_price_2\", \"address\", \"phone_number\", \"email\", \"website\", \"facebook\", \"instagram\", \"twitter\", \"latitude\", \"longitude\", \"open_2\", \"closed_2\", \"open_3\", \"closed_3\"], axis=1, inplace=True)\n",
    "museums = raw_museums.copy()\n",
    "museums.columns"
   ]
  },
  {
   "cell_type": "code",
   "execution_count": 7,
   "metadata": {},
   "outputs": [
    {
     "data": {
      "text/html": [
       "<div>\n",
       "<style scoped>\n",
       "    .dataframe tbody tr th:only-of-type {\n",
       "        vertical-align: middle;\n",
       "    }\n",
       "\n",
       "    .dataframe tbody tr th {\n",
       "        vertical-align: top;\n",
       "    }\n",
       "\n",
       "    .dataframe thead th {\n",
       "        text-align: right;\n",
       "    }\n",
       "</style>\n",
       "<table border=\"1\" class=\"dataframe\">\n",
       "  <thead>\n",
       "    <tr style=\"text-align: right;\">\n",
       "      <th></th>\n",
       "      <th>name</th>\n",
       "      <th>category</th>\n",
       "      <th>schedule_1</th>\n",
       "      <th>open_1</th>\n",
       "      <th>closed_1</th>\n",
       "      <th>city</th>\n",
       "      <th>ticket_1</th>\n",
       "      <th>ticket_price_1</th>\n",
       "      <th>public_transportation</th>\n",
       "      <th>distance_to_museum</th>\n",
       "    </tr>\n",
       "  </thead>\n",
       "  <tbody>\n",
       "    <tr>\n",
       "      <th>count</th>\n",
       "      <td>61</td>\n",
       "      <td>61</td>\n",
       "      <td>60</td>\n",
       "      <td>60</td>\n",
       "      <td>60</td>\n",
       "      <td>61</td>\n",
       "      <td>61</td>\n",
       "      <td>61</td>\n",
       "      <td>61</td>\n",
       "      <td>61</td>\n",
       "    </tr>\n",
       "    <tr>\n",
       "      <th>unique</th>\n",
       "      <td>61</td>\n",
       "      <td>7</td>\n",
       "      <td>12</td>\n",
       "      <td>7</td>\n",
       "      <td>10</td>\n",
       "      <td>5</td>\n",
       "      <td>18</td>\n",
       "      <td>28</td>\n",
       "      <td>35</td>\n",
       "      <td>61</td>\n",
       "    </tr>\n",
       "    <tr>\n",
       "      <th>top</th>\n",
       "      <td>Art: 1 New Museum</td>\n",
       "      <td>Sejarah</td>\n",
       "      <td>Selasa, Rabu, Kamis, Jumat, Sabtu, Minggu</td>\n",
       "      <td>08:00</td>\n",
       "      <td>16:00</td>\n",
       "      <td>Jakarta Pusat</td>\n",
       "      <td>Umum</td>\n",
       "      <td>0</td>\n",
       "      <td>Bandara Soekarno - Hatta, Bandara Halim Perdan...</td>\n",
       "      <td>26.9, 0.75, 3.2, 4.4, 5.7</td>\n",
       "    </tr>\n",
       "    <tr>\n",
       "      <th>freq</th>\n",
       "      <td>1</td>\n",
       "      <td>26</td>\n",
       "      <td>23</td>\n",
       "      <td>26</td>\n",
       "      <td>31</td>\n",
       "      <td>21</td>\n",
       "      <td>35</td>\n",
       "      <td>20</td>\n",
       "      <td>10</td>\n",
       "      <td>1</td>\n",
       "    </tr>\n",
       "  </tbody>\n",
       "</table>\n",
       "</div>"
      ],
      "text/plain": [
       "                     name category                                 schedule_1  \\\n",
       "count                  61       61                                         60   \n",
       "unique                 61        7                                         12   \n",
       "top     Art: 1 New Museum  Sejarah  Selasa, Rabu, Kamis, Jumat, Sabtu, Minggu   \n",
       "freq                    1       26                                         23   \n",
       "\n",
       "       open_1 closed_1           city ticket_1  ticket_price_1  \\\n",
       "count      60       60             61       61              61   \n",
       "unique      7       10              5       18              28   \n",
       "top     08:00    16:00  Jakarta Pusat     Umum               0   \n",
       "freq       26       31             21       35              20   \n",
       "\n",
       "                                    public_transportation  \\\n",
       "count                                                  61   \n",
       "unique                                                 35   \n",
       "top     Bandara Soekarno - Hatta, Bandara Halim Perdan...   \n",
       "freq                                                   10   \n",
       "\n",
       "               distance_to_museum  \n",
       "count                          61  \n",
       "unique                         61  \n",
       "top     26.9, 0.75, 3.2, 4.4, 5.7  \n",
       "freq                            1  "
      ]
     },
     "execution_count": 7,
     "metadata": {},
     "output_type": "execute_result"
    }
   ],
   "source": [
    "# describe dataset\n",
    "museums.describe()"
   ]
  },
  {
   "cell_type": "markdown",
   "metadata": {},
   "source": [
    "## String to List categorical column"
   ]
  },
  {
   "cell_type": "code",
   "execution_count": 8,
   "metadata": {},
   "outputs": [],
   "source": [
    "museums.fillna(False, inplace=True)\n",
    "museums = str_to_list(museums, [\"category\", \"open_1\", \"closed_1\", \"city\", \"schedule_1\", \"ticket_1\", \"ticket_price_1\", \"public_transportation\", \"distance_to_museum\"])"
   ]
  },
  {
   "cell_type": "code",
   "execution_count": 9,
   "metadata": {},
   "outputs": [
    {
     "data": {
      "text/html": [
       "<div>\n",
       "<style scoped>\n",
       "    .dataframe tbody tr th:only-of-type {\n",
       "        vertical-align: middle;\n",
       "    }\n",
       "\n",
       "    .dataframe tbody tr th {\n",
       "        vertical-align: top;\n",
       "    }\n",
       "\n",
       "    .dataframe thead th {\n",
       "        text-align: right;\n",
       "    }\n",
       "</style>\n",
       "<table border=\"1\" class=\"dataframe\">\n",
       "  <thead>\n",
       "    <tr style=\"text-align: right;\">\n",
       "      <th></th>\n",
       "      <th>name</th>\n",
       "      <th>category</th>\n",
       "      <th>schedule_1</th>\n",
       "      <th>open_1</th>\n",
       "      <th>closed_1</th>\n",
       "      <th>city</th>\n",
       "      <th>ticket_1</th>\n",
       "      <th>ticket_price_1</th>\n",
       "      <th>public_transportation</th>\n",
       "      <th>distance_to_museum</th>\n",
       "    </tr>\n",
       "  </thead>\n",
       "  <tbody>\n",
       "    <tr>\n",
       "      <th>0</th>\n",
       "      <td>Art: 1 New Museum</td>\n",
       "      <td>[Seni]</td>\n",
       "      <td>[Selasa, Rabu, Kamis, Jumat, Sabtu]</td>\n",
       "      <td>[10:00]</td>\n",
       "      <td>[20:00]</td>\n",
       "      <td>[Jakarta Pusat]</td>\n",
       "      <td>[Wisatawan Mancanegara, Umum, Pelajar, Anak - ...</td>\n",
       "      <td>[125000, 100000, 75000, 0]</td>\n",
       "      <td>[Bandara Halim Perdanakusuma, Stasiun Rajawali...</td>\n",
       "      <td>[26.9, 0.75, 3.2, 4.4, 5.7]</td>\n",
       "    </tr>\n",
       "    <tr>\n",
       "      <th>1</th>\n",
       "      <td>Bayt Al-Qur’an dan Museum Istiqlal</td>\n",
       "      <td>[Agama]</td>\n",
       "      <td>[Selasa, Rabu, Kamis, Jumat, Sabtu, Minggu]</td>\n",
       "      <td>[08:30]</td>\n",
       "      <td>[15:00]</td>\n",
       "      <td>[Jakarta Timur]</td>\n",
       "      <td>[Umum]</td>\n",
       "      <td>False</td>\n",
       "      <td>[Bandara Soekarno - Hatta, Bandara Halim Perda...</td>\n",
       "      <td>[45, 10, 20.4, 22.6, 13, 4.3]</td>\n",
       "    </tr>\n",
       "    <tr>\n",
       "      <th>2</th>\n",
       "      <td>Galeri Foto Jurnalistik Antara</td>\n",
       "      <td>[Sejarah]</td>\n",
       "      <td>[Selasa, Rabu, Kamis, Jumat, Sabtu, Minggu]</td>\n",
       "      <td>[10:00]</td>\n",
       "      <td>[20:00]</td>\n",
       "      <td>[Jakarta Pusat]</td>\n",
       "      <td>[Umum]</td>\n",
       "      <td>False</td>\n",
       "      <td>[Bandara Soekarno - Hatta, Bandara Halim Perda...</td>\n",
       "      <td>[29, 14, 1, 3, 3]</td>\n",
       "    </tr>\n",
       "    <tr>\n",
       "      <th>3</th>\n",
       "      <td>Galeri Nasional Indonesia</td>\n",
       "      <td>[Seni]</td>\n",
       "      <td>[Selasa, Rabu, Kamis, Jumat]</td>\n",
       "      <td>[09:00]</td>\n",
       "      <td>[16:00]</td>\n",
       "      <td>[Jakarta Pusat]</td>\n",
       "      <td>[Umum]</td>\n",
       "      <td>False</td>\n",
       "      <td>[Bandara Soekarno - Hatta, Bandara Halim Perda...</td>\n",
       "      <td>[28.6, 20.4, 22.7, 13.3]</td>\n",
       "    </tr>\n",
       "    <tr>\n",
       "      <th>4</th>\n",
       "      <td>Monumen Nasional</td>\n",
       "      <td>[Sejarah]</td>\n",
       "      <td>[Selasa, Rabu, Kamis, Jumat, Sabtu, Minggu]</td>\n",
       "      <td>[08:00]</td>\n",
       "      <td>[16:00]</td>\n",
       "      <td>[Jakarta Pusat]</td>\n",
       "      <td>[Dewasa, Anak - Anak]</td>\n",
       "      <td>[20000, 10000]</td>\n",
       "      <td>[Stasiun Gambir, Stasiun Pasar Senen, Terminal...</td>\n",
       "      <td>[0.85, 3, 4, 4, 16, 30]</td>\n",
       "    </tr>\n",
       "  </tbody>\n",
       "</table>\n",
       "</div>"
      ],
      "text/plain": [
       "                                 name   category  \\\n",
       "0                   Art: 1 New Museum     [Seni]   \n",
       "1  Bayt Al-Qur’an dan Museum Istiqlal    [Agama]   \n",
       "2      Galeri Foto Jurnalistik Antara  [Sejarah]   \n",
       "3           Galeri Nasional Indonesia     [Seni]   \n",
       "4                    Monumen Nasional  [Sejarah]   \n",
       "\n",
       "                                    schedule_1   open_1 closed_1  \\\n",
       "0          [Selasa, Rabu, Kamis, Jumat, Sabtu]  [10:00]  [20:00]   \n",
       "1  [Selasa, Rabu, Kamis, Jumat, Sabtu, Minggu]  [08:30]  [15:00]   \n",
       "2  [Selasa, Rabu, Kamis, Jumat, Sabtu, Minggu]  [10:00]  [20:00]   \n",
       "3                 [Selasa, Rabu, Kamis, Jumat]  [09:00]  [16:00]   \n",
       "4  [Selasa, Rabu, Kamis, Jumat, Sabtu, Minggu]  [08:00]  [16:00]   \n",
       "\n",
       "              city                                           ticket_1  \\\n",
       "0  [Jakarta Pusat]  [Wisatawan Mancanegara, Umum, Pelajar, Anak - ...   \n",
       "1  [Jakarta Timur]                                             [Umum]   \n",
       "2  [Jakarta Pusat]                                             [Umum]   \n",
       "3  [Jakarta Pusat]                                             [Umum]   \n",
       "4  [Jakarta Pusat]                              [Dewasa, Anak - Anak]   \n",
       "\n",
       "               ticket_price_1  \\\n",
       "0  [125000, 100000, 75000, 0]   \n",
       "1                       False   \n",
       "2                       False   \n",
       "3                       False   \n",
       "4              [20000, 10000]   \n",
       "\n",
       "                               public_transportation  \\\n",
       "0  [Bandara Halim Perdanakusuma, Stasiun Rajawali...   \n",
       "1  [Bandara Soekarno - Hatta, Bandara Halim Perda...   \n",
       "2  [Bandara Soekarno - Hatta, Bandara Halim Perda...   \n",
       "3  [Bandara Soekarno - Hatta, Bandara Halim Perda...   \n",
       "4  [Stasiun Gambir, Stasiun Pasar Senen, Terminal...   \n",
       "\n",
       "              distance_to_museum  \n",
       "0    [26.9, 0.75, 3.2, 4.4, 5.7]  \n",
       "1  [45, 10, 20.4, 22.6, 13, 4.3]  \n",
       "2              [29, 14, 1, 3, 3]  \n",
       "3       [28.6, 20.4, 22.7, 13.3]  \n",
       "4        [0.85, 3, 4, 4, 16, 30]  "
      ]
     },
     "execution_count": 9,
     "metadata": {},
     "output_type": "execute_result"
    }
   ],
   "source": [
    "museums.head(5)"
   ]
  },
  {
   "cell_type": "code",
   "execution_count": 10,
   "metadata": {},
   "outputs": [
    {
     "data": {
      "text/plain": [
       "name                                                      Museum Indonesia\n",
       "category                                                         [Sejarah]\n",
       "schedule_1               [Senin, Selasa, Rabu, Kamis, Jumat, Sabtu, Min...\n",
       "open_1                                                             [09:00]\n",
       "closed_1                                                           [16:00]\n",
       "city                                                       [Jakarta Timur]\n",
       "ticket_1                                                            [Umum]\n",
       "ticket_price_1                                                       False\n",
       "public_transportation    [Bandara Soekarno - Hatta, Bandara Halim Perda...\n",
       "distance_to_museum                         [45.9, 10.2, 22.2, 20, 5.6, 15]\n",
       "Name: 25, dtype: object"
      ]
     },
     "execution_count": 10,
     "metadata": {},
     "output_type": "execute_result"
    }
   ],
   "source": [
    "museums.iloc[25]"
   ]
  },
  {
   "cell_type": "code",
   "execution_count": 11,
   "metadata": {},
   "outputs": [
    {
     "data": {
      "text/plain": [
       "(61, 10)"
      ]
     },
     "execution_count": 11,
     "metadata": {},
     "output_type": "execute_result"
    }
   ],
   "source": [
    "museums.shape"
   ]
  },
  {
   "cell_type": "code",
   "execution_count": 12,
   "metadata": {},
   "outputs": [
    {
     "data": {
      "text/plain": [
       "610"
      ]
     },
     "execution_count": 12,
     "metadata": {},
     "output_type": "execute_result"
    }
   ],
   "source": [
    "museums.size"
   ]
  },
  {
   "cell_type": "code",
   "execution_count": 13,
   "metadata": {},
   "outputs": [
    {
     "data": {
      "text/plain": [
       "RangeIndex(start=0, stop=61, step=1)"
      ]
     },
     "execution_count": 13,
     "metadata": {},
     "output_type": "execute_result"
    }
   ],
   "source": [
    "museums.index"
   ]
  },
  {
   "cell_type": "code",
   "execution_count": 14,
   "metadata": {},
   "outputs": [
    {
     "data": {
      "text/plain": [
       "name                     object\n",
       "category                 object\n",
       "schedule_1               object\n",
       "open_1                   object\n",
       "closed_1                 object\n",
       "city                     object\n",
       "ticket_1                 object\n",
       "ticket_price_1           object\n",
       "public_transportation    object\n",
       "distance_to_museum       object\n",
       "dtype: object"
      ]
     },
     "execution_count": 14,
     "metadata": {},
     "output_type": "execute_result"
    }
   ],
   "source": [
    "museums.dtypes"
   ]
  },
  {
   "cell_type": "markdown",
   "metadata": {},
   "source": [
    "## Working with Schedules"
   ]
  },
  {
   "cell_type": "code",
   "execution_count": 15,
   "metadata": {},
   "outputs": [
    {
     "data": {
      "image/png": "[encoded data removed]",
      "text/plain": [
       "<Figure size 432x288 with 1 Axes>"
      ]
     },
     "metadata": {
      "needs_background": "light"
     },
     "output_type": "display_data"
    }
   ],
   "source": [
    "# Top schedule 1\n",
    "schedule_1 = museums.filter([\"schedule_1\"], axis=1)\n",
    "schedule_1.drop(schedule_1.index[schedule_1['schedule_1'] == False], inplace=True)\n",
    "top_graph(schedule_1[\"schedule_1\"], \"Schedule 1\")"
   ]
  },
  {
   "cell_type": "markdown",
   "metadata": {},
   "source": [
    "## Generate sorted scheduleList"
   ]
  },
  {
   "cell_type": "code",
   "execution_count": 16,
   "metadata": {},
   "outputs": [],
   "source": [
    "schedule_list = [\"Senin\", \"Selasa\", \"Rabu\", \"Kamis\", \"Jumat\", \"Sabtu\", \"Minggu\"]"
   ]
  },
  {
   "cell_type": "markdown",
   "metadata": {},
   "source": [
    "## One hot encoding for multiple labels for all schedules"
   ]
  },
  {
   "cell_type": "code",
   "execution_count": 17,
   "metadata": {},
   "outputs": [],
   "source": [
    "museums[\"schedule_1_bin\"] = museums[\"schedule_1\"].apply(lambda x : binary(schedule_list, x))"
   ]
  },
  {
   "cell_type": "code",
   "execution_count": 18,
   "metadata": {},
   "outputs": [
    {
     "data": {
      "text/plain": [
       "0    [0, 1, 1, 1, 1, 1, 0]\n",
       "1    [0, 1, 1, 1, 1, 1, 1]\n",
       "2    [0, 1, 1, 1, 1, 1, 1]\n",
       "3    [0, 1, 1, 1, 1, 0, 0]\n",
       "4    [0, 1, 1, 1, 1, 1, 1]\n",
       "Name: schedule_1_bin, dtype: object"
      ]
     },
     "execution_count": 18,
     "metadata": {},
     "output_type": "execute_result"
    }
   ],
   "source": [
    "museums[\"schedule_1_bin\"].head()"
   ]
  },
  {
   "cell_type": "markdown",
   "metadata": {},
   "source": [
    "## Working with ticket category"
   ]
  },
  {
   "cell_type": "code",
   "execution_count": 19,
   "metadata": {},
   "outputs": [
    {
     "data": {
      "image/png": "[encoded data removed]",
      "text/plain": [
       "<Figure size 432x288 with 1 Axes>"
      ]
     },
     "metadata": {
      "needs_background": "light"
     },
     "output_type": "display_data"
    }
   ],
   "source": [
    "ticket_1 = museums.filter([\"ticket_1\"], axis=1)\n",
    "ticket_1.drop(ticket_1.index[ticket_1['ticket_1'] == False], inplace=True)\n",
    "top_graph(ticket_1[\"ticket_1\"], \"Ticket 1\")"
   ]
  },
  {
   "cell_type": "markdown",
   "metadata": {},
   "source": [
    "## Generate sorted ticket category"
   ]
  },
  {
   "cell_type": "code",
   "execution_count": 20,
   "metadata": {},
   "outputs": [
    {
     "data": {
      "text/plain": [
       "['Anak - Anak',\n",
       " 'Dewasa',\n",
       " 'HUT TNI 5 Oktober',\n",
       " 'Kereta',\n",
       " 'Lansia',\n",
       " 'Mahasiswa',\n",
       " 'Masuk',\n",
       " 'Nasabah',\n",
       " 'Pelajar',\n",
       " 'Pesawat',\n",
       " 'Reservasi',\n",
       " 'Rombongan',\n",
       " 'Umum',\n",
       " 'Wisatawan Mancanegara']"
      ]
     },
     "execution_count": 20,
     "metadata": {},
     "output_type": "execute_result"
    }
   ],
   "source": [
    "ticket_list = list(remove_duplicates(ticket_1[\"ticket_1\"]))\n",
    "ticket_list.sort()\n",
    "ticket_list"
   ]
  },
  {
   "cell_type": "markdown",
   "metadata": {},
   "source": [
    "## One hot encoding for multiple labels for all ticket category"
   ]
  },
  {
   "cell_type": "code",
   "execution_count": 21,
   "metadata": {},
   "outputs": [],
   "source": [
    "museums[\"ticket_1_bin\"] = museums[\"ticket_1\"].apply(lambda x : binary(ticket_list, x))"
   ]
  },
  {
   "cell_type": "code",
   "execution_count": 22,
   "metadata": {},
   "outputs": [
    {
     "data": {
      "text/plain": [
       "0    [1, 0, 0, 0, 0, 0, 0, 0, 1, 0, 0, 0, 1, 1]\n",
       "1    [0, 0, 0, 0, 0, 0, 0, 0, 0, 0, 0, 0, 1, 0]\n",
       "2    [0, 0, 0, 0, 0, 0, 0, 0, 0, 0, 0, 0, 1, 0]\n",
       "3    [0, 0, 0, 0, 0, 0, 0, 0, 0, 0, 0, 0, 1, 0]\n",
       "4    [1, 1, 0, 0, 0, 0, 0, 0, 0, 0, 0, 0, 0, 0]\n",
       "Name: ticket_1_bin, dtype: object"
      ]
     },
     "execution_count": 22,
     "metadata": {},
     "output_type": "execute_result"
    }
   ],
   "source": [
    "museums[\"ticket_1_bin\"].head()"
   ]
  },
  {
   "cell_type": "markdown",
   "metadata": {},
   "source": [
    "## Working with ticket prices"
   ]
  },
  {
   "cell_type": "code",
   "execution_count": 23,
   "metadata": {},
   "outputs": [
    {
     "data": {
      "image/png": "[encoded data removed]",
      "text/plain": [
       "<Figure size 432x288 with 1 Axes>"
      ]
     },
     "metadata": {
      "needs_background": "light"
     },
     "output_type": "display_data"
    }
   ],
   "source": [
    "ticket_price_1 = museums.filter([\"ticket_price_1\"], axis=1)\n",
    "ticket_price_1.drop(ticket_price_1.index[ticket_price_1['ticket_price_1'] == False], inplace=True)\n",
    "top_graph(ticket_price_1[\"ticket_price_1\"], \"Ticket Price 1\")"
   ]
  },
  {
   "cell_type": "markdown",
   "metadata": {},
   "source": [
    "## Generate sorted ticket prices"
   ]
  },
  {
   "cell_type": "code",
   "execution_count": 24,
   "metadata": {},
   "outputs": [
    {
     "data": {
      "text/plain": [
       "[0,\n",
       " 1000,\n",
       " 2000,\n",
       " 2500,\n",
       " 3000,\n",
       " 4000,\n",
       " 5000,\n",
       " 10000,\n",
       " 15000,\n",
       " 20000,\n",
       " 25000,\n",
       " 30000,\n",
       " 75000,\n",
       " 80000,\n",
       " 90000,\n",
       " 100000,\n",
       " 125000]"
      ]
     },
     "execution_count": 24,
     "metadata": {},
     "output_type": "execute_result"
    }
   ],
   "source": [
    "ticket_price_list = list(map(int, remove_duplicates(ticket_price_1[\"ticket_price_1\"])))\n",
    "ticket_price_list.sort()\n",
    "ticket_price_list"
   ]
  },
  {
   "cell_type": "markdown",
   "metadata": {},
   "source": [
    "## One hot encoding for multiple labels for all ticket prices"
   ]
  },
  {
   "cell_type": "code",
   "execution_count": 25,
   "metadata": {},
   "outputs": [],
   "source": [
    "museums[\"ticket_price_1_bin\"] = museums[\"ticket_price_1\"].apply(lambda x : binary(ticket_price_list, x))"
   ]
  },
  {
   "cell_type": "code",
   "execution_count": 26,
   "metadata": {},
   "outputs": [
    {
     "data": {
      "text/plain": [
       "0    [0, 0, 0, 0, 0, 0, 0, 0, 0, 0, 0, 0, 0, 0, 0, ...\n",
       "1    [0, 0, 0, 0, 0, 0, 0, 0, 0, 0, 0, 0, 0, 0, 0, ...\n",
       "2    [0, 0, 0, 0, 0, 0, 0, 0, 0, 0, 0, 0, 0, 0, 0, ...\n",
       "3    [0, 0, 0, 0, 0, 0, 0, 0, 0, 0, 0, 0, 0, 0, 0, ...\n",
       "4    [0, 0, 0, 0, 0, 0, 0, 0, 0, 0, 0, 0, 0, 0, 0, ...\n",
       "Name: ticket_price_1_bin, dtype: object"
      ]
     },
     "execution_count": 26,
     "metadata": {},
     "output_type": "execute_result"
    }
   ],
   "source": [
    "museums[\"ticket_price_1_bin\"].head()"
   ]
  },
  {
   "cell_type": "markdown",
   "metadata": {},
   "source": [
    "## Working with public transportation"
   ]
  },
  {
   "cell_type": "code",
   "execution_count": 27,
   "metadata": {},
   "outputs": [
    {
     "data": {
      "image/png": "[encoded data removed]",
      "text/plain": [
       "<Figure size 432x288 with 1 Axes>"
      ]
     },
     "metadata": {
      "needs_background": "light"
     },
     "output_type": "display_data"
    }
   ],
   "source": [
    "public_transportation = museums.filter([\"public_transportation\"], axis=1)\n",
    "public_transportation.drop(public_transportation.index[public_transportation['public_transportation'] == False], inplace=True)\n",
    "top_graph(public_transportation[\"public_transportation\"], \"Public Transportation\")"
   ]
  },
  {
   "cell_type": "markdown",
   "metadata": {},
   "source": [
    "## Generate sorted public transportation"
   ]
  },
  {
   "cell_type": "code",
   "execution_count": 28,
   "metadata": {},
   "outputs": [
    {
     "data": {
      "text/plain": [
       "['Bandara Halim Perdanakusuma',\n",
       " 'Bandara Soekarno - Hatta',\n",
       " 'Stasiun Cawang',\n",
       " 'Stasiun Cikini',\n",
       " 'Stasiun Gambir',\n",
       " 'Stasiun Gondangdia',\n",
       " 'Stasiun Grogol',\n",
       " 'Stasiun Jakarta Utara',\n",
       " 'Stasiun Juanda',\n",
       " 'Stasiun Karet',\n",
       " 'Stasiun Kemayoran',\n",
       " 'Stasiun Kota',\n",
       " 'Stasiun Manggarai',\n",
       " 'Stasiun Palmerah',\n",
       " 'Stasiun Pasar Minggu',\n",
       " 'Stasiun Pasar Senen',\n",
       " 'Stasiun Rajawali',\n",
       " 'Stasiun Sawah Besar',\n",
       " 'Stasiun Senen',\n",
       " 'Stasiun Sentiong',\n",
       " 'Stasiun Sudirman',\n",
       " 'Stasiun Tanah Abang',\n",
       " 'Stasiun Tanjung Barat',\n",
       " 'Stasiun Tebet',\n",
       " 'Terminal Blok M',\n",
       " 'Terminal Grogol',\n",
       " 'Terminal Kalideres',\n",
       " 'Terminal Kampung Melayu',\n",
       " 'Terminal Kampung Rambutan',\n",
       " 'Terminal Kebon Jeruk',\n",
       " 'Terminal Manggarai',\n",
       " 'Terminal Pasar Minggu',\n",
       " 'Terminal Pasar Senen',\n",
       " 'Terminal Pulo Gadung',\n",
       " 'Terminal Rawamangun',\n",
       " 'Terminal Senen',\n",
       " 'Terminal Tanah Abang']"
      ]
     },
     "execution_count": 28,
     "metadata": {},
     "output_type": "execute_result"
    }
   ],
   "source": [
    "transportation_list = list(remove_duplicates(public_transportation[\"public_transportation\"]))\n",
    "transportation_list.sort()\n",
    "transportation_list"
   ]
  },
  {
   "cell_type": "markdown",
   "metadata": {},
   "source": [
    "## One hot encoding for multiple labels for public transportation"
   ]
  },
  {
   "cell_type": "code",
   "execution_count": 29,
   "metadata": {},
   "outputs": [],
   "source": [
    "museums[\"public_transportation_bin\"] = museums[\"public_transportation\"].apply(lambda x : binary(transportation_list, x))"
   ]
  },
  {
   "cell_type": "code",
   "execution_count": 30,
   "metadata": {},
   "outputs": [
    {
     "data": {
      "text/plain": [
       "0    [1, 0, 0, 0, 0, 0, 0, 0, 0, 0, 1, 0, 0, 0, 0, ...\n",
       "1    [1, 1, 0, 0, 1, 0, 0, 0, 0, 0, 0, 0, 0, 0, 0, ...\n",
       "2    [1, 1, 0, 0, 1, 0, 0, 0, 0, 0, 0, 0, 0, 0, 0, ...\n",
       "3    [1, 1, 0, 0, 0, 0, 0, 0, 0, 0, 0, 0, 0, 0, 0, ...\n",
       "4    [1, 1, 0, 0, 1, 0, 0, 0, 0, 0, 0, 0, 0, 0, 0, ...\n",
       "Name: public_transportation_bin, dtype: object"
      ]
     },
     "execution_count": 30,
     "metadata": {},
     "output_type": "execute_result"
    }
   ],
   "source": [
    "museums[\"public_transportation_bin\"].head()"
   ]
  },
  {
   "cell_type": "markdown",
   "metadata": {},
   "source": [
    "## Working with public transportation distance to museums"
   ]
  },
  {
   "cell_type": "code",
   "execution_count": 31,
   "metadata": {},
   "outputs": [
    {
     "data": {
      "image/png": "[encoded data removed]",
      "text/plain": [
       "<Figure size 432x288 with 1 Axes>"
      ]
     },
     "metadata": {
      "needs_background": "light"
     },
     "output_type": "display_data"
    }
   ],
   "source": [
    "distance_to_museum = museums.filter([\"distance_to_museum\"], axis=1)\n",
    "distance_to_museum.drop(distance_to_museum.index[distance_to_museum['distance_to_museum'] == False], inplace=True)\n",
    "top_graph(distance_to_museum[\"distance_to_museum\"], \"Distance to a Museum in Kilometers\")"
   ]
  },
  {
   "cell_type": "markdown",
   "metadata": {},
   "source": [
    "## Generate sorted distance"
   ]
  },
  {
   "cell_type": "code",
   "execution_count": 32,
   "metadata": {},
   "outputs": [
    {
     "data": {
      "text/plain": [
       "[0.4,\n",
       " 0.5,\n",
       " 0.75,\n",
       " 0.8,\n",
       " 0.85,\n",
       " 1.0,\n",
       " 1.2,\n",
       " 1.9,\n",
       " 2.0,\n",
       " 2.3,\n",
       " 2.6,\n",
       " 2.7,\n",
       " 2.8,\n",
       " 3.0,\n",
       " 3.1,\n",
       " 3.2,\n",
       " 3.3,\n",
       " 3.5,\n",
       " 3.6,\n",
       " 3.8,\n",
       " 3.9,\n",
       " 4.0,\n",
       " 4.1,\n",
       " 4.3,\n",
       " 4.4,\n",
       " 4.7,\n",
       " 4.8,\n",
       " 4.9,\n",
       " 5.0,\n",
       " 5.1,\n",
       " 5.3,\n",
       " 5.6,\n",
       " 5.7,\n",
       " 5.8,\n",
       " 5.9,\n",
       " 6.0,\n",
       " 6.1,\n",
       " 6.4,\n",
       " 6.6,\n",
       " 6.7,\n",
       " 6.8,\n",
       " 6.9,\n",
       " 7.0,\n",
       " 7.5,\n",
       " 7.6,\n",
       " 8.0,\n",
       " 8.2,\n",
       " 8.3,\n",
       " 8.8,\n",
       " 9.0,\n",
       " 9.2,\n",
       " 10.0,\n",
       " 10.2,\n",
       " 10.3,\n",
       " 10.5,\n",
       " 10.6,\n",
       " 10.8,\n",
       " 10.9,\n",
       " 11.0,\n",
       " 11.1,\n",
       " 11.2,\n",
       " 11.8,\n",
       " 11.9,\n",
       " 12.0,\n",
       " 12.3,\n",
       " 12.6,\n",
       " 12.7,\n",
       " 13.0,\n",
       " 13.2,\n",
       " 13.3,\n",
       " 13.4,\n",
       " 13.6,\n",
       " 13.8,\n",
       " 13.9,\n",
       " 14.0,\n",
       " 14.1,\n",
       " 14.7,\n",
       " 15.0,\n",
       " 15.1,\n",
       " 16.0,\n",
       " 16.1,\n",
       " 16.3,\n",
       " 16.4,\n",
       " 16.8,\n",
       " 17.6,\n",
       " 17.7,\n",
       " 18.0,\n",
       " 18.1,\n",
       " 18.2,\n",
       " 18.3,\n",
       " 18.6,\n",
       " 19.0,\n",
       " 19.5,\n",
       " 19.7,\n",
       " 19.9,\n",
       " 20.0,\n",
       " 20.3,\n",
       " 20.4,\n",
       " 20.8,\n",
       " 20.9,\n",
       " 21.0,\n",
       " 21.1,\n",
       " 21.3,\n",
       " 21.5,\n",
       " 21.6,\n",
       " 21.7,\n",
       " 21.8,\n",
       " 22.0,\n",
       " 22.1,\n",
       " 22.2,\n",
       " 22.3,\n",
       " 22.6,\n",
       " 22.7,\n",
       " 23.0,\n",
       " 23.6,\n",
       " 23.8,\n",
       " 23.9,\n",
       " 24.0,\n",
       " 24.1,\n",
       " 24.2,\n",
       " 24.3,\n",
       " 24.4,\n",
       " 24.9,\n",
       " 25.0,\n",
       " 25.2,\n",
       " 25.8,\n",
       " 26.0,\n",
       " 26.2,\n",
       " 26.9,\n",
       " 27.0,\n",
       " 27.2,\n",
       " 27.8,\n",
       " 28.0,\n",
       " 28.2,\n",
       " 28.6,\n",
       " 29.0,\n",
       " 29.4,\n",
       " 29.6,\n",
       " 29.9,\n",
       " 30.0,\n",
       " 30.7,\n",
       " 30.8,\n",
       " 31.0,\n",
       " 31.4,\n",
       " 31.7,\n",
       " 31.8,\n",
       " 31.9,\n",
       " 32.0,\n",
       " 33.0,\n",
       " 33.3,\n",
       " 33.9,\n",
       " 34.4,\n",
       " 39.0,\n",
       " 39.8,\n",
       " 40.0,\n",
       " 44.6,\n",
       " 45.0,\n",
       " 45.3,\n",
       " 45.8,\n",
       " 45.9,\n",
       " 46.0,\n",
       " 46.2,\n",
       " 46.4,\n",
       " 48.0,\n",
       " 53.0]"
      ]
     },
     "execution_count": 32,
     "metadata": {},
     "output_type": "execute_result"
    }
   ],
   "source": [
    "distance_list = list(map(float, remove_duplicates(distance_to_museum[\"distance_to_museum\"])))\n",
    "distance_list.sort()\n",
    "distance_list"
   ]
  },
  {
   "cell_type": "markdown",
   "metadata": {},
   "source": [
    "## One hot encoding for multiple labels for distance"
   ]
  },
  {
   "cell_type": "code",
   "execution_count": 33,
   "metadata": {},
   "outputs": [],
   "source": [
    "museums[\"distance_bin\"] = museums[\"distance_to_museum\"].apply(lambda x : binary(distance_list, list(map(float, x))))"
   ]
  },
  {
   "cell_type": "code",
   "execution_count": 34,
   "metadata": {},
   "outputs": [
    {
     "data": {
      "text/plain": [
       "0    [0, 0, 1, 0, 0, 0, 0, 0, 0, 0, 0, 0, 0, 0, 0, ...\n",
       "1    [0, 0, 0, 0, 0, 0, 0, 0, 0, 0, 0, 0, 0, 0, 0, ...\n",
       "2    [0, 0, 0, 0, 0, 1, 0, 0, 0, 0, 0, 0, 0, 1, 0, ...\n",
       "3    [0, 0, 0, 0, 0, 0, 0, 0, 0, 0, 0, 0, 0, 0, 0, ...\n",
       "4    [0, 0, 0, 0, 1, 0, 0, 0, 0, 0, 0, 0, 0, 1, 0, ...\n",
       "Name: distance_bin, dtype: object"
      ]
     },
     "execution_count": 34,
     "metadata": {},
     "output_type": "execute_result"
    }
   ],
   "source": [
    "museums[\"distance_bin\"].head()"
   ]
  },
  {
   "cell_type": "markdown",
   "metadata": {},
   "source": [
    "## Working with category"
   ]
  },
  {
   "cell_type": "code",
   "execution_count": 35,
   "metadata": {},
   "outputs": [
    {
     "data": {
      "image/png": "[encoded data removed]",
      "text/plain": [
       "<Figure size 432x288 with 1 Axes>"
      ]
     },
     "metadata": {
      "needs_background": "light"
     },
     "output_type": "display_data"
    }
   ],
   "source": [
    "category = museums.filter([\"category\"], axis=1)\n",
    "category.drop(category.index[category['category'] == False], inplace=True)\n",
    "top_graph(category[\"category\"], \"Category\")"
   ]
  },
  {
   "cell_type": "markdown",
   "metadata": {},
   "source": [
    "## Generate sorted category"
   ]
  },
  {
   "cell_type": "code",
   "execution_count": 36,
   "metadata": {},
   "outputs": [
    {
     "data": {
      "text/plain": [
       "['Agama', 'Fauna', 'Militer', 'Sains', 'Sejarah', 'Seni', 'Transportasi']"
      ]
     },
     "execution_count": 36,
     "metadata": {},
     "output_type": "execute_result"
    }
   ],
   "source": [
    "category_list = list(remove_duplicates(category[\"category\"]))\n",
    "category_list.sort()\n",
    "category_list"
   ]
  },
  {
   "cell_type": "markdown",
   "metadata": {},
   "source": [
    "## One hot encoding for multiple labels for category"
   ]
  },
  {
   "cell_type": "code",
   "execution_count": 37,
   "metadata": {},
   "outputs": [],
   "source": [
    "museums[\"category_bin\"] = museums[\"category\"].apply(lambda x : binary(category_list, x))"
   ]
  },
  {
   "cell_type": "code",
   "execution_count": 38,
   "metadata": {},
   "outputs": [
    {
     "data": {
      "text/plain": [
       "0    [0, 0, 0, 0, 0, 1, 0]\n",
       "1    [1, 0, 0, 0, 0, 0, 0]\n",
       "2    [0, 0, 0, 0, 1, 0, 0]\n",
       "3    [0, 0, 0, 0, 0, 1, 0]\n",
       "4    [0, 0, 0, 0, 1, 0, 0]\n",
       "Name: category_bin, dtype: object"
      ]
     },
     "execution_count": 38,
     "metadata": {},
     "output_type": "execute_result"
    }
   ],
   "source": [
    "museums[\"category_bin\"].head()"
   ]
  },
  {
   "cell_type": "markdown",
   "metadata": {},
   "source": [
    "## Working with open time"
   ]
  },
  {
   "cell_type": "code",
   "execution_count": 39,
   "metadata": {},
   "outputs": [
    {
     "data": {
      "image/png": "[encoded data removed]",
      "text/plain": [
       "<Figure size 432x288 with 1 Axes>"
      ]
     },
     "metadata": {
      "needs_background": "light"
     },
     "output_type": "display_data"
    }
   ],
   "source": [
    "open_1 = museums.filter([\"open_1\"], axis=1)\n",
    "open_1.drop(open_1.index[open_1['open_1'] == False], inplace=True)\n",
    "top_graph(open_1[\"open_1\"], \"Open Time 1\")"
   ]
  },
  {
   "cell_type": "markdown",
   "metadata": {},
   "source": [
    "## Generate sorted open time"
   ]
  },
  {
   "cell_type": "code",
   "execution_count": 40,
   "metadata": {},
   "outputs": [
    {
     "data": {
      "text/plain": [
       "['07:00', '08:00', '08:30', '09:00', '09:30', '10:00', '12:00']"
      ]
     },
     "execution_count": 40,
     "metadata": {},
     "output_type": "execute_result"
    }
   ],
   "source": [
    "open_list = list(remove_duplicates(open_1[\"open_1\"]))\n",
    "open_list.sort()\n",
    "open_list"
   ]
  },
  {
   "cell_type": "markdown",
   "metadata": {},
   "source": [
    "## One hot encoding for multiple labels for open time"
   ]
  },
  {
   "cell_type": "code",
   "execution_count": 41,
   "metadata": {},
   "outputs": [],
   "source": [
    "museums[\"open_1_bin\"] = museums[\"open_1\"].apply(lambda x : binary(open_list, x))"
   ]
  },
  {
   "cell_type": "markdown",
   "metadata": {},
   "source": [
    "## Working with close time"
   ]
  },
  {
   "cell_type": "code",
   "execution_count": 42,
   "metadata": {},
   "outputs": [
    {
     "data": {
      "image/png": "[encoded data removed]",
      "text/plain": [
       "<Figure size 432x288 with 1 Axes>"
      ]
     },
     "metadata": {
      "needs_background": "light"
     },
     "output_type": "display_data"
    }
   ],
   "source": [
    "closed_1 = museums.filter([\"closed_1\"], axis=1)\n",
    "closed_1.drop(closed_1.index[closed_1['closed_1'] == False], inplace=True)\n",
    "top_graph(closed_1[\"closed_1\"], \"Closed Time 1\")"
   ]
  },
  {
   "cell_type": "markdown",
   "metadata": {},
   "source": [
    "## Generate sorted closed time"
   ]
  },
  {
   "cell_type": "code",
   "execution_count": 43,
   "metadata": {},
   "outputs": [
    {
     "data": {
      "text/plain": [
       "['13:00',\n",
       " '14:00',\n",
       " '15:00',\n",
       " '15:30',\n",
       " '16:00',\n",
       " '16:30',\n",
       " '17:00',\n",
       " '18:00',\n",
       " '19:00',\n",
       " '20:00']"
      ]
     },
     "execution_count": 43,
     "metadata": {},
     "output_type": "execute_result"
    }
   ],
   "source": [
    "closed_list = list(remove_duplicates(closed_1[\"closed_1\"]))\n",
    "closed_list.sort()\n",
    "closed_list"
   ]
  },
  {
   "cell_type": "markdown",
   "metadata": {},
   "source": [
    "## One hot encoding for multiple labels for closed time"
   ]
  },
  {
   "cell_type": "code",
   "execution_count": 44,
   "metadata": {},
   "outputs": [],
   "source": [
    "museums[\"closed_1_bin\"] = museums[\"closed_1\"].apply(lambda x : binary(closed_list, x))"
   ]
  },
  {
   "cell_type": "code",
   "execution_count": 45,
   "metadata": {},
   "outputs": [
    {
     "data": {
      "text/plain": [
       "0    [0, 0, 0, 0, 0, 0, 0, 0, 0, 1]\n",
       "1    [0, 0, 1, 0, 0, 0, 0, 0, 0, 0]\n",
       "2    [0, 0, 0, 0, 0, 0, 0, 0, 0, 1]\n",
       "3    [0, 0, 0, 0, 1, 0, 0, 0, 0, 0]\n",
       "4    [0, 0, 0, 0, 1, 0, 0, 0, 0, 0]\n",
       "Name: closed_1_bin, dtype: object"
      ]
     },
     "execution_count": 45,
     "metadata": {},
     "output_type": "execute_result"
    }
   ],
   "source": [
    "museums[\"closed_1_bin\"].head()"
   ]
  },
  {
   "cell_type": "markdown",
   "metadata": {},
   "source": [
    "## Working with city"
   ]
  },
  {
   "cell_type": "code",
   "execution_count": 46,
   "metadata": {},
   "outputs": [
    {
     "data": {
      "image/png": "[encoded data removed]",
      "text/plain": [
       "<Figure size 432x288 with 1 Axes>"
      ]
     },
     "metadata": {
      "needs_background": "light"
     },
     "output_type": "display_data"
    }
   ],
   "source": [
    "city = museums.filter([\"city\"], axis=1)\n",
    "city.drop(category.index[city['city'] == False], inplace=True)\n",
    "top_graph(city[\"city\"], \"City\")"
   ]
  },
  {
   "cell_type": "markdown",
   "metadata": {},
   "source": [
    "## Generate sorted city"
   ]
  },
  {
   "cell_type": "code",
   "execution_count": 47,
   "metadata": {},
   "outputs": [
    {
     "data": {
      "text/plain": [
       "['Jakarta Barat',\n",
       " 'Jakarta Pusat',\n",
       " 'Jakarta Selatan',\n",
       " 'Jakarta Timur',\n",
       " 'Jakarta Utara']"
      ]
     },
     "execution_count": 47,
     "metadata": {},
     "output_type": "execute_result"
    }
   ],
   "source": [
    "city_list = list(remove_duplicates(city[\"city\"]))\n",
    "city_list.sort()\n",
    "city_list"
   ]
  },
  {
   "cell_type": "markdown",
   "metadata": {},
   "source": [
    "## One hot encoding for multiple labels for city"
   ]
  },
  {
   "cell_type": "code",
   "execution_count": 48,
   "metadata": {},
   "outputs": [],
   "source": [
    "museums[\"city_bin\"] = museums[\"city\"].apply(lambda x : binary(city_list, x))"
   ]
  },
  {
   "cell_type": "code",
   "execution_count": 49,
   "metadata": {},
   "outputs": [
    {
     "data": {
      "text/plain": [
       "0    [0, 1, 0, 0, 0]\n",
       "1    [0, 0, 0, 1, 0]\n",
       "2    [0, 1, 0, 0, 0]\n",
       "3    [0, 1, 0, 0, 0]\n",
       "4    [0, 1, 0, 0, 0]\n",
       "Name: city_bin, dtype: object"
      ]
     },
     "execution_count": 49,
     "metadata": {},
     "output_type": "execute_result"
    }
   ],
   "source": [
    "museums[\"city_bin\"].head()"
   ]
  },
  {
   "cell_type": "markdown",
   "metadata": {},
   "source": [
    "# Experiment"
   ]
  },
  {
   "cell_type": "code",
   "execution_count": 50,
   "metadata": {},
   "outputs": [
    {
     "data": {
      "text/plain": [
       "Index(['name', 'category', 'schedule_1', 'open_1', 'closed_1', 'city',\n",
       "       'ticket_1', 'ticket_price_1', 'public_transportation',\n",
       "       'distance_to_museum', 'schedule_1_bin', 'ticket_1_bin',\n",
       "       'ticket_price_1_bin', 'public_transportation_bin', 'distance_bin',\n",
       "       'category_bin', 'open_1_bin', 'closed_1_bin', 'city_bin'],\n",
       "      dtype='object')"
      ]
     },
     "execution_count": 50,
     "metadata": {},
     "output_type": "execute_result"
    }
   ],
   "source": [
    "museums.columns"
   ]
  },
  {
   "cell_type": "code",
   "execution_count": 51,
   "metadata": {},
   "outputs": [
    {
     "data": {
      "text/html": [
       "<div>\n",
       "<style scoped>\n",
       "    .dataframe tbody tr th:only-of-type {\n",
       "        vertical-align: middle;\n",
       "    }\n",
       "\n",
       "    .dataframe tbody tr th {\n",
       "        vertical-align: top;\n",
       "    }\n",
       "\n",
       "    .dataframe thead th {\n",
       "        text-align: right;\n",
       "    }\n",
       "</style>\n",
       "<table border=\"1\" class=\"dataframe\">\n",
       "  <thead>\n",
       "    <tr style=\"text-align: right;\">\n",
       "      <th></th>\n",
       "      <th>name</th>\n",
       "      <th>schedule_1_bin</th>\n",
       "      <th>ticket_1_bin</th>\n",
       "      <th>ticket_price_1_bin</th>\n",
       "      <th>public_transportation_bin</th>\n",
       "      <th>distance_bin</th>\n",
       "      <th>category_bin</th>\n",
       "      <th>open_1_bin</th>\n",
       "      <th>closed_1_bin</th>\n",
       "      <th>city_bin</th>\n",
       "    </tr>\n",
       "  </thead>\n",
       "  <tbody>\n",
       "    <tr>\n",
       "      <th>0</th>\n",
       "      <td>Art: 1 New Museum</td>\n",
       "      <td>[0, 1, 1, 1, 1, 1, 0]</td>\n",
       "      <td>[1, 0, 0, 0, 0, 0, 0, 0, 1, 0, 0, 0, 1, 1]</td>\n",
       "      <td>[0, 0, 0, 0, 0, 0, 0, 0, 0, 0, 0, 0, 0, 0, 0, ...</td>\n",
       "      <td>[1, 0, 0, 0, 0, 0, 0, 0, 0, 0, 1, 0, 0, 0, 0, ...</td>\n",
       "      <td>[0, 0, 1, 0, 0, 0, 0, 0, 0, 0, 0, 0, 0, 0, 0, ...</td>\n",
       "      <td>[0, 0, 0, 0, 0, 1, 0]</td>\n",
       "      <td>[0, 0, 0, 0, 0, 1, 0]</td>\n",
       "      <td>[0, 0, 0, 0, 0, 0, 0, 0, 0, 1]</td>\n",
       "      <td>[0, 1, 0, 0, 0]</td>\n",
       "    </tr>\n",
       "    <tr>\n",
       "      <th>1</th>\n",
       "      <td>Bayt Al-Qur’an dan Museum Istiqlal</td>\n",
       "      <td>[0, 1, 1, 1, 1, 1, 1]</td>\n",
       "      <td>[0, 0, 0, 0, 0, 0, 0, 0, 0, 0, 0, 0, 1, 0]</td>\n",
       "      <td>[0, 0, 0, 0, 0, 0, 0, 0, 0, 0, 0, 0, 0, 0, 0, ...</td>\n",
       "      <td>[1, 1, 0, 0, 1, 0, 0, 0, 0, 0, 0, 0, 0, 0, 0, ...</td>\n",
       "      <td>[0, 0, 0, 0, 0, 0, 0, 0, 0, 0, 0, 0, 0, 0, 0, ...</td>\n",
       "      <td>[1, 0, 0, 0, 0, 0, 0]</td>\n",
       "      <td>[0, 0, 1, 0, 0, 0, 0]</td>\n",
       "      <td>[0, 0, 1, 0, 0, 0, 0, 0, 0, 0]</td>\n",
       "      <td>[0, 0, 0, 1, 0]</td>\n",
       "    </tr>\n",
       "    <tr>\n",
       "      <th>2</th>\n",
       "      <td>Galeri Foto Jurnalistik Antara</td>\n",
       "      <td>[0, 1, 1, 1, 1, 1, 1]</td>\n",
       "      <td>[0, 0, 0, 0, 0, 0, 0, 0, 0, 0, 0, 0, 1, 0]</td>\n",
       "      <td>[0, 0, 0, 0, 0, 0, 0, 0, 0, 0, 0, 0, 0, 0, 0, ...</td>\n",
       "      <td>[1, 1, 0, 0, 1, 0, 0, 0, 0, 0, 0, 0, 0, 0, 0, ...</td>\n",
       "      <td>[0, 0, 0, 0, 0, 1, 0, 0, 0, 0, 0, 0, 0, 1, 0, ...</td>\n",
       "      <td>[0, 0, 0, 0, 1, 0, 0]</td>\n",
       "      <td>[0, 0, 0, 0, 0, 1, 0]</td>\n",
       "      <td>[0, 0, 0, 0, 0, 0, 0, 0, 0, 1]</td>\n",
       "      <td>[0, 1, 0, 0, 0]</td>\n",
       "    </tr>\n",
       "    <tr>\n",
       "      <th>3</th>\n",
       "      <td>Galeri Nasional Indonesia</td>\n",
       "      <td>[0, 1, 1, 1, 1, 0, 0]</td>\n",
       "      <td>[0, 0, 0, 0, 0, 0, 0, 0, 0, 0, 0, 0, 1, 0]</td>\n",
       "      <td>[0, 0, 0, 0, 0, 0, 0, 0, 0, 0, 0, 0, 0, 0, 0, ...</td>\n",
       "      <td>[1, 1, 0, 0, 0, 0, 0, 0, 0, 0, 0, 0, 0, 0, 0, ...</td>\n",
       "      <td>[0, 0, 0, 0, 0, 0, 0, 0, 0, 0, 0, 0, 0, 0, 0, ...</td>\n",
       "      <td>[0, 0, 0, 0, 0, 1, 0]</td>\n",
       "      <td>[0, 0, 0, 1, 0, 0, 0]</td>\n",
       "      <td>[0, 0, 0, 0, 1, 0, 0, 0, 0, 0]</td>\n",
       "      <td>[0, 1, 0, 0, 0]</td>\n",
       "    </tr>\n",
       "    <tr>\n",
       "      <th>4</th>\n",
       "      <td>Monumen Nasional</td>\n",
       "      <td>[0, 1, 1, 1, 1, 1, 1]</td>\n",
       "      <td>[1, 1, 0, 0, 0, 0, 0, 0, 0, 0, 0, 0, 0, 0]</td>\n",
       "      <td>[0, 0, 0, 0, 0, 0, 0, 0, 0, 0, 0, 0, 0, 0, 0, ...</td>\n",
       "      <td>[1, 1, 0, 0, 1, 0, 0, 0, 0, 0, 0, 0, 0, 0, 0, ...</td>\n",
       "      <td>[0, 0, 0, 0, 1, 0, 0, 0, 0, 0, 0, 0, 0, 1, 0, ...</td>\n",
       "      <td>[0, 0, 0, 0, 1, 0, 0]</td>\n",
       "      <td>[0, 1, 0, 0, 0, 0, 0]</td>\n",
       "      <td>[0, 0, 0, 0, 1, 0, 0, 0, 0, 0]</td>\n",
       "      <td>[0, 1, 0, 0, 0]</td>\n",
       "    </tr>\n",
       "  </tbody>\n",
       "</table>\n",
       "</div>"
      ],
      "text/plain": [
       "                                 name         schedule_1_bin  \\\n",
       "0                   Art: 1 New Museum  [0, 1, 1, 1, 1, 1, 0]   \n",
       "1  Bayt Al-Qur’an dan Museum Istiqlal  [0, 1, 1, 1, 1, 1, 1]   \n",
       "2      Galeri Foto Jurnalistik Antara  [0, 1, 1, 1, 1, 1, 1]   \n",
       "3           Galeri Nasional Indonesia  [0, 1, 1, 1, 1, 0, 0]   \n",
       "4                    Monumen Nasional  [0, 1, 1, 1, 1, 1, 1]   \n",
       "\n",
       "                                 ticket_1_bin  \\\n",
       "0  [1, 0, 0, 0, 0, 0, 0, 0, 1, 0, 0, 0, 1, 1]   \n",
       "1  [0, 0, 0, 0, 0, 0, 0, 0, 0, 0, 0, 0, 1, 0]   \n",
       "2  [0, 0, 0, 0, 0, 0, 0, 0, 0, 0, 0, 0, 1, 0]   \n",
       "3  [0, 0, 0, 0, 0, 0, 0, 0, 0, 0, 0, 0, 1, 0]   \n",
       "4  [1, 1, 0, 0, 0, 0, 0, 0, 0, 0, 0, 0, 0, 0]   \n",
       "\n",
       "                                  ticket_price_1_bin  \\\n",
       "0  [0, 0, 0, 0, 0, 0, 0, 0, 0, 0, 0, 0, 0, 0, 0, ...   \n",
       "1  [0, 0, 0, 0, 0, 0, 0, 0, 0, 0, 0, 0, 0, 0, 0, ...   \n",
       "2  [0, 0, 0, 0, 0, 0, 0, 0, 0, 0, 0, 0, 0, 0, 0, ...   \n",
       "3  [0, 0, 0, 0, 0, 0, 0, 0, 0, 0, 0, 0, 0, 0, 0, ...   \n",
       "4  [0, 0, 0, 0, 0, 0, 0, 0, 0, 0, 0, 0, 0, 0, 0, ...   \n",
       "\n",
       "                           public_transportation_bin  \\\n",
       "0  [1, 0, 0, 0, 0, 0, 0, 0, 0, 0, 1, 0, 0, 0, 0, ...   \n",
       "1  [1, 1, 0, 0, 1, 0, 0, 0, 0, 0, 0, 0, 0, 0, 0, ...   \n",
       "2  [1, 1, 0, 0, 1, 0, 0, 0, 0, 0, 0, 0, 0, 0, 0, ...   \n",
       "3  [1, 1, 0, 0, 0, 0, 0, 0, 0, 0, 0, 0, 0, 0, 0, ...   \n",
       "4  [1, 1, 0, 0, 1, 0, 0, 0, 0, 0, 0, 0, 0, 0, 0, ...   \n",
       "\n",
       "                                        distance_bin           category_bin  \\\n",
       "0  [0, 0, 1, 0, 0, 0, 0, 0, 0, 0, 0, 0, 0, 0, 0, ...  [0, 0, 0, 0, 0, 1, 0]   \n",
       "1  [0, 0, 0, 0, 0, 0, 0, 0, 0, 0, 0, 0, 0, 0, 0, ...  [1, 0, 0, 0, 0, 0, 0]   \n",
       "2  [0, 0, 0, 0, 0, 1, 0, 0, 0, 0, 0, 0, 0, 1, 0, ...  [0, 0, 0, 0, 1, 0, 0]   \n",
       "3  [0, 0, 0, 0, 0, 0, 0, 0, 0, 0, 0, 0, 0, 0, 0, ...  [0, 0, 0, 0, 0, 1, 0]   \n",
       "4  [0, 0, 0, 0, 1, 0, 0, 0, 0, 0, 0, 0, 0, 1, 0, ...  [0, 0, 0, 0, 1, 0, 0]   \n",
       "\n",
       "              open_1_bin                    closed_1_bin         city_bin  \n",
       "0  [0, 0, 0, 0, 0, 1, 0]  [0, 0, 0, 0, 0, 0, 0, 0, 0, 1]  [0, 1, 0, 0, 0]  \n",
       "1  [0, 0, 1, 0, 0, 0, 0]  [0, 0, 1, 0, 0, 0, 0, 0, 0, 0]  [0, 0, 0, 1, 0]  \n",
       "2  [0, 0, 0, 0, 0, 1, 0]  [0, 0, 0, 0, 0, 0, 0, 0, 0, 1]  [0, 1, 0, 0, 0]  \n",
       "3  [0, 0, 0, 1, 0, 0, 0]  [0, 0, 0, 0, 1, 0, 0, 0, 0, 0]  [0, 1, 0, 0, 0]  \n",
       "4  [0, 1, 0, 0, 0, 0, 0]  [0, 0, 0, 0, 1, 0, 0, 0, 0, 0]  [0, 1, 0, 0, 0]  "
      ]
     },
     "execution_count": 51,
     "metadata": {},
     "output_type": "execute_result"
    }
   ],
   "source": [
    "# drop unused columns\n",
    "new_museums = museums.copy()\n",
    "new_museums.drop([\"category\", \"city\", \"open_1\", \"closed_1\", \"schedule_1\", \"ticket_1\", \"ticket_price_1\", \"public_transportation\", \"distance_to_museum\"], axis=1, inplace=True)\n",
    "new_museums.head()"
   ]
  },
  {
   "cell_type": "markdown",
   "metadata": {},
   "source": [
    "## Cosine Similarity Function"
   ]
  },
  {
   "cell_type": "code",
   "execution_count": 52,
   "metadata": {},
   "outputs": [],
   "source": [
    "def cosine_distance(museum_id_1, museum_id_2):\n",
    "    \"\"\"\n",
    "    Search similarity with cosine distance\n",
    "    \"\"\"\n",
    "    a = new_museums.iloc[museum_id_1]\n",
    "    b = new_museums.iloc[museum_id_2]\n",
    "    distance = 0\n",
    "\n",
    "    def cosine(point1, point2):\n",
    "        w = 0\n",
    "        x = 0\n",
    "        y = 0\n",
    "        z = 0\n",
    "        for i in range(len(point1)):\n",
    "            x += (point1[i] * point2[i])\n",
    "            y += math.pow(point1[i], 2)\n",
    "            z += math.pow(point2[i], 2)\n",
    "        w = (math.sqrt(y) * math.sqrt(z))\n",
    "        return 1 - (x / w) if w != 0 else 0\n",
    "\n",
    "    for col, val in a.iteritems():\n",
    "        if col != \"name\":\n",
    "            distance += cosine(a[col], b[col])\n",
    "\n",
    "    return distance\n"
   ]
  },
  {
   "cell_type": "markdown",
   "metadata": {},
   "source": [
    "## Euclidean Distance Function"
   ]
  },
  {
   "cell_type": "code",
   "execution_count": 53,
   "metadata": {},
   "outputs": [],
   "source": [
    "def euclidean_distance(museum_id_1, museum_id_2):\n",
    "    \"\"\"\n",
    "    Search similarity with euclidean distance\n",
    "    \"\"\"\n",
    "    a = new_museums.iloc[museum_id_1]\n",
    "    b = new_museums.iloc[museum_id_2]\n",
    "    distance = 0\n",
    "\n",
    "    def euclidean(point1, point2):\n",
    "        sum_squared_distance = 0\n",
    "        for i in range(len(point1)):\n",
    "            sum_squared_distance += math.pow(point1[i] - point2[i], 2)\n",
    "        return math.sqrt(sum_squared_distance)\n",
    "\n",
    "    for col, val in a.iteritems():\n",
    "        if col != \"name\":\n",
    "            distance += euclidean(a[col], b[col])\n",
    "\n",
    "    return distance\n"
   ]
  },
  {
   "cell_type": "markdown",
   "metadata": {},
   "source": [
    "## Recommender"
   ]
  },
  {
   "cell_type": "code",
   "execution_count": 54,
   "metadata": {},
   "outputs": [],
   "source": [
    "def recommender(name, distance_fn):\n",
    "    pred_museum = new_museums[new_museums[\"name\"].str.contains(\n",
    "        name)].iloc[0].to_frame().T\n",
    "\n",
    "    def knn(base, K):\n",
    "        distances = []\n",
    "\n",
    "        for idx, museum in new_museums.iterrows():\n",
    "            if idx != base.index[0]:\n",
    "                dist = distance_fn(base.index[0], idx)\n",
    "                distances.append((idx, dist))\n",
    "\n",
    "        distances.sort(key=operator.itemgetter(1))\n",
    "        neighbors = distances[:K]\n",
    "\n",
    "        return neighbors\n",
    "\n",
    "    K = 10\n",
    "    neighbors = knn(pred_museum, K)\n",
    "\n",
    "    recommend = []\n",
    "\n",
    "    for neighbor in neighbors:\n",
    "        recommend.append([new_museums.iloc[neighbor[0]][0],\n",
    "                          str(raw_museums.iloc[neighbor[0]][1]),\n",
    "                          str(raw_museums.iloc[neighbor[0]][2]),\n",
    "                          str(raw_museums.iloc[neighbor[0]][3]),\n",
    "                          str(raw_museums.iloc[neighbor[0]][4]),\n",
    "                          str(raw_museums.iloc[neighbor[0]][5]),\n",
    "                          str(raw_museums.iloc[neighbor[0]][6]),\n",
    "                          str(raw_museums.iloc[neighbor[0]][7]),\n",
    "                          str(raw_museums.iloc[neighbor[0]][8]),\n",
    "                          str(raw_museums.iloc[neighbor[0]][9]),\n",
    "                          neighbor[1]])\n",
    "\n",
    "    col = list(museums.columns[:10])\n",
    "    col.append(\"similarity\")\n",
    "    df = pd.DataFrame(data=recommend, columns=col)\n",
    "    return df\n",
    "    # return recommend\n"
   ]
  },
  {
   "cell_type": "markdown",
   "metadata": {},
   "source": [
    "### Experiment 1"
   ]
  },
  {
   "cell_type": "code",
   "execution_count": 55,
   "metadata": {},
   "outputs": [
    {
     "data": {
      "text/html": [
       "<div>\n",
       "<style scoped>\n",
       "    .dataframe tbody tr th:only-of-type {\n",
       "        vertical-align: middle;\n",
       "    }\n",
       "\n",
       "    .dataframe tbody tr th {\n",
       "        vertical-align: top;\n",
       "    }\n",
       "\n",
       "    .dataframe thead th {\n",
       "        text-align: right;\n",
       "    }\n",
       "</style>\n",
       "<table border=\"1\" class=\"dataframe\">\n",
       "  <thead>\n",
       "    <tr style=\"text-align: right;\">\n",
       "      <th></th>\n",
       "      <th>name</th>\n",
       "      <th>category</th>\n",
       "      <th>schedule_1</th>\n",
       "      <th>open_1</th>\n",
       "      <th>closed_1</th>\n",
       "      <th>city</th>\n",
       "      <th>ticket_1</th>\n",
       "      <th>ticket_price_1</th>\n",
       "      <th>public_transportation</th>\n",
       "      <th>distance_to_museum</th>\n",
       "    </tr>\n",
       "  </thead>\n",
       "  <tbody>\n",
       "    <tr>\n",
       "      <th>23</th>\n",
       "      <td>Museum Hakka Indonesia</td>\n",
       "      <td>Sejarah</td>\n",
       "      <td>Selasa, Rabu, Kamis, Jumat, Sabtu, Minggu</td>\n",
       "      <td>09:00</td>\n",
       "      <td>16:00</td>\n",
       "      <td>Jakarta Timur</td>\n",
       "      <td>Umum</td>\n",
       "      <td>0</td>\n",
       "      <td>Bandara Soekarno - Hatta, Bandara Halim Perdan...</td>\n",
       "      <td>48, 12.3, 15.1, 6.8</td>\n",
       "    </tr>\n",
       "  </tbody>\n",
       "</table>\n",
       "</div>"
      ],
      "text/plain": [
       "                      name category  \\\n",
       "23  Museum Hakka Indonesia  Sejarah   \n",
       "\n",
       "                                   schedule_1 open_1 closed_1           city  \\\n",
       "23  Selasa, Rabu, Kamis, Jumat, Sabtu, Minggu  09:00    16:00  Jakarta Timur   \n",
       "\n",
       "   ticket_1 ticket_price_1                              public_transportation  \\\n",
       "23     Umum              0  Bandara Soekarno - Hatta, Bandara Halim Perdan...   \n",
       "\n",
       "     distance_to_museum  \n",
       "23  48, 12.3, 15.1, 6.8  "
      ]
     },
     "execution_count": 55,
     "metadata": {},
     "output_type": "execute_result"
    }
   ],
   "source": [
    "query_1 = raw_museums[\"name\"].iloc[rand.randint(0, 60)]\n",
    "raw_museums[raw_museums[\"name\"].str.contains(query_1)].iloc[0].to_frame().T"
   ]
  },
  {
   "cell_type": "code",
   "execution_count": 56,
   "metadata": {},
   "outputs": [
    {
     "data": {
      "text/html": [
       "<div>\n",
       "<style scoped>\n",
       "    .dataframe tbody tr th:only-of-type {\n",
       "        vertical-align: middle;\n",
       "    }\n",
       "\n",
       "    .dataframe tbody tr th {\n",
       "        vertical-align: top;\n",
       "    }\n",
       "\n",
       "    .dataframe thead th {\n",
       "        text-align: right;\n",
       "    }\n",
       "</style>\n",
       "<table border=\"1\" class=\"dataframe\">\n",
       "  <thead>\n",
       "    <tr style=\"text-align: right;\">\n",
       "      <th></th>\n",
       "      <th>name</th>\n",
       "      <th>category</th>\n",
       "      <th>schedule_1</th>\n",
       "      <th>open_1</th>\n",
       "      <th>closed_1</th>\n",
       "      <th>city</th>\n",
       "      <th>ticket_1</th>\n",
       "      <th>ticket_price_1</th>\n",
       "      <th>public_transportation</th>\n",
       "      <th>distance_to_museum</th>\n",
       "      <th>similarity</th>\n",
       "    </tr>\n",
       "  </thead>\n",
       "  <tbody>\n",
       "    <tr>\n",
       "      <th>0</th>\n",
       "      <td>Museum Pusaka</td>\n",
       "      <td>Sejarah</td>\n",
       "      <td>Senin, Selasa, Rabu, Kamis, Jumat, Sabtu, Minggu</td>\n",
       "      <td>09:00</td>\n",
       "      <td>16:00</td>\n",
       "      <td>Jakarta Timur</td>\n",
       "      <td>Umum</td>\n",
       "      <td>10000</td>\n",
       "      <td>Bandara Soekarno - Hatta, Bandara Halim Perdan...</td>\n",
       "      <td>46.4, 12.3, 22.2, 20, 6.1, 18.1</td>\n",
       "      <td>1.053559</td>\n",
       "    </tr>\n",
       "    <tr>\n",
       "      <th>1</th>\n",
       "      <td>Museum Indonesia</td>\n",
       "      <td>Sejarah</td>\n",
       "      <td>Senin, Selasa, Rabu, Kamis, Jumat, Sabtu, Minggu</td>\n",
       "      <td>09:00</td>\n",
       "      <td>16:00</td>\n",
       "      <td>Jakarta Timur</td>\n",
       "      <td>Umum</td>\n",
       "      <td>15000</td>\n",
       "      <td>Bandara Soekarno - Hatta, Bandara Halim Perdan...</td>\n",
       "      <td>45.9, 10.2, 22.2, 20, 5.6, 15</td>\n",
       "      <td>1.257683</td>\n",
       "    </tr>\n",
       "    <tr>\n",
       "      <th>2</th>\n",
       "      <td>Museum BNI 1946</td>\n",
       "      <td>Sejarah</td>\n",
       "      <td>nan</td>\n",
       "      <td>nan</td>\n",
       "      <td>nan</td>\n",
       "      <td>Jakarta Barat</td>\n",
       "      <td>Umum</td>\n",
       "      <td>0</td>\n",
       "      <td>Bandara Soekarno - Hatta, Bandara Halim Perdan...</td>\n",
       "      <td>22.2, 27.2, 19.5, 31.8</td>\n",
       "      <td>2.000000</td>\n",
       "    </tr>\n",
       "    <tr>\n",
       "      <th>3</th>\n",
       "      <td>Museum Serangga</td>\n",
       "      <td>Fauna</td>\n",
       "      <td>Senin, Selasa, Rabu, Kamis, Jumat, Sabtu, Minggu</td>\n",
       "      <td>09:00</td>\n",
       "      <td>16:00</td>\n",
       "      <td>Jakarta Timur</td>\n",
       "      <td>Umum</td>\n",
       "      <td>25000</td>\n",
       "      <td>Bandara Soekarno - Hatta, Bandara Halim Perdan...</td>\n",
       "      <td>46, 12, 15, 6.1</td>\n",
       "      <td>2.074180</td>\n",
       "    </tr>\n",
       "    <tr>\n",
       "      <th>4</th>\n",
       "      <td>Museum Pemadam Kebakaran</td>\n",
       "      <td>Sejarah</td>\n",
       "      <td>Rabu, Kamis, Jumat, Sabtu, Minggu</td>\n",
       "      <td>08:00</td>\n",
       "      <td>16:00</td>\n",
       "      <td>Jakarta Timur</td>\n",
       "      <td>Umum</td>\n",
       "      <td>0</td>\n",
       "      <td>Bandara Soekarno - Hatta, Bandara Halim Perdan...</td>\n",
       "      <td>45.3, 11.2, 14, 4.9</td>\n",
       "      <td>2.087129</td>\n",
       "    </tr>\n",
       "    <tr>\n",
       "      <th>5</th>\n",
       "      <td>Museum Asmat</td>\n",
       "      <td>Sejarah</td>\n",
       "      <td>Senin, Selasa, Rabu, Kamis, Jumat, Sabtu, Minggu</td>\n",
       "      <td>08:30</td>\n",
       "      <td>16:00</td>\n",
       "      <td>Jakarta Timur</td>\n",
       "      <td>Umum</td>\n",
       "      <td>10000</td>\n",
       "      <td>Bandara Soekarno - Hatta, Bandara Halim Perdan...</td>\n",
       "      <td>44.6, 10.6, 22.6, 20.4, 3.3, 16.3</td>\n",
       "      <td>2.257683</td>\n",
       "    </tr>\n",
       "    <tr>\n",
       "      <th>6</th>\n",
       "      <td>Museum Purna Bhakti Pertiwi</td>\n",
       "      <td>Sejarah</td>\n",
       "      <td>Selasa, Rabu, Kamis, Jumat, Sabtu, Minggu</td>\n",
       "      <td>09:00</td>\n",
       "      <td>16:00</td>\n",
       "      <td>Jakarta Timur</td>\n",
       "      <td>Anak - Anak, Dewasa</td>\n",
       "      <td>3000, 5000</td>\n",
       "      <td>Bandara Halim Perdanakusuma, Stasiun Tanjung B...</td>\n",
       "      <td>10.5, 11, 3.2</td>\n",
       "      <td>2.422650</td>\n",
       "    </tr>\n",
       "    <tr>\n",
       "      <th>7</th>\n",
       "      <td>Museum Prangko</td>\n",
       "      <td>Sejarah</td>\n",
       "      <td>Senin, Selasa, Rabu, Kamis, Jumat</td>\n",
       "      <td>08:00</td>\n",
       "      <td>16:00</td>\n",
       "      <td>Jakarta Timur</td>\n",
       "      <td>Umum</td>\n",
       "      <td>5000</td>\n",
       "      <td>Bandara Soekarno - Hatta, Bandara Halim Perdan...</td>\n",
       "      <td>46, 12, 24, 21.8, 15, 5.7</td>\n",
       "      <td>2.453207</td>\n",
       "    </tr>\n",
       "    <tr>\n",
       "      <th>8</th>\n",
       "      <td>Museum Timor Timur</td>\n",
       "      <td>Sejarah</td>\n",
       "      <td>Senin, Selasa, Rabu, Kamis, Jumat, Sabtu, Minggu</td>\n",
       "      <td>08:30</td>\n",
       "      <td>16:00</td>\n",
       "      <td>Jakarta Timur</td>\n",
       "      <td>Umum</td>\n",
       "      <td>5000</td>\n",
       "      <td>Bandara Halim Perdanakusuma, Stasiun Gambir, S...</td>\n",
       "      <td>11, 23, 21, 5</td>\n",
       "      <td>2.574180</td>\n",
       "    </tr>\n",
       "    <tr>\n",
       "      <th>9</th>\n",
       "      <td>Museum Olahraga Nasional</td>\n",
       "      <td>Sains</td>\n",
       "      <td>Selasa, Rabu, Kamis, Jumat, Sabtu, Minggu</td>\n",
       "      <td>09:00</td>\n",
       "      <td>16:00</td>\n",
       "      <td>Jakarta Timur</td>\n",
       "      <td>Dewasa, Umum, Pelajar, Mahasiswa</td>\n",
       "      <td>5000, 5000, 3000, 3000</td>\n",
       "      <td>Bandara Soekarno - Hatta, Bandara Halim Perdan...</td>\n",
       "      <td>45.8, 10.2, 24.4, 22.1, 4, 16</td>\n",
       "      <td>2.683503</td>\n",
       "    </tr>\n",
       "  </tbody>\n",
       "</table>\n",
       "</div>"
      ],
      "text/plain": [
       "                          name category  \\\n",
       "0                Museum Pusaka  Sejarah   \n",
       "1             Museum Indonesia  Sejarah   \n",
       "2              Museum BNI 1946  Sejarah   \n",
       "3              Museum Serangga    Fauna   \n",
       "4     Museum Pemadam Kebakaran  Sejarah   \n",
       "5                 Museum Asmat  Sejarah   \n",
       "6  Museum Purna Bhakti Pertiwi  Sejarah   \n",
       "7               Museum Prangko  Sejarah   \n",
       "8           Museum Timor Timur  Sejarah   \n",
       "9     Museum Olahraga Nasional    Sains   \n",
       "\n",
       "                                         schedule_1 open_1 closed_1  \\\n",
       "0  Senin, Selasa, Rabu, Kamis, Jumat, Sabtu, Minggu  09:00    16:00   \n",
       "1  Senin, Selasa, Rabu, Kamis, Jumat, Sabtu, Minggu  09:00    16:00   \n",
       "2                                               nan    nan      nan   \n",
       "3  Senin, Selasa, Rabu, Kamis, Jumat, Sabtu, Minggu  09:00    16:00   \n",
       "4                 Rabu, Kamis, Jumat, Sabtu, Minggu  08:00    16:00   \n",
       "5  Senin, Selasa, Rabu, Kamis, Jumat, Sabtu, Minggu  08:30    16:00   \n",
       "6         Selasa, Rabu, Kamis, Jumat, Sabtu, Minggu  09:00    16:00   \n",
       "7                 Senin, Selasa, Rabu, Kamis, Jumat  08:00    16:00   \n",
       "8  Senin, Selasa, Rabu, Kamis, Jumat, Sabtu, Minggu  08:30    16:00   \n",
       "9         Selasa, Rabu, Kamis, Jumat, Sabtu, Minggu  09:00    16:00   \n",
       "\n",
       "            city                          ticket_1          ticket_price_1  \\\n",
       "0  Jakarta Timur                              Umum                   10000   \n",
       "1  Jakarta Timur                              Umum                   15000   \n",
       "2  Jakarta Barat                              Umum                       0   \n",
       "3  Jakarta Timur                              Umum                   25000   \n",
       "4  Jakarta Timur                              Umum                       0   \n",
       "5  Jakarta Timur                              Umum                   10000   \n",
       "6  Jakarta Timur               Anak - Anak, Dewasa              3000, 5000   \n",
       "7  Jakarta Timur                              Umum                    5000   \n",
       "8  Jakarta Timur                              Umum                    5000   \n",
       "9  Jakarta Timur  Dewasa, Umum, Pelajar, Mahasiswa  5000, 5000, 3000, 3000   \n",
       "\n",
       "                               public_transportation  \\\n",
       "0  Bandara Soekarno - Hatta, Bandara Halim Perdan...   \n",
       "1  Bandara Soekarno - Hatta, Bandara Halim Perdan...   \n",
       "2  Bandara Soekarno - Hatta, Bandara Halim Perdan...   \n",
       "3  Bandara Soekarno - Hatta, Bandara Halim Perdan...   \n",
       "4  Bandara Soekarno - Hatta, Bandara Halim Perdan...   \n",
       "5  Bandara Soekarno - Hatta, Bandara Halim Perdan...   \n",
       "6  Bandara Halim Perdanakusuma, Stasiun Tanjung B...   \n",
       "7  Bandara Soekarno - Hatta, Bandara Halim Perdan...   \n",
       "8  Bandara Halim Perdanakusuma, Stasiun Gambir, S...   \n",
       "9  Bandara Soekarno - Hatta, Bandara Halim Perdan...   \n",
       "\n",
       "                  distance_to_museum  similarity  \n",
       "0    46.4, 12.3, 22.2, 20, 6.1, 18.1    1.053559  \n",
       "1      45.9, 10.2, 22.2, 20, 5.6, 15    1.257683  \n",
       "2             22.2, 27.2, 19.5, 31.8    2.000000  \n",
       "3                    46, 12, 15, 6.1    2.074180  \n",
       "4                45.3, 11.2, 14, 4.9    2.087129  \n",
       "5  44.6, 10.6, 22.6, 20.4, 3.3, 16.3    2.257683  \n",
       "6                      10.5, 11, 3.2    2.422650  \n",
       "7          46, 12, 24, 21.8, 15, 5.7    2.453207  \n",
       "8                      11, 23, 21, 5    2.574180  \n",
       "9      45.8, 10.2, 24.4, 22.1, 4, 16    2.683503  "
      ]
     },
     "execution_count": 56,
     "metadata": {},
     "output_type": "execute_result"
    }
   ],
   "source": [
    "# using cosine similarity\n",
    "recommender(query_1, cosine_distance)"
   ]
  },
  {
   "cell_type": "code",
   "execution_count": 57,
   "metadata": {},
   "outputs": [
    {
     "data": {
      "text/html": [
       "<div>\n",
       "<style scoped>\n",
       "    .dataframe tbody tr th:only-of-type {\n",
       "        vertical-align: middle;\n",
       "    }\n",
       "\n",
       "    .dataframe tbody tr th {\n",
       "        vertical-align: top;\n",
       "    }\n",
       "\n",
       "    .dataframe thead th {\n",
       "        text-align: right;\n",
       "    }\n",
       "</style>\n",
       "<table border=\"1\" class=\"dataframe\">\n",
       "  <thead>\n",
       "    <tr style=\"text-align: right;\">\n",
       "      <th></th>\n",
       "      <th>name</th>\n",
       "      <th>category</th>\n",
       "      <th>schedule_1</th>\n",
       "      <th>open_1</th>\n",
       "      <th>closed_1</th>\n",
       "      <th>city</th>\n",
       "      <th>ticket_1</th>\n",
       "      <th>ticket_price_1</th>\n",
       "      <th>public_transportation</th>\n",
       "      <th>distance_to_museum</th>\n",
       "      <th>similarity</th>\n",
       "    </tr>\n",
       "  </thead>\n",
       "  <tbody>\n",
       "    <tr>\n",
       "      <th>0</th>\n",
       "      <td>Museum Pemadam Kebakaran</td>\n",
       "      <td>Sejarah</td>\n",
       "      <td>Rabu, Kamis, Jumat, Sabtu, Minggu</td>\n",
       "      <td>08:00</td>\n",
       "      <td>16:00</td>\n",
       "      <td>Jakarta Timur</td>\n",
       "      <td>Umum</td>\n",
       "      <td>0</td>\n",
       "      <td>Bandara Soekarno - Hatta, Bandara Halim Perdan...</td>\n",
       "      <td>45.3, 11.2, 14, 4.9</td>\n",
       "      <td>5.242641</td>\n",
       "    </tr>\n",
       "    <tr>\n",
       "      <th>1</th>\n",
       "      <td>Museum Pusaka</td>\n",
       "      <td>Sejarah</td>\n",
       "      <td>Senin, Selasa, Rabu, Kamis, Jumat, Sabtu, Minggu</td>\n",
       "      <td>09:00</td>\n",
       "      <td>16:00</td>\n",
       "      <td>Jakarta Timur</td>\n",
       "      <td>Umum</td>\n",
       "      <td>10000</td>\n",
       "      <td>Bandara Soekarno - Hatta, Bandara Halim Perdan...</td>\n",
       "      <td>46.4, 12.3, 22.2, 20, 6.1, 18.1</td>\n",
       "      <td>5.242641</td>\n",
       "    </tr>\n",
       "    <tr>\n",
       "      <th>2</th>\n",
       "      <td>Museum Serangga</td>\n",
       "      <td>Fauna</td>\n",
       "      <td>Senin, Selasa, Rabu, Kamis, Jumat, Sabtu, Minggu</td>\n",
       "      <td>09:00</td>\n",
       "      <td>16:00</td>\n",
       "      <td>Jakarta Timur</td>\n",
       "      <td>Umum</td>\n",
       "      <td>25000</td>\n",
       "      <td>Bandara Soekarno - Hatta, Bandara Halim Perdan...</td>\n",
       "      <td>46, 12, 15, 6.1</td>\n",
       "      <td>5.242641</td>\n",
       "    </tr>\n",
       "    <tr>\n",
       "      <th>3</th>\n",
       "      <td>Museum Indonesia</td>\n",
       "      <td>Sejarah</td>\n",
       "      <td>Senin, Selasa, Rabu, Kamis, Jumat, Sabtu, Minggu</td>\n",
       "      <td>09:00</td>\n",
       "      <td>16:00</td>\n",
       "      <td>Jakarta Timur</td>\n",
       "      <td>Umum</td>\n",
       "      <td>15000</td>\n",
       "      <td>Bandara Soekarno - Hatta, Bandara Halim Perdan...</td>\n",
       "      <td>45.9, 10.2, 22.2, 20, 5.6, 15</td>\n",
       "      <td>5.576491</td>\n",
       "    </tr>\n",
       "    <tr>\n",
       "      <th>4</th>\n",
       "      <td>Museum Purna Bhakti Pertiwi</td>\n",
       "      <td>Sejarah</td>\n",
       "      <td>Selasa, Rabu, Kamis, Jumat, Sabtu, Minggu</td>\n",
       "      <td>09:00</td>\n",
       "      <td>16:00</td>\n",
       "      <td>Jakarta Timur</td>\n",
       "      <td>Anak - Anak, Dewasa</td>\n",
       "      <td>3000, 5000</td>\n",
       "      <td>Bandara Halim Perdanakusuma, Stasiun Tanjung B...</td>\n",
       "      <td>10.5, 11, 3.2</td>\n",
       "      <td>6.109853</td>\n",
       "    </tr>\n",
       "    <tr>\n",
       "      <th>5</th>\n",
       "      <td>Museum Penerangan</td>\n",
       "      <td>Sains</td>\n",
       "      <td>Senin, Selasa, Rabu, Kamis, Jumat, Sabtu, Minggu</td>\n",
       "      <td>08:00</td>\n",
       "      <td>16:00</td>\n",
       "      <td>Jakarta Timur</td>\n",
       "      <td>Umum</td>\n",
       "      <td>0</td>\n",
       "      <td>Bandara Soekarno - Hatta, Bandara Halim Perdan...</td>\n",
       "      <td>44.6, 10.6, 13.4, 4.3</td>\n",
       "      <td>6.656854</td>\n",
       "    </tr>\n",
       "    <tr>\n",
       "      <th>6</th>\n",
       "      <td>Museum Asmat</td>\n",
       "      <td>Sejarah</td>\n",
       "      <td>Senin, Selasa, Rabu, Kamis, Jumat, Sabtu, Minggu</td>\n",
       "      <td>08:30</td>\n",
       "      <td>16:00</td>\n",
       "      <td>Jakarta Timur</td>\n",
       "      <td>Umum</td>\n",
       "      <td>10000</td>\n",
       "      <td>Bandara Soekarno - Hatta, Bandara Halim Perdan...</td>\n",
       "      <td>44.6, 10.6, 22.6, 20.4, 3.3, 16.3</td>\n",
       "      <td>6.990705</td>\n",
       "    </tr>\n",
       "    <tr>\n",
       "      <th>7</th>\n",
       "      <td>Galeri Nasional Indonesia</td>\n",
       "      <td>Seni</td>\n",
       "      <td>Selasa, Rabu, Kamis, Jumat</td>\n",
       "      <td>09:00</td>\n",
       "      <td>16:00</td>\n",
       "      <td>Jakarta Pusat</td>\n",
       "      <td>Umum</td>\n",
       "      <td>0</td>\n",
       "      <td>Bandara Soekarno - Hatta, Bandara Halim Perdan...</td>\n",
       "      <td>28.6, 20.4, 22.7, 13.3</td>\n",
       "      <td>7.071068</td>\n",
       "    </tr>\n",
       "    <tr>\n",
       "      <th>8</th>\n",
       "      <td>Museum Timor Timur</td>\n",
       "      <td>Sejarah</td>\n",
       "      <td>Senin, Selasa, Rabu, Kamis, Jumat, Sabtu, Minggu</td>\n",
       "      <td>08:30</td>\n",
       "      <td>16:00</td>\n",
       "      <td>Jakarta Timur</td>\n",
       "      <td>Umum</td>\n",
       "      <td>5000</td>\n",
       "      <td>Bandara Halim Perdanakusuma, Stasiun Gambir, S...</td>\n",
       "      <td>11, 23, 21, 5</td>\n",
       "      <td>7.242641</td>\n",
       "    </tr>\n",
       "    <tr>\n",
       "      <th>9</th>\n",
       "      <td>Museum Olahraga Nasional</td>\n",
       "      <td>Sains</td>\n",
       "      <td>Selasa, Rabu, Kamis, Jumat, Sabtu, Minggu</td>\n",
       "      <td>09:00</td>\n",
       "      <td>16:00</td>\n",
       "      <td>Jakarta Timur</td>\n",
       "      <td>Dewasa, Umum, Pelajar, Mahasiswa</td>\n",
       "      <td>5000, 5000, 3000, 3000</td>\n",
       "      <td>Bandara Soekarno - Hatta, Bandara Halim Perdan...</td>\n",
       "      <td>45.8, 10.2, 24.4, 22.1, 4, 16</td>\n",
       "      <td>7.722756</td>\n",
       "    </tr>\n",
       "  </tbody>\n",
       "</table>\n",
       "</div>"
      ],
      "text/plain": [
       "                          name category  \\\n",
       "0     Museum Pemadam Kebakaran  Sejarah   \n",
       "1                Museum Pusaka  Sejarah   \n",
       "2              Museum Serangga    Fauna   \n",
       "3             Museum Indonesia  Sejarah   \n",
       "4  Museum Purna Bhakti Pertiwi  Sejarah   \n",
       "5            Museum Penerangan    Sains   \n",
       "6                 Museum Asmat  Sejarah   \n",
       "7    Galeri Nasional Indonesia     Seni   \n",
       "8           Museum Timor Timur  Sejarah   \n",
       "9     Museum Olahraga Nasional    Sains   \n",
       "\n",
       "                                         schedule_1 open_1 closed_1  \\\n",
       "0                 Rabu, Kamis, Jumat, Sabtu, Minggu  08:00    16:00   \n",
       "1  Senin, Selasa, Rabu, Kamis, Jumat, Sabtu, Minggu  09:00    16:00   \n",
       "2  Senin, Selasa, Rabu, Kamis, Jumat, Sabtu, Minggu  09:00    16:00   \n",
       "3  Senin, Selasa, Rabu, Kamis, Jumat, Sabtu, Minggu  09:00    16:00   \n",
       "4         Selasa, Rabu, Kamis, Jumat, Sabtu, Minggu  09:00    16:00   \n",
       "5  Senin, Selasa, Rabu, Kamis, Jumat, Sabtu, Minggu  08:00    16:00   \n",
       "6  Senin, Selasa, Rabu, Kamis, Jumat, Sabtu, Minggu  08:30    16:00   \n",
       "7                        Selasa, Rabu, Kamis, Jumat  09:00    16:00   \n",
       "8  Senin, Selasa, Rabu, Kamis, Jumat, Sabtu, Minggu  08:30    16:00   \n",
       "9         Selasa, Rabu, Kamis, Jumat, Sabtu, Minggu  09:00    16:00   \n",
       "\n",
       "            city                          ticket_1          ticket_price_1  \\\n",
       "0  Jakarta Timur                              Umum                       0   \n",
       "1  Jakarta Timur                              Umum                   10000   \n",
       "2  Jakarta Timur                              Umum                   25000   \n",
       "3  Jakarta Timur                              Umum                   15000   \n",
       "4  Jakarta Timur               Anak - Anak, Dewasa              3000, 5000   \n",
       "5  Jakarta Timur                              Umum                       0   \n",
       "6  Jakarta Timur                              Umum                   10000   \n",
       "7  Jakarta Pusat                              Umum                       0   \n",
       "8  Jakarta Timur                              Umum                    5000   \n",
       "9  Jakarta Timur  Dewasa, Umum, Pelajar, Mahasiswa  5000, 5000, 3000, 3000   \n",
       "\n",
       "                               public_transportation  \\\n",
       "0  Bandara Soekarno - Hatta, Bandara Halim Perdan...   \n",
       "1  Bandara Soekarno - Hatta, Bandara Halim Perdan...   \n",
       "2  Bandara Soekarno - Hatta, Bandara Halim Perdan...   \n",
       "3  Bandara Soekarno - Hatta, Bandara Halim Perdan...   \n",
       "4  Bandara Halim Perdanakusuma, Stasiun Tanjung B...   \n",
       "5  Bandara Soekarno - Hatta, Bandara Halim Perdan...   \n",
       "6  Bandara Soekarno - Hatta, Bandara Halim Perdan...   \n",
       "7  Bandara Soekarno - Hatta, Bandara Halim Perdan...   \n",
       "8  Bandara Halim Perdanakusuma, Stasiun Gambir, S...   \n",
       "9  Bandara Soekarno - Hatta, Bandara Halim Perdan...   \n",
       "\n",
       "                  distance_to_museum  similarity  \n",
       "0                45.3, 11.2, 14, 4.9    5.242641  \n",
       "1    46.4, 12.3, 22.2, 20, 6.1, 18.1    5.242641  \n",
       "2                    46, 12, 15, 6.1    5.242641  \n",
       "3      45.9, 10.2, 22.2, 20, 5.6, 15    5.576491  \n",
       "4                      10.5, 11, 3.2    6.109853  \n",
       "5              44.6, 10.6, 13.4, 4.3    6.656854  \n",
       "6  44.6, 10.6, 22.6, 20.4, 3.3, 16.3    6.990705  \n",
       "7             28.6, 20.4, 22.7, 13.3    7.071068  \n",
       "8                      11, 23, 21, 5    7.242641  \n",
       "9      45.8, 10.2, 24.4, 22.1, 4, 16    7.722756  "
      ]
     },
     "execution_count": 57,
     "metadata": {},
     "output_type": "execute_result"
    }
   ],
   "source": [
    "# using euclidean similarity\n",
    "recommender(query_1, euclidean_distance)"
   ]
  },
  {
   "cell_type": "markdown",
   "metadata": {},
   "source": [
    "### Experiment 2"
   ]
  },
  {
   "cell_type": "code",
   "execution_count": 58,
   "metadata": {},
   "outputs": [
    {
     "data": {
      "text/html": [
       "<div>\n",
       "<style scoped>\n",
       "    .dataframe tbody tr th:only-of-type {\n",
       "        vertical-align: middle;\n",
       "    }\n",
       "\n",
       "    .dataframe tbody tr th {\n",
       "        vertical-align: top;\n",
       "    }\n",
       "\n",
       "    .dataframe thead th {\n",
       "        text-align: right;\n",
       "    }\n",
       "</style>\n",
       "<table border=\"1\" class=\"dataframe\">\n",
       "  <thead>\n",
       "    <tr style=\"text-align: right;\">\n",
       "      <th></th>\n",
       "      <th>name</th>\n",
       "      <th>category</th>\n",
       "      <th>schedule_1</th>\n",
       "      <th>open_1</th>\n",
       "      <th>closed_1</th>\n",
       "      <th>city</th>\n",
       "      <th>ticket_1</th>\n",
       "      <th>ticket_price_1</th>\n",
       "      <th>public_transportation</th>\n",
       "      <th>distance_to_museum</th>\n",
       "    </tr>\n",
       "  </thead>\n",
       "  <tbody>\n",
       "    <tr>\n",
       "      <th>42</th>\n",
       "      <td>Museum Perumusan Naskah Proklamasi</td>\n",
       "      <td>Sejarah</td>\n",
       "      <td>Selasa, Rabu, Kamis, Sabtu, Minggu</td>\n",
       "      <td>08:00</td>\n",
       "      <td>16:00</td>\n",
       "      <td>Jakarta Pusat</td>\n",
       "      <td>Dewasa, Anak - Anak</td>\n",
       "      <td>2000, 1000</td>\n",
       "      <td>Bandara Soekarno - Hatta, Bandara Halim Perdan...</td>\n",
       "      <td>30.8, 14, 5.3, 5.9, 20.3, 11.1</td>\n",
       "    </tr>\n",
       "  </tbody>\n",
       "</table>\n",
       "</div>"
      ],
      "text/plain": [
       "                                  name category  \\\n",
       "42  Museum Perumusan Naskah Proklamasi  Sejarah   \n",
       "\n",
       "                            schedule_1 open_1 closed_1           city  \\\n",
       "42  Selasa, Rabu, Kamis, Sabtu, Minggu  08:00    16:00  Jakarta Pusat   \n",
       "\n",
       "               ticket_1 ticket_price_1  \\\n",
       "42  Dewasa, Anak - Anak     2000, 1000   \n",
       "\n",
       "                                public_transportation  \\\n",
       "42  Bandara Soekarno - Hatta, Bandara Halim Perdan...   \n",
       "\n",
       "                distance_to_museum  \n",
       "42  30.8, 14, 5.3, 5.9, 20.3, 11.1  "
      ]
     },
     "execution_count": 58,
     "metadata": {},
     "output_type": "execute_result"
    }
   ],
   "source": [
    "query_2 = raw_museums[\"name\"].iloc[rand.randint(0, 60)]\n",
    "raw_museums[raw_museums[\"name\"].str.contains(query_2)].iloc[0].to_frame().T"
   ]
  },
  {
   "cell_type": "code",
   "execution_count": 59,
   "metadata": {},
   "outputs": [
    {
     "data": {
      "text/html": [
       "<div>\n",
       "<style scoped>\n",
       "    .dataframe tbody tr th:only-of-type {\n",
       "        vertical-align: middle;\n",
       "    }\n",
       "\n",
       "    .dataframe tbody tr th {\n",
       "        vertical-align: top;\n",
       "    }\n",
       "\n",
       "    .dataframe thead th {\n",
       "        text-align: right;\n",
       "    }\n",
       "</style>\n",
       "<table border=\"1\" class=\"dataframe\">\n",
       "  <thead>\n",
       "    <tr style=\"text-align: right;\">\n",
       "      <th></th>\n",
       "      <th>name</th>\n",
       "      <th>category</th>\n",
       "      <th>schedule_1</th>\n",
       "      <th>open_1</th>\n",
       "      <th>closed_1</th>\n",
       "      <th>city</th>\n",
       "      <th>ticket_1</th>\n",
       "      <th>ticket_price_1</th>\n",
       "      <th>public_transportation</th>\n",
       "      <th>distance_to_museum</th>\n",
       "      <th>similarity</th>\n",
       "    </tr>\n",
       "  </thead>\n",
       "  <tbody>\n",
       "    <tr>\n",
       "      <th>0</th>\n",
       "      <td>Museum Sumpah Pemuda</td>\n",
       "      <td>Sejarah</td>\n",
       "      <td>Selasa, Rabu, Kamis, Sabtu, Minggu</td>\n",
       "      <td>08:00</td>\n",
       "      <td>16:00</td>\n",
       "      <td>Jakarta Pusat</td>\n",
       "      <td>Dewasa, Anak - Anak</td>\n",
       "      <td>2000, 1000</td>\n",
       "      <td>Bandara Soekarno - Hatta, Bandara Halim Perdan...</td>\n",
       "      <td>31.9, 14.7, 1.9, 4.1, 19.7, 10.3</td>\n",
       "      <td>1.000000</td>\n",
       "    </tr>\n",
       "    <tr>\n",
       "      <th>1</th>\n",
       "      <td>Monumen Nasional</td>\n",
       "      <td>Sejarah</td>\n",
       "      <td>Selasa, Rabu, Kamis, Jumat, Sabtu, Minggu</td>\n",
       "      <td>08:00</td>\n",
       "      <td>16:00</td>\n",
       "      <td>Jakarta Pusat</td>\n",
       "      <td>Dewasa, Anak - Anak</td>\n",
       "      <td>20000, 10000</td>\n",
       "      <td>Stasiun Gambir, Stasiun Pasar Senen, Terminal ...</td>\n",
       "      <td>0.85, 3, 4, 4, 16, 30</td>\n",
       "      <td>1.420462</td>\n",
       "    </tr>\n",
       "    <tr>\n",
       "      <th>2</th>\n",
       "      <td>Museum Kebangkitan Nasional</td>\n",
       "      <td>Sejarah</td>\n",
       "      <td>Selasa, Rabu, Kamis, Jumat, Sabtu, Minggu</td>\n",
       "      <td>08:00</td>\n",
       "      <td>16:00</td>\n",
       "      <td>Jakarta Pusat</td>\n",
       "      <td>Dewasa, Anak - Anak, Wisatawan Mancanegara</td>\n",
       "      <td>2000, 1000, 10000</td>\n",
       "      <td>Bandara Halim Perdanakusuma, Stasiun Pasar Sen...</td>\n",
       "      <td>15, 1, 1</td>\n",
       "      <td>1.799228</td>\n",
       "    </tr>\n",
       "    <tr>\n",
       "      <th>3</th>\n",
       "      <td>Museum Nasional Indonesia</td>\n",
       "      <td>Sejarah</td>\n",
       "      <td>Selasa, Rabu, Kamis, Jumat</td>\n",
       "      <td>08:00</td>\n",
       "      <td>16:00</td>\n",
       "      <td>Jakarta Pusat</td>\n",
       "      <td>Dewasa, Anak - Anak, Wisatawan Mancanegara</td>\n",
       "      <td>5000, 2000, 10000</td>\n",
       "      <td>Bandara Soekarno - Hatta, Stasiun Juanda, Stas...</td>\n",
       "      <td>29.6, 3.9, 3.5</td>\n",
       "      <td>2.041279</td>\n",
       "    </tr>\n",
       "    <tr>\n",
       "      <th>4</th>\n",
       "      <td>Museum Joang ‘45</td>\n",
       "      <td>Transportasi</td>\n",
       "      <td>Selasa, Rabu, Kamis, Jumat, Sabtu, Minggu</td>\n",
       "      <td>08:00</td>\n",
       "      <td>16:00</td>\n",
       "      <td>Jakarta Pusat</td>\n",
       "      <td>Dewasa, Mahasiswa, Anak - Anak</td>\n",
       "      <td>5000, 3000, 2000</td>\n",
       "      <td>Bandara Halim Perdanakusuma, Bandara Soekarno ...</td>\n",
       "      <td>13, 30, 3, 3, 3, 4, 5</td>\n",
       "      <td>2.807722</td>\n",
       "    </tr>\n",
       "    <tr>\n",
       "      <th>5</th>\n",
       "      <td>Museum DPR RI</td>\n",
       "      <td>Sejarah</td>\n",
       "      <td>Senin, Selasa, Rabu, Kamis</td>\n",
       "      <td>08:00</td>\n",
       "      <td>15:00</td>\n",
       "      <td>Jakarta Pusat</td>\n",
       "      <td>Umum</td>\n",
       "      <td>0</td>\n",
       "      <td>Bandara Soekarno - Hatta, Bandara Halim Perdan...</td>\n",
       "      <td>18, 11, 6.6, 5.1, 14, 10</td>\n",
       "      <td>3.162513</td>\n",
       "    </tr>\n",
       "    <tr>\n",
       "      <th>6</th>\n",
       "      <td>Museum Pemadam Kebakaran</td>\n",
       "      <td>Sejarah</td>\n",
       "      <td>Rabu, Kamis, Jumat, Sabtu, Minggu</td>\n",
       "      <td>08:00</td>\n",
       "      <td>16:00</td>\n",
       "      <td>Jakarta Timur</td>\n",
       "      <td>Umum</td>\n",
       "      <td>0</td>\n",
       "      <td>Bandara Soekarno - Hatta, Bandara Halim Perdan...</td>\n",
       "      <td>45.3, 11.2, 14, 4.9</td>\n",
       "      <td>3.179379</td>\n",
       "    </tr>\n",
       "    <tr>\n",
       "      <th>7</th>\n",
       "      <td>Museum BNI 1946</td>\n",
       "      <td>Sejarah</td>\n",
       "      <td>nan</td>\n",
       "      <td>nan</td>\n",
       "      <td>nan</td>\n",
       "      <td>Jakarta Barat</td>\n",
       "      <td>Umum</td>\n",
       "      <td>0</td>\n",
       "      <td>Bandara Soekarno - Hatta, Bandara Halim Perdan...</td>\n",
       "      <td>22.2, 27.2, 19.5, 31.8</td>\n",
       "      <td>3.183503</td>\n",
       "    </tr>\n",
       "    <tr>\n",
       "      <th>8</th>\n",
       "      <td>Museum Bank Tabungan Negara</td>\n",
       "      <td>Sejarah</td>\n",
       "      <td>Senin, Selasa, Rabu, Kamis, Jumat</td>\n",
       "      <td>08:00</td>\n",
       "      <td>16:30</td>\n",
       "      <td>Jakarta Pusat</td>\n",
       "      <td>Umum</td>\n",
       "      <td>0</td>\n",
       "      <td>Bandara Soekarno - Hatta, Bandara Halim Perdan...</td>\n",
       "      <td>26.2, 16.8, 3.6, 5.9, 13.2, 25.8</td>\n",
       "      <td>3.233333</td>\n",
       "    </tr>\n",
       "    <tr>\n",
       "      <th>9</th>\n",
       "      <td>Museum Bahari</td>\n",
       "      <td>Sejarah</td>\n",
       "      <td>Selasa, Rabu, Kamis, Jumat, Sabtu, Minggu</td>\n",
       "      <td>08:00</td>\n",
       "      <td>17:00</td>\n",
       "      <td>Jakarta Utara</td>\n",
       "      <td>Dewasa, Anak - Anak</td>\n",
       "      <td>2000, 1000</td>\n",
       "      <td>Bandara Soekarno - Hatta, Bandara Halim Perdan...</td>\n",
       "      <td>20.8, 25.8, 24.2, 31.7</td>\n",
       "      <td>3.270632</td>\n",
       "    </tr>\n",
       "  </tbody>\n",
       "</table>\n",
       "</div>"
      ],
      "text/plain": [
       "                          name      category  \\\n",
       "0         Museum Sumpah Pemuda       Sejarah   \n",
       "1             Monumen Nasional       Sejarah   \n",
       "2  Museum Kebangkitan Nasional       Sejarah   \n",
       "3    Museum Nasional Indonesia       Sejarah   \n",
       "4             Museum Joang ‘45  Transportasi   \n",
       "5                Museum DPR RI       Sejarah   \n",
       "6     Museum Pemadam Kebakaran       Sejarah   \n",
       "7              Museum BNI 1946       Sejarah   \n",
       "8  Museum Bank Tabungan Negara       Sejarah   \n",
       "9                Museum Bahari       Sejarah   \n",
       "\n",
       "                                  schedule_1 open_1 closed_1           city  \\\n",
       "0         Selasa, Rabu, Kamis, Sabtu, Minggu  08:00    16:00  Jakarta Pusat   \n",
       "1  Selasa, Rabu, Kamis, Jumat, Sabtu, Minggu  08:00    16:00  Jakarta Pusat   \n",
       "2  Selasa, Rabu, Kamis, Jumat, Sabtu, Minggu  08:00    16:00  Jakarta Pusat   \n",
       "3                 Selasa, Rabu, Kamis, Jumat  08:00    16:00  Jakarta Pusat   \n",
       "4  Selasa, Rabu, Kamis, Jumat, Sabtu, Minggu  08:00    16:00  Jakarta Pusat   \n",
       "5                 Senin, Selasa, Rabu, Kamis  08:00    15:00  Jakarta Pusat   \n",
       "6          Rabu, Kamis, Jumat, Sabtu, Minggu  08:00    16:00  Jakarta Timur   \n",
       "7                                        nan    nan      nan  Jakarta Barat   \n",
       "8          Senin, Selasa, Rabu, Kamis, Jumat  08:00    16:30  Jakarta Pusat   \n",
       "9  Selasa, Rabu, Kamis, Jumat, Sabtu, Minggu  08:00    17:00  Jakarta Utara   \n",
       "\n",
       "                                     ticket_1     ticket_price_1  \\\n",
       "0                         Dewasa, Anak - Anak         2000, 1000   \n",
       "1                         Dewasa, Anak - Anak       20000, 10000   \n",
       "2  Dewasa, Anak - Anak, Wisatawan Mancanegara  2000, 1000, 10000   \n",
       "3  Dewasa, Anak - Anak, Wisatawan Mancanegara  5000, 2000, 10000   \n",
       "4              Dewasa, Mahasiswa, Anak - Anak   5000, 3000, 2000   \n",
       "5                                        Umum                  0   \n",
       "6                                        Umum                  0   \n",
       "7                                        Umum                  0   \n",
       "8                                        Umum                  0   \n",
       "9                         Dewasa, Anak - Anak         2000, 1000   \n",
       "\n",
       "                               public_transportation  \\\n",
       "0  Bandara Soekarno - Hatta, Bandara Halim Perdan...   \n",
       "1  Stasiun Gambir, Stasiun Pasar Senen, Terminal ...   \n",
       "2  Bandara Halim Perdanakusuma, Stasiun Pasar Sen...   \n",
       "3  Bandara Soekarno - Hatta, Stasiun Juanda, Stas...   \n",
       "4  Bandara Halim Perdanakusuma, Bandara Soekarno ...   \n",
       "5  Bandara Soekarno - Hatta, Bandara Halim Perdan...   \n",
       "6  Bandara Soekarno - Hatta, Bandara Halim Perdan...   \n",
       "7  Bandara Soekarno - Hatta, Bandara Halim Perdan...   \n",
       "8  Bandara Soekarno - Hatta, Bandara Halim Perdan...   \n",
       "9  Bandara Soekarno - Hatta, Bandara Halim Perdan...   \n",
       "\n",
       "                 distance_to_museum  similarity  \n",
       "0  31.9, 14.7, 1.9, 4.1, 19.7, 10.3    1.000000  \n",
       "1             0.85, 3, 4, 4, 16, 30    1.420462  \n",
       "2                          15, 1, 1    1.799228  \n",
       "3                    29.6, 3.9, 3.5    2.041279  \n",
       "4             13, 30, 3, 3, 3, 4, 5    2.807722  \n",
       "5          18, 11, 6.6, 5.1, 14, 10    3.162513  \n",
       "6               45.3, 11.2, 14, 4.9    3.179379  \n",
       "7            22.2, 27.2, 19.5, 31.8    3.183503  \n",
       "8  26.2, 16.8, 3.6, 5.9, 13.2, 25.8    3.233333  \n",
       "9            20.8, 25.8, 24.2, 31.7    3.270632  "
      ]
     },
     "execution_count": 59,
     "metadata": {},
     "output_type": "execute_result"
    }
   ],
   "source": [
    "# using cosine similarity\n",
    "recommender(query_2, cosine_distance)"
   ]
  },
  {
   "cell_type": "code",
   "execution_count": 60,
   "metadata": {},
   "outputs": [
    {
     "data": {
      "text/html": [
       "<div>\n",
       "<style scoped>\n",
       "    .dataframe tbody tr th:only-of-type {\n",
       "        vertical-align: middle;\n",
       "    }\n",
       "\n",
       "    .dataframe tbody tr th {\n",
       "        vertical-align: top;\n",
       "    }\n",
       "\n",
       "    .dataframe thead th {\n",
       "        text-align: right;\n",
       "    }\n",
       "</style>\n",
       "<table border=\"1\" class=\"dataframe\">\n",
       "  <thead>\n",
       "    <tr style=\"text-align: right;\">\n",
       "      <th></th>\n",
       "      <th>name</th>\n",
       "      <th>category</th>\n",
       "      <th>schedule_1</th>\n",
       "      <th>open_1</th>\n",
       "      <th>closed_1</th>\n",
       "      <th>city</th>\n",
       "      <th>ticket_1</th>\n",
       "      <th>ticket_price_1</th>\n",
       "      <th>public_transportation</th>\n",
       "      <th>distance_to_museum</th>\n",
       "      <th>similarity</th>\n",
       "    </tr>\n",
       "  </thead>\n",
       "  <tbody>\n",
       "    <tr>\n",
       "      <th>0</th>\n",
       "      <td>Museum Sumpah Pemuda</td>\n",
       "      <td>Sejarah</td>\n",
       "      <td>Selasa, Rabu, Kamis, Sabtu, Minggu</td>\n",
       "      <td>08:00</td>\n",
       "      <td>16:00</td>\n",
       "      <td>Jakarta Pusat</td>\n",
       "      <td>Dewasa, Anak - Anak</td>\n",
       "      <td>2000, 1000</td>\n",
       "      <td>Bandara Soekarno - Hatta, Bandara Halim Perdan...</td>\n",
       "      <td>31.9, 14.7, 1.9, 4.1, 19.7, 10.3</td>\n",
       "      <td>3.464102</td>\n",
       "    </tr>\n",
       "    <tr>\n",
       "      <th>1</th>\n",
       "      <td>Monumen Nasional</td>\n",
       "      <td>Sejarah</td>\n",
       "      <td>Selasa, Rabu, Kamis, Jumat, Sabtu, Minggu</td>\n",
       "      <td>08:00</td>\n",
       "      <td>16:00</td>\n",
       "      <td>Jakarta Pusat</td>\n",
       "      <td>Dewasa, Anak - Anak</td>\n",
       "      <td>20000, 10000</td>\n",
       "      <td>Stasiun Gambir, Stasiun Pasar Senen, Terminal ...</td>\n",
       "      <td>0.85, 3, 4, 4, 16, 30</td>\n",
       "      <td>6.316625</td>\n",
       "    </tr>\n",
       "    <tr>\n",
       "      <th>2</th>\n",
       "      <td>Museum Kebangkitan Nasional</td>\n",
       "      <td>Sejarah</td>\n",
       "      <td>Selasa, Rabu, Kamis, Jumat, Sabtu, Minggu</td>\n",
       "      <td>08:00</td>\n",
       "      <td>16:00</td>\n",
       "      <td>Jakarta Pusat</td>\n",
       "      <td>Dewasa, Anak - Anak, Wisatawan Mancanegara</td>\n",
       "      <td>2000, 1000, 10000</td>\n",
       "      <td>Bandara Halim Perdanakusuma, Stasiun Pasar Sen...</td>\n",
       "      <td>15, 1, 1</td>\n",
       "      <td>7.064495</td>\n",
       "    </tr>\n",
       "    <tr>\n",
       "      <th>3</th>\n",
       "      <td>Museum Nasional Indonesia</td>\n",
       "      <td>Sejarah</td>\n",
       "      <td>Selasa, Rabu, Kamis, Jumat</td>\n",
       "      <td>08:00</td>\n",
       "      <td>16:00</td>\n",
       "      <td>Jakarta Pusat</td>\n",
       "      <td>Dewasa, Anak - Anak, Wisatawan Mancanegara</td>\n",
       "      <td>5000, 2000, 10000</td>\n",
       "      <td>Bandara Soekarno - Hatta, Stasiun Juanda, Stas...</td>\n",
       "      <td>29.6, 3.9, 3.5</td>\n",
       "      <td>7.968119</td>\n",
       "    </tr>\n",
       "    <tr>\n",
       "      <th>4</th>\n",
       "      <td>Museum Basoeki Abdullah</td>\n",
       "      <td>Seni</td>\n",
       "      <td>Selasa, Rabu, Kamis, Jumat</td>\n",
       "      <td>08:00</td>\n",
       "      <td>16:00</td>\n",
       "      <td>Jakarta Selatan</td>\n",
       "      <td>Dewasa, Anak - Anak</td>\n",
       "      <td>2000, 1000</td>\n",
       "      <td>Bandara Soekarno - Hatta, Bandara Halim Perdan...</td>\n",
       "      <td>34.4, 20.9, 19, 18, 10.8, 21.5</td>\n",
       "      <td>8.024580</td>\n",
       "    </tr>\n",
       "    <tr>\n",
       "      <th>5</th>\n",
       "      <td>Museum DPR RI</td>\n",
       "      <td>Sejarah</td>\n",
       "      <td>Senin, Selasa, Rabu, Kamis</td>\n",
       "      <td>08:00</td>\n",
       "      <td>15:00</td>\n",
       "      <td>Jakarta Pusat</td>\n",
       "      <td>Umum</td>\n",
       "      <td>0</td>\n",
       "      <td>Bandara Soekarno - Hatta, Bandara Halim Perdan...</td>\n",
       "      <td>18, 11, 6.6, 5.1, 14, 10</td>\n",
       "      <td>8.040593</td>\n",
       "    </tr>\n",
       "    <tr>\n",
       "      <th>6</th>\n",
       "      <td>Museum Bank Tabungan Negara</td>\n",
       "      <td>Sejarah</td>\n",
       "      <td>Senin, Selasa, Rabu, Kamis, Jumat</td>\n",
       "      <td>08:00</td>\n",
       "      <td>16:30</td>\n",
       "      <td>Jakarta Pusat</td>\n",
       "      <td>Umum</td>\n",
       "      <td>0</td>\n",
       "      <td>Bandara Soekarno - Hatta, Bandara Halim Perdan...</td>\n",
       "      <td>26.2, 16.8, 3.6, 5.9, 13.2, 25.8</td>\n",
       "      <td>8.308542</td>\n",
       "    </tr>\n",
       "    <tr>\n",
       "      <th>7</th>\n",
       "      <td>Museum Bahari</td>\n",
       "      <td>Sejarah</td>\n",
       "      <td>Selasa, Rabu, Kamis, Jumat, Sabtu, Minggu</td>\n",
       "      <td>08:00</td>\n",
       "      <td>17:00</td>\n",
       "      <td>Jakarta Utara</td>\n",
       "      <td>Dewasa, Anak - Anak</td>\n",
       "      <td>2000, 1000</td>\n",
       "      <td>Bandara Soekarno - Hatta, Bandara Halim Perdan...</td>\n",
       "      <td>20.8, 25.8, 24.2, 31.7</td>\n",
       "      <td>8.404918</td>\n",
       "    </tr>\n",
       "    <tr>\n",
       "      <th>8</th>\n",
       "      <td>Museum Alkitab</td>\n",
       "      <td>Agama</td>\n",
       "      <td>Senin, Selasa, Rabu, Kamis, Jumat</td>\n",
       "      <td>08:00</td>\n",
       "      <td>16:00</td>\n",
       "      <td>Jakarta Pusat</td>\n",
       "      <td>Umum</td>\n",
       "      <td>5000</td>\n",
       "      <td>Bandara Soekarno - Hatta, Bandara Halim Perdan...</td>\n",
       "      <td>39.8, 9.2, 3.9, 6.1, 18.3, 5.6</td>\n",
       "      <td>8.610366</td>\n",
       "    </tr>\n",
       "    <tr>\n",
       "      <th>9</th>\n",
       "      <td>Museum Prangko</td>\n",
       "      <td>Sejarah</td>\n",
       "      <td>Senin, Selasa, Rabu, Kamis, Jumat</td>\n",
       "      <td>08:00</td>\n",
       "      <td>16:00</td>\n",
       "      <td>Jakarta Timur</td>\n",
       "      <td>Umum</td>\n",
       "      <td>5000</td>\n",
       "      <td>Bandara Soekarno - Hatta, Bandara Halim Perdan...</td>\n",
       "      <td>46, 12, 24, 21.8, 15, 5.7</td>\n",
       "      <td>8.610366</td>\n",
       "    </tr>\n",
       "  </tbody>\n",
       "</table>\n",
       "</div>"
      ],
      "text/plain": [
       "                          name category  \\\n",
       "0         Museum Sumpah Pemuda  Sejarah   \n",
       "1             Monumen Nasional  Sejarah   \n",
       "2  Museum Kebangkitan Nasional  Sejarah   \n",
       "3    Museum Nasional Indonesia  Sejarah   \n",
       "4      Museum Basoeki Abdullah     Seni   \n",
       "5                Museum DPR RI  Sejarah   \n",
       "6  Museum Bank Tabungan Negara  Sejarah   \n",
       "7                Museum Bahari  Sejarah   \n",
       "8               Museum Alkitab    Agama   \n",
       "9               Museum Prangko  Sejarah   \n",
       "\n",
       "                                  schedule_1 open_1 closed_1             city  \\\n",
       "0         Selasa, Rabu, Kamis, Sabtu, Minggu  08:00    16:00    Jakarta Pusat   \n",
       "1  Selasa, Rabu, Kamis, Jumat, Sabtu, Minggu  08:00    16:00    Jakarta Pusat   \n",
       "2  Selasa, Rabu, Kamis, Jumat, Sabtu, Minggu  08:00    16:00    Jakarta Pusat   \n",
       "3                 Selasa, Rabu, Kamis, Jumat  08:00    16:00    Jakarta Pusat   \n",
       "4                 Selasa, Rabu, Kamis, Jumat  08:00    16:00  Jakarta Selatan   \n",
       "5                 Senin, Selasa, Rabu, Kamis  08:00    15:00    Jakarta Pusat   \n",
       "6          Senin, Selasa, Rabu, Kamis, Jumat  08:00    16:30    Jakarta Pusat   \n",
       "7  Selasa, Rabu, Kamis, Jumat, Sabtu, Minggu  08:00    17:00    Jakarta Utara   \n",
       "8          Senin, Selasa, Rabu, Kamis, Jumat  08:00    16:00    Jakarta Pusat   \n",
       "9          Senin, Selasa, Rabu, Kamis, Jumat  08:00    16:00    Jakarta Timur   \n",
       "\n",
       "                                     ticket_1     ticket_price_1  \\\n",
       "0                         Dewasa, Anak - Anak         2000, 1000   \n",
       "1                         Dewasa, Anak - Anak       20000, 10000   \n",
       "2  Dewasa, Anak - Anak, Wisatawan Mancanegara  2000, 1000, 10000   \n",
       "3  Dewasa, Anak - Anak, Wisatawan Mancanegara  5000, 2000, 10000   \n",
       "4                         Dewasa, Anak - Anak         2000, 1000   \n",
       "5                                        Umum                  0   \n",
       "6                                        Umum                  0   \n",
       "7                         Dewasa, Anak - Anak         2000, 1000   \n",
       "8                                        Umum               5000   \n",
       "9                                        Umum               5000   \n",
       "\n",
       "                               public_transportation  \\\n",
       "0  Bandara Soekarno - Hatta, Bandara Halim Perdan...   \n",
       "1  Stasiun Gambir, Stasiun Pasar Senen, Terminal ...   \n",
       "2  Bandara Halim Perdanakusuma, Stasiun Pasar Sen...   \n",
       "3  Bandara Soekarno - Hatta, Stasiun Juanda, Stas...   \n",
       "4  Bandara Soekarno - Hatta, Bandara Halim Perdan...   \n",
       "5  Bandara Soekarno - Hatta, Bandara Halim Perdan...   \n",
       "6  Bandara Soekarno - Hatta, Bandara Halim Perdan...   \n",
       "7  Bandara Soekarno - Hatta, Bandara Halim Perdan...   \n",
       "8  Bandara Soekarno - Hatta, Bandara Halim Perdan...   \n",
       "9  Bandara Soekarno - Hatta, Bandara Halim Perdan...   \n",
       "\n",
       "                 distance_to_museum  similarity  \n",
       "0  31.9, 14.7, 1.9, 4.1, 19.7, 10.3    3.464102  \n",
       "1             0.85, 3, 4, 4, 16, 30    6.316625  \n",
       "2                          15, 1, 1    7.064495  \n",
       "3                    29.6, 3.9, 3.5    7.968119  \n",
       "4    34.4, 20.9, 19, 18, 10.8, 21.5    8.024580  \n",
       "5          18, 11, 6.6, 5.1, 14, 10    8.040593  \n",
       "6  26.2, 16.8, 3.6, 5.9, 13.2, 25.8    8.308542  \n",
       "7            20.8, 25.8, 24.2, 31.7    8.404918  \n",
       "8    39.8, 9.2, 3.9, 6.1, 18.3, 5.6    8.610366  \n",
       "9         46, 12, 24, 21.8, 15, 5.7    8.610366  "
      ]
     },
     "execution_count": 60,
     "metadata": {},
     "output_type": "execute_result"
    }
   ],
   "source": [
    "# using euclidean similarity\n",
    "recommender(query_2, euclidean_distance)"
   ]
  },
  {
   "cell_type": "markdown",
   "metadata": {},
   "source": [
    "### Experiment 3"
   ]
  },
  {
   "cell_type": "code",
   "execution_count": 61,
   "metadata": {},
   "outputs": [
    {
     "data": {
      "text/html": [
       "<div>\n",
       "<style scoped>\n",
       "    .dataframe tbody tr th:only-of-type {\n",
       "        vertical-align: middle;\n",
       "    }\n",
       "\n",
       "    .dataframe tbody tr th {\n",
       "        vertical-align: top;\n",
       "    }\n",
       "\n",
       "    .dataframe thead th {\n",
       "        text-align: right;\n",
       "    }\n",
       "</style>\n",
       "<table border=\"1\" class=\"dataframe\">\n",
       "  <thead>\n",
       "    <tr style=\"text-align: right;\">\n",
       "      <th></th>\n",
       "      <th>name</th>\n",
       "      <th>category</th>\n",
       "      <th>schedule_1</th>\n",
       "      <th>open_1</th>\n",
       "      <th>closed_1</th>\n",
       "      <th>city</th>\n",
       "      <th>ticket_1</th>\n",
       "      <th>ticket_price_1</th>\n",
       "      <th>public_transportation</th>\n",
       "      <th>distance_to_museum</th>\n",
       "    </tr>\n",
       "  </thead>\n",
       "  <tbody>\n",
       "    <tr>\n",
       "      <th>31</th>\n",
       "      <td>Museum Keprajuritan</td>\n",
       "      <td>Militer</td>\n",
       "      <td>Selasa, Rabu, Kamis, Jumat, Sabtu, Minggu</td>\n",
       "      <td>09:00</td>\n",
       "      <td>15:30</td>\n",
       "      <td>Jakarta Timur</td>\n",
       "      <td>Dewasa, Anak - Anak</td>\n",
       "      <td>4000, 2500</td>\n",
       "      <td>Bandara Soekarno - Hatta, Bandara Halim Perdan...</td>\n",
       "      <td>46.4, 12.3, 24.3, 22.1, 6, 18.1</td>\n",
       "    </tr>\n",
       "  </tbody>\n",
       "</table>\n",
       "</div>"
      ],
      "text/plain": [
       "                   name category                                 schedule_1  \\\n",
       "31  Museum Keprajuritan  Militer  Selasa, Rabu, Kamis, Jumat, Sabtu, Minggu   \n",
       "\n",
       "   open_1 closed_1           city             ticket_1 ticket_price_1  \\\n",
       "31  09:00    15:30  Jakarta Timur  Dewasa, Anak - Anak     4000, 2500   \n",
       "\n",
       "                                public_transportation  \\\n",
       "31  Bandara Soekarno - Hatta, Bandara Halim Perdan...   \n",
       "\n",
       "                 distance_to_museum  \n",
       "31  46.4, 12.3, 24.3, 22.1, 6, 18.1  "
      ]
     },
     "execution_count": 61,
     "metadata": {},
     "output_type": "execute_result"
    }
   ],
   "source": [
    "query_3 = raw_museums[\"name\"].iloc[rand.randint(0, 60)]\n",
    "raw_museums[raw_museums[\"name\"].str.contains(query_3)].iloc[0].to_frame().T"
   ]
  },
  {
   "cell_type": "code",
   "execution_count": 62,
   "metadata": {},
   "outputs": [
    {
     "data": {
      "text/html": [
       "<div>\n",
       "<style scoped>\n",
       "    .dataframe tbody tr th:only-of-type {\n",
       "        vertical-align: middle;\n",
       "    }\n",
       "\n",
       "    .dataframe tbody tr th {\n",
       "        vertical-align: top;\n",
       "    }\n",
       "\n",
       "    .dataframe thead th {\n",
       "        text-align: right;\n",
       "    }\n",
       "</style>\n",
       "<table border=\"1\" class=\"dataframe\">\n",
       "  <thead>\n",
       "    <tr style=\"text-align: right;\">\n",
       "      <th></th>\n",
       "      <th>name</th>\n",
       "      <th>category</th>\n",
       "      <th>schedule_1</th>\n",
       "      <th>open_1</th>\n",
       "      <th>closed_1</th>\n",
       "      <th>city</th>\n",
       "      <th>ticket_1</th>\n",
       "      <th>ticket_price_1</th>\n",
       "      <th>public_transportation</th>\n",
       "      <th>distance_to_museum</th>\n",
       "      <th>similarity</th>\n",
       "    </tr>\n",
       "  </thead>\n",
       "  <tbody>\n",
       "    <tr>\n",
       "      <th>0</th>\n",
       "      <td>Museum Mandiri</td>\n",
       "      <td>Sejarah</td>\n",
       "      <td>Selasa, Rabu, Kamis, Jumat, Sabtu, Minggu</td>\n",
       "      <td>09:00</td>\n",
       "      <td>15:30</td>\n",
       "      <td>Jakarta Barat</td>\n",
       "      <td>Dewasa, Anak - Anak, Nasabah, Wisatawan Mancan...</td>\n",
       "      <td>5000, 2000, 2000, 10000</td>\n",
       "      <td>Bandara Soekarno - Hatta, Bandara Halim Perdan...</td>\n",
       "      <td>21.3, 23.9, 5.7, 7.6, 21.6, 33.9</td>\n",
       "      <td>3.292893</td>\n",
       "    </tr>\n",
       "    <tr>\n",
       "      <th>1</th>\n",
       "      <td>Museum Olahraga Nasional</td>\n",
       "      <td>Sains</td>\n",
       "      <td>Selasa, Rabu, Kamis, Jumat, Sabtu, Minggu</td>\n",
       "      <td>09:00</td>\n",
       "      <td>16:00</td>\n",
       "      <td>Jakarta Timur</td>\n",
       "      <td>Dewasa, Umum, Pelajar, Mahasiswa</td>\n",
       "      <td>5000, 5000, 3000, 3000</td>\n",
       "      <td>Bandara Soekarno - Hatta, Bandara Halim Perdan...</td>\n",
       "      <td>45.8, 10.2, 24.4, 22.1, 4, 16</td>\n",
       "      <td>3.479780</td>\n",
       "    </tr>\n",
       "    <tr>\n",
       "      <th>2</th>\n",
       "      <td>Monumen Pancasila Sakti</td>\n",
       "      <td>Militer</td>\n",
       "      <td>Selasa, Rabu, Kamis, Jumat, Sabtu, Minggu</td>\n",
       "      <td>08:00</td>\n",
       "      <td>16:00</td>\n",
       "      <td>Jakarta Timur</td>\n",
       "      <td>Dewasa, Anak - Anak, Pelajar</td>\n",
       "      <td>4000, 2500, 2500</td>\n",
       "      <td>Bandara Halim Perdanakusuma, Bandara Soekarno ...</td>\n",
       "      <td>11, 53, 23, 23, 23, 23</td>\n",
       "      <td>3.516837</td>\n",
       "    </tr>\n",
       "    <tr>\n",
       "      <th>3</th>\n",
       "      <td>Museum Purna Bhakti Pertiwi</td>\n",
       "      <td>Sejarah</td>\n",
       "      <td>Selasa, Rabu, Kamis, Jumat, Sabtu, Minggu</td>\n",
       "      <td>09:00</td>\n",
       "      <td>16:00</td>\n",
       "      <td>Jakarta Timur</td>\n",
       "      <td>Anak - Anak, Dewasa</td>\n",
       "      <td>3000, 5000</td>\n",
       "      <td>Bandara Halim Perdanakusuma, Stasiun Tanjung B...</td>\n",
       "      <td>10.5, 11, 3.2</td>\n",
       "      <td>3.528595</td>\n",
       "    </tr>\n",
       "    <tr>\n",
       "      <th>4</th>\n",
       "      <td>Museum Pusaka</td>\n",
       "      <td>Sejarah</td>\n",
       "      <td>Senin, Selasa, Rabu, Kamis, Jumat, Sabtu, Minggu</td>\n",
       "      <td>09:00</td>\n",
       "      <td>16:00</td>\n",
       "      <td>Jakarta Timur</td>\n",
       "      <td>Umum</td>\n",
       "      <td>10000</td>\n",
       "      <td>Bandara Soekarno - Hatta, Bandara Halim Perdan...</td>\n",
       "      <td>46.4, 12.3, 22.2, 20, 6.1, 18.1</td>\n",
       "      <td>3.574180</td>\n",
       "    </tr>\n",
       "    <tr>\n",
       "      <th>5</th>\n",
       "      <td>Museum Hakka Indonesia</td>\n",
       "      <td>Sejarah</td>\n",
       "      <td>Selasa, Rabu, Kamis, Jumat, Sabtu, Minggu</td>\n",
       "      <td>09:00</td>\n",
       "      <td>16:00</td>\n",
       "      <td>Jakarta Timur</td>\n",
       "      <td>Umum</td>\n",
       "      <td>0</td>\n",
       "      <td>Bandara Soekarno - Hatta, Bandara Halim Perdan...</td>\n",
       "      <td>48, 12.3, 15.1, 6.8</td>\n",
       "      <td>3.979379</td>\n",
       "    </tr>\n",
       "    <tr>\n",
       "      <th>6</th>\n",
       "      <td>Museum Indonesia</td>\n",
       "      <td>Sejarah</td>\n",
       "      <td>Senin, Selasa, Rabu, Kamis, Jumat, Sabtu, Minggu</td>\n",
       "      <td>09:00</td>\n",
       "      <td>16:00</td>\n",
       "      <td>Jakarta Timur</td>\n",
       "      <td>Umum</td>\n",
       "      <td>15000</td>\n",
       "      <td>Bandara Soekarno - Hatta, Bandara Halim Perdan...</td>\n",
       "      <td>45.9, 10.2, 22.2, 20, 5.6, 15</td>\n",
       "      <td>4.074180</td>\n",
       "    </tr>\n",
       "    <tr>\n",
       "      <th>7</th>\n",
       "      <td>Museum Satriamandala</td>\n",
       "      <td>Militer</td>\n",
       "      <td>Selasa, Rabu, Kamis, Jumat, Sabtu, Minggu</td>\n",
       "      <td>09:00</td>\n",
       "      <td>15:00</td>\n",
       "      <td>Jakarta Selatan</td>\n",
       "      <td>Dewasa, Mahasiswa, HUT TNI 5 Oktober</td>\n",
       "      <td>4000, 2500, 0</td>\n",
       "      <td>Bandara Halim Perdanakusuma, Stasiun Tanah Aba...</td>\n",
       "      <td>13, 6, 5</td>\n",
       "      <td>4.120347</td>\n",
       "    </tr>\n",
       "    <tr>\n",
       "      <th>8</th>\n",
       "      <td>Museum Wayang</td>\n",
       "      <td>Seni</td>\n",
       "      <td>Selasa, Rabu, Kamis, Jumat, Sabtu, Minggu</td>\n",
       "      <td>09:00</td>\n",
       "      <td>15:00</td>\n",
       "      <td>Jakarta Barat</td>\n",
       "      <td>Dewasa, Mahasiswa, Pelajar, Anak - Anak</td>\n",
       "      <td>5000, 3000, 2000, 2000</td>\n",
       "      <td>Bandara Soekarno - Hatta, Bandara Halim Perdan...</td>\n",
       "      <td>21, 24, 6, 8, 27, 30</td>\n",
       "      <td>4.126227</td>\n",
       "    </tr>\n",
       "    <tr>\n",
       "      <th>9</th>\n",
       "      <td>Museum BNI 1946</td>\n",
       "      <td>Sejarah</td>\n",
       "      <td>nan</td>\n",
       "      <td>nan</td>\n",
       "      <td>nan</td>\n",
       "      <td>Jakarta Barat</td>\n",
       "      <td>Umum</td>\n",
       "      <td>0</td>\n",
       "      <td>Bandara Soekarno - Hatta, Bandara Halim Perdan...</td>\n",
       "      <td>22.2, 27.2, 19.5, 31.8</td>\n",
       "      <td>4.183503</td>\n",
       "    </tr>\n",
       "  </tbody>\n",
       "</table>\n",
       "</div>"
      ],
      "text/plain": [
       "                          name category  \\\n",
       "0               Museum Mandiri  Sejarah   \n",
       "1     Museum Olahraga Nasional    Sains   \n",
       "2      Monumen Pancasila Sakti  Militer   \n",
       "3  Museum Purna Bhakti Pertiwi  Sejarah   \n",
       "4                Museum Pusaka  Sejarah   \n",
       "5       Museum Hakka Indonesia  Sejarah   \n",
       "6             Museum Indonesia  Sejarah   \n",
       "7         Museum Satriamandala  Militer   \n",
       "8                Museum Wayang     Seni   \n",
       "9              Museum BNI 1946  Sejarah   \n",
       "\n",
       "                                         schedule_1 open_1 closed_1  \\\n",
       "0         Selasa, Rabu, Kamis, Jumat, Sabtu, Minggu  09:00    15:30   \n",
       "1         Selasa, Rabu, Kamis, Jumat, Sabtu, Minggu  09:00    16:00   \n",
       "2         Selasa, Rabu, Kamis, Jumat, Sabtu, Minggu  08:00    16:00   \n",
       "3         Selasa, Rabu, Kamis, Jumat, Sabtu, Minggu  09:00    16:00   \n",
       "4  Senin, Selasa, Rabu, Kamis, Jumat, Sabtu, Minggu  09:00    16:00   \n",
       "5         Selasa, Rabu, Kamis, Jumat, Sabtu, Minggu  09:00    16:00   \n",
       "6  Senin, Selasa, Rabu, Kamis, Jumat, Sabtu, Minggu  09:00    16:00   \n",
       "7         Selasa, Rabu, Kamis, Jumat, Sabtu, Minggu  09:00    15:00   \n",
       "8         Selasa, Rabu, Kamis, Jumat, Sabtu, Minggu  09:00    15:00   \n",
       "9                                               nan    nan      nan   \n",
       "\n",
       "              city                                           ticket_1  \\\n",
       "0    Jakarta Barat  Dewasa, Anak - Anak, Nasabah, Wisatawan Mancan...   \n",
       "1    Jakarta Timur                   Dewasa, Umum, Pelajar, Mahasiswa   \n",
       "2    Jakarta Timur                       Dewasa, Anak - Anak, Pelajar   \n",
       "3    Jakarta Timur                                Anak - Anak, Dewasa   \n",
       "4    Jakarta Timur                                               Umum   \n",
       "5    Jakarta Timur                                               Umum   \n",
       "6    Jakarta Timur                                               Umum   \n",
       "7  Jakarta Selatan               Dewasa, Mahasiswa, HUT TNI 5 Oktober   \n",
       "8    Jakarta Barat            Dewasa, Mahasiswa, Pelajar, Anak - Anak   \n",
       "9    Jakarta Barat                                               Umum   \n",
       "\n",
       "            ticket_price_1                              public_transportation  \\\n",
       "0  5000, 2000, 2000, 10000  Bandara Soekarno - Hatta, Bandara Halim Perdan...   \n",
       "1   5000, 5000, 3000, 3000  Bandara Soekarno - Hatta, Bandara Halim Perdan...   \n",
       "2         4000, 2500, 2500  Bandara Halim Perdanakusuma, Bandara Soekarno ...   \n",
       "3               3000, 5000  Bandara Halim Perdanakusuma, Stasiun Tanjung B...   \n",
       "4                    10000  Bandara Soekarno - Hatta, Bandara Halim Perdan...   \n",
       "5                        0  Bandara Soekarno - Hatta, Bandara Halim Perdan...   \n",
       "6                    15000  Bandara Soekarno - Hatta, Bandara Halim Perdan...   \n",
       "7            4000, 2500, 0  Bandara Halim Perdanakusuma, Stasiun Tanah Aba...   \n",
       "8   5000, 3000, 2000, 2000  Bandara Soekarno - Hatta, Bandara Halim Perdan...   \n",
       "9                        0  Bandara Soekarno - Hatta, Bandara Halim Perdan...   \n",
       "\n",
       "                 distance_to_museum  similarity  \n",
       "0  21.3, 23.9, 5.7, 7.6, 21.6, 33.9    3.292893  \n",
       "1     45.8, 10.2, 24.4, 22.1, 4, 16    3.479780  \n",
       "2            11, 53, 23, 23, 23, 23    3.516837  \n",
       "3                     10.5, 11, 3.2    3.528595  \n",
       "4   46.4, 12.3, 22.2, 20, 6.1, 18.1    3.574180  \n",
       "5               48, 12.3, 15.1, 6.8    3.979379  \n",
       "6     45.9, 10.2, 22.2, 20, 5.6, 15    4.074180  \n",
       "7                          13, 6, 5    4.120347  \n",
       "8              21, 24, 6, 8, 27, 30    4.126227  \n",
       "9            22.2, 27.2, 19.5, 31.8    4.183503  "
      ]
     },
     "execution_count": 62,
     "metadata": {},
     "output_type": "execute_result"
    }
   ],
   "source": [
    "# using cosine similarity\n",
    "recommender(query_3, cosine_distance)"
   ]
  },
  {
   "cell_type": "code",
   "execution_count": 63,
   "metadata": {},
   "outputs": [
    {
     "data": {
      "text/html": [
       "<div>\n",
       "<style scoped>\n",
       "    .dataframe tbody tr th:only-of-type {\n",
       "        vertical-align: middle;\n",
       "    }\n",
       "\n",
       "    .dataframe tbody tr th {\n",
       "        vertical-align: top;\n",
       "    }\n",
       "\n",
       "    .dataframe thead th {\n",
       "        text-align: right;\n",
       "    }\n",
       "</style>\n",
       "<table border=\"1\" class=\"dataframe\">\n",
       "  <thead>\n",
       "    <tr style=\"text-align: right;\">\n",
       "      <th></th>\n",
       "      <th>name</th>\n",
       "      <th>category</th>\n",
       "      <th>schedule_1</th>\n",
       "      <th>open_1</th>\n",
       "      <th>closed_1</th>\n",
       "      <th>city</th>\n",
       "      <th>ticket_1</th>\n",
       "      <th>ticket_price_1</th>\n",
       "      <th>public_transportation</th>\n",
       "      <th>distance_to_museum</th>\n",
       "      <th>similarity</th>\n",
       "    </tr>\n",
       "  </thead>\n",
       "  <tbody>\n",
       "    <tr>\n",
       "      <th>0</th>\n",
       "      <td>Museum Mandiri</td>\n",
       "      <td>Sejarah</td>\n",
       "      <td>Selasa, Rabu, Kamis, Jumat, Sabtu, Minggu</td>\n",
       "      <td>09:00</td>\n",
       "      <td>15:30</td>\n",
       "      <td>Jakarta Barat</td>\n",
       "      <td>Dewasa, Anak - Anak, Nasabah, Wisatawan Mancan...</td>\n",
       "      <td>5000, 2000, 2000, 10000</td>\n",
       "      <td>Bandara Soekarno - Hatta, Bandara Halim Perdan...</td>\n",
       "      <td>21.3, 23.9, 5.7, 7.6, 21.6, 33.9</td>\n",
       "      <td>7.706742</td>\n",
       "    </tr>\n",
       "    <tr>\n",
       "      <th>1</th>\n",
       "      <td>Museum Olahraga Nasional</td>\n",
       "      <td>Sains</td>\n",
       "      <td>Selasa, Rabu, Kamis, Jumat, Sabtu, Minggu</td>\n",
       "      <td>09:00</td>\n",
       "      <td>16:00</td>\n",
       "      <td>Jakarta Timur</td>\n",
       "      <td>Dewasa, Umum, Pelajar, Mahasiswa</td>\n",
       "      <td>5000, 5000, 3000, 3000</td>\n",
       "      <td>Bandara Soekarno - Hatta, Bandara Halim Perdan...</td>\n",
       "      <td>45.8, 10.2, 24.4, 22.1, 4, 16</td>\n",
       "      <td>7.990705</td>\n",
       "    </tr>\n",
       "    <tr>\n",
       "      <th>2</th>\n",
       "      <td>Museum Pusaka</td>\n",
       "      <td>Sejarah</td>\n",
       "      <td>Senin, Selasa, Rabu, Kamis, Jumat, Sabtu, Minggu</td>\n",
       "      <td>09:00</td>\n",
       "      <td>16:00</td>\n",
       "      <td>Jakarta Timur</td>\n",
       "      <td>Umum</td>\n",
       "      <td>10000</td>\n",
       "      <td>Bandara Soekarno - Hatta, Bandara Halim Perdan...</td>\n",
       "      <td>46.4, 12.3, 22.2, 20, 6.1, 18.1</td>\n",
       "      <td>8.009968</td>\n",
       "    </tr>\n",
       "    <tr>\n",
       "      <th>3</th>\n",
       "      <td>Museum Purna Bhakti Pertiwi</td>\n",
       "      <td>Sejarah</td>\n",
       "      <td>Selasa, Rabu, Kamis, Jumat, Sabtu, Minggu</td>\n",
       "      <td>09:00</td>\n",
       "      <td>16:00</td>\n",
       "      <td>Jakarta Timur</td>\n",
       "      <td>Anak - Anak, Dewasa</td>\n",
       "      <td>3000, 5000</td>\n",
       "      <td>Bandara Halim Perdanakusuma, Stasiun Tanjung B...</td>\n",
       "      <td>10.5, 11, 3.2</td>\n",
       "      <td>8.064495</td>\n",
       "    </tr>\n",
       "    <tr>\n",
       "      <th>4</th>\n",
       "      <td>Museum Hakka Indonesia</td>\n",
       "      <td>Sejarah</td>\n",
       "      <td>Selasa, Rabu, Kamis, Jumat, Sabtu, Minggu</td>\n",
       "      <td>09:00</td>\n",
       "      <td>16:00</td>\n",
       "      <td>Jakarta Timur</td>\n",
       "      <td>Umum</td>\n",
       "      <td>0</td>\n",
       "      <td>Bandara Soekarno - Hatta, Bandara Halim Perdan...</td>\n",
       "      <td>48, 12.3, 15.1, 6.8</td>\n",
       "      <td>8.803119</td>\n",
       "    </tr>\n",
       "    <tr>\n",
       "      <th>5</th>\n",
       "      <td>Museum Wayang</td>\n",
       "      <td>Seni</td>\n",
       "      <td>Selasa, Rabu, Kamis, Jumat, Sabtu, Minggu</td>\n",
       "      <td>09:00</td>\n",
       "      <td>15:00</td>\n",
       "      <td>Jakarta Barat</td>\n",
       "      <td>Dewasa, Mahasiswa, Pelajar, Anak - Anak</td>\n",
       "      <td>5000, 3000, 2000, 2000</td>\n",
       "      <td>Bandara Soekarno - Hatta, Bandara Halim Perdan...</td>\n",
       "      <td>21, 24, 6, 8, 27, 30</td>\n",
       "      <td>8.819132</td>\n",
       "    </tr>\n",
       "    <tr>\n",
       "      <th>6</th>\n",
       "      <td>Monumen Pancasila Sakti</td>\n",
       "      <td>Militer</td>\n",
       "      <td>Selasa, Rabu, Kamis, Jumat, Sabtu, Minggu</td>\n",
       "      <td>08:00</td>\n",
       "      <td>16:00</td>\n",
       "      <td>Jakarta Timur</td>\n",
       "      <td>Dewasa, Anak - Anak, Pelajar</td>\n",
       "      <td>4000, 2500, 2500</td>\n",
       "      <td>Bandara Halim Perdanakusuma, Bandara Soekarno ...</td>\n",
       "      <td>11, 53, 23, 23, 23, 23</td>\n",
       "      <td>8.828427</td>\n",
       "    </tr>\n",
       "    <tr>\n",
       "      <th>7</th>\n",
       "      <td>Museum Indonesia</td>\n",
       "      <td>Sejarah</td>\n",
       "      <td>Senin, Selasa, Rabu, Kamis, Jumat, Sabtu, Minggu</td>\n",
       "      <td>09:00</td>\n",
       "      <td>16:00</td>\n",
       "      <td>Jakarta Timur</td>\n",
       "      <td>Umum</td>\n",
       "      <td>15000</td>\n",
       "      <td>Bandara Soekarno - Hatta, Bandara Halim Perdan...</td>\n",
       "      <td>45.9, 10.2, 22.2, 20, 5.6, 15</td>\n",
       "      <td>9.024580</td>\n",
       "    </tr>\n",
       "    <tr>\n",
       "      <th>8</th>\n",
       "      <td>Bayt Al-Qur’an dan Museum Istiqlal</td>\n",
       "      <td>Agama</td>\n",
       "      <td>Selasa, Rabu, Kamis, Jumat, Sabtu, Minggu</td>\n",
       "      <td>08:30</td>\n",
       "      <td>15:00</td>\n",
       "      <td>Jakarta Timur</td>\n",
       "      <td>Umum</td>\n",
       "      <td>0</td>\n",
       "      <td>Bandara Soekarno - Hatta, Bandara Halim Perdan...</td>\n",
       "      <td>45, 10, 20.4, 22.6, 13, 4.3</td>\n",
       "      <td>9.438793</td>\n",
       "    </tr>\n",
       "    <tr>\n",
       "      <th>9</th>\n",
       "      <td>Museum Seni Rupa dan Keramik</td>\n",
       "      <td>Seni</td>\n",
       "      <td>Selasa, Rabu, Kamis, Jumat, Sabtu, Minggu</td>\n",
       "      <td>09:00</td>\n",
       "      <td>15:00</td>\n",
       "      <td>Jakarta Barat</td>\n",
       "      <td>Dewasa, Umum, Mahasiswa, Pelajar, Anak - Anak</td>\n",
       "      <td>5000, 5000, 3000, 2000, 2000</td>\n",
       "      <td>Bandara Soekarno - Hatta, Bandara Halim Perdan...</td>\n",
       "      <td>21.6, 25, 8.8, 6.4, 30.7, 24.9</td>\n",
       "      <td>9.438793</td>\n",
       "    </tr>\n",
       "  </tbody>\n",
       "</table>\n",
       "</div>"
      ],
      "text/plain": [
       "                                 name category  \\\n",
       "0                      Museum Mandiri  Sejarah   \n",
       "1            Museum Olahraga Nasional    Sains   \n",
       "2                       Museum Pusaka  Sejarah   \n",
       "3         Museum Purna Bhakti Pertiwi  Sejarah   \n",
       "4              Museum Hakka Indonesia  Sejarah   \n",
       "5                       Museum Wayang     Seni   \n",
       "6             Monumen Pancasila Sakti  Militer   \n",
       "7                    Museum Indonesia  Sejarah   \n",
       "8  Bayt Al-Qur’an dan Museum Istiqlal    Agama   \n",
       "9        Museum Seni Rupa dan Keramik     Seni   \n",
       "\n",
       "                                         schedule_1 open_1 closed_1  \\\n",
       "0         Selasa, Rabu, Kamis, Jumat, Sabtu, Minggu  09:00    15:30   \n",
       "1         Selasa, Rabu, Kamis, Jumat, Sabtu, Minggu  09:00    16:00   \n",
       "2  Senin, Selasa, Rabu, Kamis, Jumat, Sabtu, Minggu  09:00    16:00   \n",
       "3         Selasa, Rabu, Kamis, Jumat, Sabtu, Minggu  09:00    16:00   \n",
       "4         Selasa, Rabu, Kamis, Jumat, Sabtu, Minggu  09:00    16:00   \n",
       "5         Selasa, Rabu, Kamis, Jumat, Sabtu, Minggu  09:00    15:00   \n",
       "6         Selasa, Rabu, Kamis, Jumat, Sabtu, Minggu  08:00    16:00   \n",
       "7  Senin, Selasa, Rabu, Kamis, Jumat, Sabtu, Minggu  09:00    16:00   \n",
       "8         Selasa, Rabu, Kamis, Jumat, Sabtu, Minggu  08:30    15:00   \n",
       "9         Selasa, Rabu, Kamis, Jumat, Sabtu, Minggu  09:00    15:00   \n",
       "\n",
       "            city                                           ticket_1  \\\n",
       "0  Jakarta Barat  Dewasa, Anak - Anak, Nasabah, Wisatawan Mancan...   \n",
       "1  Jakarta Timur                   Dewasa, Umum, Pelajar, Mahasiswa   \n",
       "2  Jakarta Timur                                               Umum   \n",
       "3  Jakarta Timur                                Anak - Anak, Dewasa   \n",
       "4  Jakarta Timur                                               Umum   \n",
       "5  Jakarta Barat            Dewasa, Mahasiswa, Pelajar, Anak - Anak   \n",
       "6  Jakarta Timur                       Dewasa, Anak - Anak, Pelajar   \n",
       "7  Jakarta Timur                                               Umum   \n",
       "8  Jakarta Timur                                               Umum   \n",
       "9  Jakarta Barat      Dewasa, Umum, Mahasiswa, Pelajar, Anak - Anak   \n",
       "\n",
       "                 ticket_price_1  \\\n",
       "0       5000, 2000, 2000, 10000   \n",
       "1        5000, 5000, 3000, 3000   \n",
       "2                         10000   \n",
       "3                    3000, 5000   \n",
       "4                             0   \n",
       "5        5000, 3000, 2000, 2000   \n",
       "6              4000, 2500, 2500   \n",
       "7                         15000   \n",
       "8                             0   \n",
       "9  5000, 5000, 3000, 2000, 2000   \n",
       "\n",
       "                               public_transportation  \\\n",
       "0  Bandara Soekarno - Hatta, Bandara Halim Perdan...   \n",
       "1  Bandara Soekarno - Hatta, Bandara Halim Perdan...   \n",
       "2  Bandara Soekarno - Hatta, Bandara Halim Perdan...   \n",
       "3  Bandara Halim Perdanakusuma, Stasiun Tanjung B...   \n",
       "4  Bandara Soekarno - Hatta, Bandara Halim Perdan...   \n",
       "5  Bandara Soekarno - Hatta, Bandara Halim Perdan...   \n",
       "6  Bandara Halim Perdanakusuma, Bandara Soekarno ...   \n",
       "7  Bandara Soekarno - Hatta, Bandara Halim Perdan...   \n",
       "8  Bandara Soekarno - Hatta, Bandara Halim Perdan...   \n",
       "9  Bandara Soekarno - Hatta, Bandara Halim Perdan...   \n",
       "\n",
       "                 distance_to_museum  similarity  \n",
       "0  21.3, 23.9, 5.7, 7.6, 21.6, 33.9    7.706742  \n",
       "1     45.8, 10.2, 24.4, 22.1, 4, 16    7.990705  \n",
       "2   46.4, 12.3, 22.2, 20, 6.1, 18.1    8.009968  \n",
       "3                     10.5, 11, 3.2    8.064495  \n",
       "4               48, 12.3, 15.1, 6.8    8.803119  \n",
       "5              21, 24, 6, 8, 27, 30    8.819132  \n",
       "6            11, 53, 23, 23, 23, 23    8.828427  \n",
       "7     45.9, 10.2, 22.2, 20, 5.6, 15    9.024580  \n",
       "8       45, 10, 20.4, 22.6, 13, 4.3    9.438793  \n",
       "9    21.6, 25, 8.8, 6.4, 30.7, 24.9    9.438793  "
      ]
     },
     "execution_count": 63,
     "metadata": {},
     "output_type": "execute_result"
    }
   ],
   "source": [
    "# using euclidean similarity\n",
    "recommender(query_3, euclidean_distance)"
   ]
  },
  {
   "cell_type": "markdown",
   "metadata": {},
   "source": [
    "from the 3 random experiments, cosine distance more often recommends \"Museum BNI 1946\" on every occasion, whereas the euclidean distance did not. "
   ]
  }
 ],
 "metadata": {
  "interpreter": {
   "hash": "64655c6e5ea7413915ad94f8b213b2a5c8128a5529e660bc1636dd6010c004cb"
  },
  "kernelspec": {
   "display_name": "Python 3.9.5 64-bit ('venv': venv)",
   "name": "python3"
  },
  "language_info": {
   "codemirror_mode": {
    "name": "ipython",
    "version": 3
   },
   "file_extension": ".py",
   "mimetype": "text/x-python",
   "name": "python",
   "nbconvert_exporter": "python",
   "pygments_lexer": "ipython3",
   "version": "3.9.5"
  },
  "orig_nbformat": 4
 },
 "nbformat": 4,
 "nbformat_minor": 2
}
