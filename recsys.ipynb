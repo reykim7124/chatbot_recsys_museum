{
 "cells": [
  {
   "cell_type": "markdown",
   "metadata": {},
   "source": [
    "my reference for creating this recommender system model (thank you Heeral Dedhia!): [https://www.kaggle.com/heeraldedhia/movie-ratings-and-recommendation-using-knn](https://www.kaggle.com/heeraldedhia/movie-ratings-and-recommendation-using-knn \"Movie Ratings and Recommendation using KNN\")"
   ]
  },
  {
   "cell_type": "markdown",
   "metadata": {},
   "source": [
    "# Constant Data"
   ]
  },
  {
   "cell_type": "code",
   "execution_count": 1,
   "metadata": {},
   "outputs": [],
   "source": [
    "# import libraries\n",
    "import pandas as pd\n",
    "import os\n",
    "import matplotlib.pyplot as plt\n",
    "import seaborn as sns\n",
    "import math\n",
    "import operator\n",
    "import random as rand\n",
    "import numpy as np\n",
    "import re\n",
    "import nltk\n",
    "from sklearn.metrics.pairwise import cosine_similarity\n",
    "from sklearn.feature_extraction.text import TfidfVectorizer"
   ]
  },
  {
   "cell_type": "code",
   "execution_count": 2,
   "metadata": {},
   "outputs": [],
   "source": [
    "# functions\n",
    "def str_to_list(df, col):\n",
    "    \"\"\"\n",
    "    Function to format datatypes in all columns of a \n",
    "    dataframe into a list\n",
    "\n",
    "    Parameters:\n",
    "    -----------\n",
    "    df: The dataframe\n",
    "\n",
    "    col: Columns that needs to be formatted\n",
    "    \"\"\"\n",
    "    for c in col:\n",
    "        if c:\n",
    "            df[c] = df[c].apply(lambda x: x.split(\n",
    "                \", \") if x is not np.nan and isinstance(x, str) else [x])\n",
    "\n",
    "    return df\n",
    "\n",
    "\n",
    "def remove_duplicates(x):\n",
    "    \"\"\"\n",
    "    Function to remove duplicates in a list\n",
    "\n",
    "    Parameters:\n",
    "    -----------\n",
    "    x: The list\n",
    "    \"\"\"\n",
    "    # x = x.apply(lambda x: x.split(\", \"))\n",
    "    x = x.explode()\n",
    "    x = x.drop_duplicates()\n",
    "    return set(x)\n",
    "\n",
    "\n",
    "def binary(xList, yList):\n",
    "    \"\"\"\n",
    "    One Hot Encoding\n",
    "    \"\"\"\n",
    "    zList = []\n",
    "\n",
    "    for x in xList:\n",
    "        if yList != False and x in yList:\n",
    "            zList.append(1)\n",
    "        else:\n",
    "            zList.append(0)\n",
    "\n",
    "    return zList\n",
    "\n",
    "\n",
    "def top_graph(df, name):\n",
    "\n",
    "    lists = []\n",
    "    for i in df:\n",
    "        lists.extend(i)\n",
    "    ax = pd.Series(lists).value_counts()[:25].sort_values(\n",
    "        ascending=True).plot.barh(color=sns.color_palette('hls', 10))\n",
    "    plt.title('Top ' + name)\n",
    "    plt.show()\n",
    "\n",
    "\n",
    "def time_to_numeric(x):\n",
    "    h, m = x.split(\":\")\n",
    "    return int(h) * 3600 + int(m) * 60\n",
    "\n",
    "\n",
    "def min_max_normalize(val, min_val, max_val):\n",
    "    for i, v in enumerate(val):\n",
    "        val[i] = (v - min_val) / (max_val - min_val)\n",
    "    return val"
   ]
  },
  {
   "cell_type": "code",
   "execution_count": 3,
   "metadata": {},
   "outputs": [],
   "source": [
    "# import dataset\n",
    "dir_path = os.getcwd()\n",
    "xls = pd.ExcelFile(dir_path + \"/datasets/raw_dataset.xlsx\")\n",
    "raw_museums = pd.read_excel(xls, \"Sheet1\")"
   ]
  },
  {
   "cell_type": "markdown",
   "metadata": {},
   "source": [
    "# Exploration"
   ]
  },
  {
   "cell_type": "code",
   "execution_count": 4,
   "metadata": {},
   "outputs": [
    {
     "data": {
      "text/html": [
       "<div>\n",
       "<style scoped>\n",
       "    .dataframe tbody tr th:only-of-type {\n",
       "        vertical-align: middle;\n",
       "    }\n",
       "\n",
       "    .dataframe tbody tr th {\n",
       "        vertical-align: top;\n",
       "    }\n",
       "\n",
       "    .dataframe thead th {\n",
       "        text-align: right;\n",
       "    }\n",
       "</style>\n",
       "<table border=\"1\" class=\"dataframe\">\n",
       "  <thead>\n",
       "    <tr style=\"text-align: right;\">\n",
       "      <th></th>\n",
       "      <th>name</th>\n",
       "      <th>category</th>\n",
       "      <th>schedule_1</th>\n",
       "      <th>schedule_name_1</th>\n",
       "      <th>open_1</th>\n",
       "      <th>closed_1</th>\n",
       "      <th>schedule_2</th>\n",
       "      <th>schedule_name_2</th>\n",
       "      <th>open_2</th>\n",
       "      <th>closed_2</th>\n",
       "      <th>...</th>\n",
       "      <th>ticket_1</th>\n",
       "      <th>ticket_price_1</th>\n",
       "      <th>ticket_2</th>\n",
       "      <th>ticket_name_2</th>\n",
       "      <th>ticket_price_2</th>\n",
       "      <th>public_transportation</th>\n",
       "      <th>distance_to_museum</th>\n",
       "      <th>latitude</th>\n",
       "      <th>longitude</th>\n",
       "      <th>description</th>\n",
       "    </tr>\n",
       "  </thead>\n",
       "  <tbody>\n",
       "    <tr>\n",
       "      <th>0</th>\n",
       "      <td>Art: 1 New Museum</td>\n",
       "      <td>Seni</td>\n",
       "      <td>Selasa, Rabu, Kamis, Jumat, Sabtu</td>\n",
       "      <td>NaN</td>\n",
       "      <td>10:00</td>\n",
       "      <td>20:00</td>\n",
       "      <td>Minggu</td>\n",
       "      <td>NaN</td>\n",
       "      <td>10:00</td>\n",
       "      <td>16:00</td>\n",
       "      <td>...</td>\n",
       "      <td>Wisatawan Mancanegara, Umum, Pelajar, Anak - Anak</td>\n",
       "      <td>125000, 100000, 75000, 0</td>\n",
       "      <td>NaN</td>\n",
       "      <td>NaN</td>\n",
       "      <td>NaN</td>\n",
       "      <td>Bandara Halim Perdanakusuma, Stasiun Rajawali,...</td>\n",
       "      <td>26.9, 0.75, 3.2, 4.4, 5.7</td>\n",
       "      <td>-6.146950</td>\n",
       "      <td>106.840289</td>\n",
       "      <td>Art: 1 New Museum merupakan museum khusus yang...</td>\n",
       "    </tr>\n",
       "    <tr>\n",
       "      <th>1</th>\n",
       "      <td>Bayt Al-Qur’an dan Museum Istiqlal</td>\n",
       "      <td>Agama</td>\n",
       "      <td>Selasa, Rabu, Kamis, Jumat, Sabtu, Minggu</td>\n",
       "      <td>NaN</td>\n",
       "      <td>08:30</td>\n",
       "      <td>15:00</td>\n",
       "      <td>NaN</td>\n",
       "      <td>NaN</td>\n",
       "      <td>NaN</td>\n",
       "      <td>NaN</td>\n",
       "      <td>...</td>\n",
       "      <td>Umum</td>\n",
       "      <td>0</td>\n",
       "      <td>NaN</td>\n",
       "      <td>NaN</td>\n",
       "      <td>NaN</td>\n",
       "      <td>Bandara Soekarno - Hatta, Bandara Halim Perdan...</td>\n",
       "      <td>45, 10, 20.4, 22.6, 13, 4.3</td>\n",
       "      <td>-6.302798</td>\n",
       "      <td>106.887863</td>\n",
       "      <td>Museum Bayt Al-Qur’an dan Museum Istiqlal meru...</td>\n",
       "    </tr>\n",
       "    <tr>\n",
       "      <th>2</th>\n",
       "      <td>Galeri Foto Jurnalistik Antara</td>\n",
       "      <td>Sejarah</td>\n",
       "      <td>Selasa, Rabu, Kamis, Jumat, Sabtu, Minggu</td>\n",
       "      <td>NaN</td>\n",
       "      <td>10:00</td>\n",
       "      <td>20:00</td>\n",
       "      <td>NaN</td>\n",
       "      <td>NaN</td>\n",
       "      <td>NaN</td>\n",
       "      <td>NaN</td>\n",
       "      <td>...</td>\n",
       "      <td>Umum</td>\n",
       "      <td>0</td>\n",
       "      <td>NaN</td>\n",
       "      <td>NaN</td>\n",
       "      <td>NaN</td>\n",
       "      <td>Bandara Soekarno - Hatta, Bandara Halim Perdan...</td>\n",
       "      <td>29, 14, 1, 3, 3</td>\n",
       "      <td>-6.165897</td>\n",
       "      <td>106.833967</td>\n",
       "      <td>Gedung Galeri Foto Jurnalistik Antara merupaka...</td>\n",
       "    </tr>\n",
       "    <tr>\n",
       "      <th>3</th>\n",
       "      <td>Galeri Nasional Indonesia</td>\n",
       "      <td>Seni</td>\n",
       "      <td>Selasa, Rabu, Kamis, Jumat</td>\n",
       "      <td>Pameran Tetap</td>\n",
       "      <td>09:00</td>\n",
       "      <td>16:00</td>\n",
       "      <td>Senin, Selasa, Rabu, Kamis, Jumat, Sabtu, Minggu</td>\n",
       "      <td>Pameran Temporer</td>\n",
       "      <td>10:00</td>\n",
       "      <td>19:00</td>\n",
       "      <td>...</td>\n",
       "      <td>Umum</td>\n",
       "      <td>0</td>\n",
       "      <td>NaN</td>\n",
       "      <td>NaN</td>\n",
       "      <td>NaN</td>\n",
       "      <td>Bandara Soekarno - Hatta, Bandara Halim Perdan...</td>\n",
       "      <td>28.6, 20.4, 22.7, 13.3</td>\n",
       "      <td>-6.178550</td>\n",
       "      <td>106.832772</td>\n",
       "      <td>Galeri Nasional Indonesia telah dirintis sejak...</td>\n",
       "    </tr>\n",
       "    <tr>\n",
       "      <th>4</th>\n",
       "      <td>Monumen Nasional</td>\n",
       "      <td>Sejarah</td>\n",
       "      <td>Selasa, Rabu, Kamis, Jumat, Sabtu, Minggu</td>\n",
       "      <td>Pelataran Puncak Sesi 1</td>\n",
       "      <td>08:00</td>\n",
       "      <td>16:00</td>\n",
       "      <td>Selasa, Rabu, Kamis, Jumat, Sabtu, Minggu</td>\n",
       "      <td>Pelataran Puncak Sesi 2</td>\n",
       "      <td>19:00</td>\n",
       "      <td>22:00</td>\n",
       "      <td>...</td>\n",
       "      <td>Dewasa, Anak - Anak</td>\n",
       "      <td>20000, 10000</td>\n",
       "      <td>Dewasa, Anak - Anak</td>\n",
       "      <td>Pelataran Puncak</td>\n",
       "      <td>7500, 3500</td>\n",
       "      <td>Stasiun Gambir, Stasiun Pasar Senen, Terminal ...</td>\n",
       "      <td>0.85, 3, 4, 4, 16, 30</td>\n",
       "      <td>-6.175394</td>\n",
       "      <td>106.827152</td>\n",
       "      <td>Monumen Nasional dibangun pada masa pemerintah...</td>\n",
       "    </tr>\n",
       "  </tbody>\n",
       "</table>\n",
       "<p>5 rows × 32 columns</p>\n",
       "</div>"
      ],
      "text/plain": [
       "                                 name category  \\\n",
       "0                   Art: 1 New Museum     Seni   \n",
       "1  Bayt Al-Qur’an dan Museum Istiqlal    Agama   \n",
       "2      Galeri Foto Jurnalistik Antara  Sejarah   \n",
       "3           Galeri Nasional Indonesia     Seni   \n",
       "4                    Monumen Nasional  Sejarah   \n",
       "\n",
       "                                  schedule_1          schedule_name_1 open_1  \\\n",
       "0          Selasa, Rabu, Kamis, Jumat, Sabtu                      NaN  10:00   \n",
       "1  Selasa, Rabu, Kamis, Jumat, Sabtu, Minggu                      NaN  08:30   \n",
       "2  Selasa, Rabu, Kamis, Jumat, Sabtu, Minggu                      NaN  10:00   \n",
       "3                 Selasa, Rabu, Kamis, Jumat            Pameran Tetap  09:00   \n",
       "4  Selasa, Rabu, Kamis, Jumat, Sabtu, Minggu  Pelataran Puncak Sesi 1  08:00   \n",
       "\n",
       "  closed_1                                        schedule_2  \\\n",
       "0    20:00                                            Minggu   \n",
       "1    15:00                                               NaN   \n",
       "2    20:00                                               NaN   \n",
       "3    16:00  Senin, Selasa, Rabu, Kamis, Jumat, Sabtu, Minggu   \n",
       "4    16:00         Selasa, Rabu, Kamis, Jumat, Sabtu, Minggu   \n",
       "\n",
       "           schedule_name_2 open_2 closed_2  ...  \\\n",
       "0                      NaN  10:00    16:00  ...   \n",
       "1                      NaN    NaN      NaN  ...   \n",
       "2                      NaN    NaN      NaN  ...   \n",
       "3         Pameran Temporer  10:00    19:00  ...   \n",
       "4  Pelataran Puncak Sesi 2  19:00    22:00  ...   \n",
       "\n",
       "                                            ticket_1  \\\n",
       "0  Wisatawan Mancanegara, Umum, Pelajar, Anak - Anak   \n",
       "1                                               Umum   \n",
       "2                                               Umum   \n",
       "3                                               Umum   \n",
       "4                                Dewasa, Anak - Anak   \n",
       "\n",
       "             ticket_price_1             ticket_2     ticket_name_2  \\\n",
       "0  125000, 100000, 75000, 0                  NaN               NaN   \n",
       "1                         0                  NaN               NaN   \n",
       "2                         0                  NaN               NaN   \n",
       "3                         0                  NaN               NaN   \n",
       "4              20000, 10000  Dewasa, Anak - Anak  Pelataran Puncak   \n",
       "\n",
       "  ticket_price_2                              public_transportation  \\\n",
       "0            NaN  Bandara Halim Perdanakusuma, Stasiun Rajawali,...   \n",
       "1            NaN  Bandara Soekarno - Hatta, Bandara Halim Perdan...   \n",
       "2            NaN  Bandara Soekarno - Hatta, Bandara Halim Perdan...   \n",
       "3            NaN  Bandara Soekarno - Hatta, Bandara Halim Perdan...   \n",
       "4     7500, 3500  Stasiun Gambir, Stasiun Pasar Senen, Terminal ...   \n",
       "\n",
       "            distance_to_museum  latitude   longitude  \\\n",
       "0    26.9, 0.75, 3.2, 4.4, 5.7 -6.146950  106.840289   \n",
       "1  45, 10, 20.4, 22.6, 13, 4.3 -6.302798  106.887863   \n",
       "2              29, 14, 1, 3, 3 -6.165897  106.833967   \n",
       "3       28.6, 20.4, 22.7, 13.3 -6.178550  106.832772   \n",
       "4        0.85, 3, 4, 4, 16, 30 -6.175394  106.827152   \n",
       "\n",
       "                                         description  \n",
       "0  Art: 1 New Museum merupakan museum khusus yang...  \n",
       "1  Museum Bayt Al-Qur’an dan Museum Istiqlal meru...  \n",
       "2  Gedung Galeri Foto Jurnalistik Antara merupaka...  \n",
       "3  Galeri Nasional Indonesia telah dirintis sejak...  \n",
       "4  Monumen Nasional dibangun pada masa pemerintah...  \n",
       "\n",
       "[5 rows x 32 columns]"
      ]
     },
     "execution_count": 4,
     "metadata": {},
     "output_type": "execute_result"
    }
   ],
   "source": [
    "# show first 5 rows of data\n",
    "raw_museums.head(5)"
   ]
  },
  {
   "cell_type": "code",
   "execution_count": 5,
   "metadata": {},
   "outputs": [
    {
     "data": {
      "text/plain": [
       "Index(['name', 'category', 'schedule_1', 'schedule_name_1', 'open_1',\n",
       "       'closed_1', 'schedule_2', 'schedule_name_2', 'open_2', 'closed_2',\n",
       "       'schedule_3', 'schedule_name_3', 'open_3', 'closed_3', 'address',\n",
       "       'city', 'phone_number', 'email', 'website', 'facebook', 'instagram',\n",
       "       'twitter', 'ticket_1', 'ticket_price_1', 'ticket_2', 'ticket_name_2',\n",
       "       'ticket_price_2', 'public_transportation', 'distance_to_museum',\n",
       "       'latitude', 'longitude', 'description'],\n",
       "      dtype='object')"
      ]
     },
     "execution_count": 5,
     "metadata": {},
     "output_type": "execute_result"
    }
   ],
   "source": [
    "# show columns\n",
    "raw_museums.columns"
   ]
  },
  {
   "cell_type": "code",
   "execution_count": 6,
   "metadata": {},
   "outputs": [
    {
     "data": {
      "text/plain": [
       "Index(['name', 'category', 'schedule_1', 'open_1', 'closed_1', 'city',\n",
       "       'ticket_1', 'ticket_price_1', 'public_transportation', 'description'],\n",
       "      dtype='object')"
      ]
     },
     "execution_count": 6,
     "metadata": {},
     "output_type": "execute_result"
    }
   ],
   "source": [
    "# drop columns\n",
    "raw_museums.drop([\"schedule_name_1\", \"schedule_2\", \"schedule_name_2\", \"schedule_3\", \"schedule_name_3\", \"ticket_2\", \"ticket_name_2\", \"ticket_price_2\", \"address\", \"phone_number\", \"email\", \"website\", \"facebook\", \"instagram\", \"twitter\", \"latitude\", \"longitude\", \"open_2\", \"closed_2\", \"open_3\", \"closed_3\", \"distance_to_museum\"], axis=1, inplace=True)\n",
    "museums = raw_museums.copy()\n",
    "museums.columns"
   ]
  },
  {
   "cell_type": "markdown",
   "metadata": {},
   "source": [
    "## Convert time to numerical"
   ]
  },
  {
   "cell_type": "code",
   "execution_count": 7,
   "metadata": {},
   "outputs": [],
   "source": [
    "museums[\"open_1\"] = museums[\"open_1\"].apply(lambda x: time_to_numeric(x) if x is not np.nan else np.nan)\n",
    "museums[\"closed_1\"] = museums[\"closed_1\"].apply(lambda x: time_to_numeric(x) if x is not np.nan else np.nan)"
   ]
  },
  {
   "cell_type": "markdown",
   "metadata": {},
   "source": [
    "## Data to List"
   ]
  },
  {
   "cell_type": "code",
   "execution_count": 8,
   "metadata": {},
   "outputs": [],
   "source": [
    "museums = str_to_list(museums, [\"category\", \"open_1\", \"closed_1\", \"city\", \"schedule_1\", \"ticket_1\", \"ticket_price_1\", \"public_transportation\"])"
   ]
  },
  {
   "cell_type": "code",
   "execution_count": 9,
   "metadata": {},
   "outputs": [
    {
     "data": {
      "text/html": [
       "<div>\n",
       "<style scoped>\n",
       "    .dataframe tbody tr th:only-of-type {\n",
       "        vertical-align: middle;\n",
       "    }\n",
       "\n",
       "    .dataframe tbody tr th {\n",
       "        vertical-align: top;\n",
       "    }\n",
       "\n",
       "    .dataframe thead th {\n",
       "        text-align: right;\n",
       "    }\n",
       "</style>\n",
       "<table border=\"1\" class=\"dataframe\">\n",
       "  <thead>\n",
       "    <tr style=\"text-align: right;\">\n",
       "      <th></th>\n",
       "      <th>name</th>\n",
       "      <th>category</th>\n",
       "      <th>schedule_1</th>\n",
       "      <th>open_1</th>\n",
       "      <th>closed_1</th>\n",
       "      <th>city</th>\n",
       "      <th>ticket_1</th>\n",
       "      <th>ticket_price_1</th>\n",
       "      <th>public_transportation</th>\n",
       "      <th>description</th>\n",
       "    </tr>\n",
       "  </thead>\n",
       "  <tbody>\n",
       "    <tr>\n",
       "      <th>0</th>\n",
       "      <td>Art: 1 New Museum</td>\n",
       "      <td>[Seni]</td>\n",
       "      <td>[Selasa, Rabu, Kamis, Jumat, Sabtu]</td>\n",
       "      <td>[36000.0]</td>\n",
       "      <td>[72000.0]</td>\n",
       "      <td>[Jakarta Pusat]</td>\n",
       "      <td>[Wisatawan Mancanegara, Umum, Pelajar, Anak - ...</td>\n",
       "      <td>[125000, 100000, 75000, 0]</td>\n",
       "      <td>[Bandara Halim Perdanakusuma, Stasiun Rajawali...</td>\n",
       "      <td>Art: 1 New Museum merupakan museum khusus yang...</td>\n",
       "    </tr>\n",
       "    <tr>\n",
       "      <th>1</th>\n",
       "      <td>Bayt Al-Qur’an dan Museum Istiqlal</td>\n",
       "      <td>[Agama]</td>\n",
       "      <td>[Selasa, Rabu, Kamis, Jumat, Sabtu, Minggu]</td>\n",
       "      <td>[30600.0]</td>\n",
       "      <td>[54000.0]</td>\n",
       "      <td>[Jakarta Timur]</td>\n",
       "      <td>[Umum]</td>\n",
       "      <td>[0]</td>\n",
       "      <td>[Bandara Soekarno - Hatta, Bandara Halim Perda...</td>\n",
       "      <td>Museum Bayt Al-Qur’an dan Museum Istiqlal meru...</td>\n",
       "    </tr>\n",
       "    <tr>\n",
       "      <th>2</th>\n",
       "      <td>Galeri Foto Jurnalistik Antara</td>\n",
       "      <td>[Sejarah]</td>\n",
       "      <td>[Selasa, Rabu, Kamis, Jumat, Sabtu, Minggu]</td>\n",
       "      <td>[36000.0]</td>\n",
       "      <td>[72000.0]</td>\n",
       "      <td>[Jakarta Pusat]</td>\n",
       "      <td>[Umum]</td>\n",
       "      <td>[0]</td>\n",
       "      <td>[Bandara Soekarno - Hatta, Bandara Halim Perda...</td>\n",
       "      <td>Gedung Galeri Foto Jurnalistik Antara merupaka...</td>\n",
       "    </tr>\n",
       "    <tr>\n",
       "      <th>3</th>\n",
       "      <td>Galeri Nasional Indonesia</td>\n",
       "      <td>[Seni]</td>\n",
       "      <td>[Selasa, Rabu, Kamis, Jumat]</td>\n",
       "      <td>[32400.0]</td>\n",
       "      <td>[57600.0]</td>\n",
       "      <td>[Jakarta Pusat]</td>\n",
       "      <td>[Umum]</td>\n",
       "      <td>[0]</td>\n",
       "      <td>[Bandara Soekarno - Hatta, Bandara Halim Perda...</td>\n",
       "      <td>Galeri Nasional Indonesia telah dirintis sejak...</td>\n",
       "    </tr>\n",
       "    <tr>\n",
       "      <th>4</th>\n",
       "      <td>Monumen Nasional</td>\n",
       "      <td>[Sejarah]</td>\n",
       "      <td>[Selasa, Rabu, Kamis, Jumat, Sabtu, Minggu]</td>\n",
       "      <td>[28800.0]</td>\n",
       "      <td>[57600.0]</td>\n",
       "      <td>[Jakarta Pusat]</td>\n",
       "      <td>[Dewasa, Anak - Anak]</td>\n",
       "      <td>[20000, 10000]</td>\n",
       "      <td>[Stasiun Gambir, Stasiun Pasar Senen, Terminal...</td>\n",
       "      <td>Monumen Nasional dibangun pada masa pemerintah...</td>\n",
       "    </tr>\n",
       "  </tbody>\n",
       "</table>\n",
       "</div>"
      ],
      "text/plain": [
       "                                 name   category  \\\n",
       "0                   Art: 1 New Museum     [Seni]   \n",
       "1  Bayt Al-Qur’an dan Museum Istiqlal    [Agama]   \n",
       "2      Galeri Foto Jurnalistik Antara  [Sejarah]   \n",
       "3           Galeri Nasional Indonesia     [Seni]   \n",
       "4                    Monumen Nasional  [Sejarah]   \n",
       "\n",
       "                                    schedule_1     open_1   closed_1  \\\n",
       "0          [Selasa, Rabu, Kamis, Jumat, Sabtu]  [36000.0]  [72000.0]   \n",
       "1  [Selasa, Rabu, Kamis, Jumat, Sabtu, Minggu]  [30600.0]  [54000.0]   \n",
       "2  [Selasa, Rabu, Kamis, Jumat, Sabtu, Minggu]  [36000.0]  [72000.0]   \n",
       "3                 [Selasa, Rabu, Kamis, Jumat]  [32400.0]  [57600.0]   \n",
       "4  [Selasa, Rabu, Kamis, Jumat, Sabtu, Minggu]  [28800.0]  [57600.0]   \n",
       "\n",
       "              city                                           ticket_1  \\\n",
       "0  [Jakarta Pusat]  [Wisatawan Mancanegara, Umum, Pelajar, Anak - ...   \n",
       "1  [Jakarta Timur]                                             [Umum]   \n",
       "2  [Jakarta Pusat]                                             [Umum]   \n",
       "3  [Jakarta Pusat]                                             [Umum]   \n",
       "4  [Jakarta Pusat]                              [Dewasa, Anak - Anak]   \n",
       "\n",
       "               ticket_price_1  \\\n",
       "0  [125000, 100000, 75000, 0]   \n",
       "1                         [0]   \n",
       "2                         [0]   \n",
       "3                         [0]   \n",
       "4              [20000, 10000]   \n",
       "\n",
       "                               public_transportation  \\\n",
       "0  [Bandara Halim Perdanakusuma, Stasiun Rajawali...   \n",
       "1  [Bandara Soekarno - Hatta, Bandara Halim Perda...   \n",
       "2  [Bandara Soekarno - Hatta, Bandara Halim Perda...   \n",
       "3  [Bandara Soekarno - Hatta, Bandara Halim Perda...   \n",
       "4  [Stasiun Gambir, Stasiun Pasar Senen, Terminal...   \n",
       "\n",
       "                                         description  \n",
       "0  Art: 1 New Museum merupakan museum khusus yang...  \n",
       "1  Museum Bayt Al-Qur’an dan Museum Istiqlal meru...  \n",
       "2  Gedung Galeri Foto Jurnalistik Antara merupaka...  \n",
       "3  Galeri Nasional Indonesia telah dirintis sejak...  \n",
       "4  Monumen Nasional dibangun pada masa pemerintah...  "
      ]
     },
     "execution_count": 9,
     "metadata": {},
     "output_type": "execute_result"
    }
   ],
   "source": [
    "museums.head(5)"
   ]
  },
  {
   "cell_type": "markdown",
   "metadata": {},
   "source": [
    "## Handle Categorical Data"
   ]
  },
  {
   "cell_type": "markdown",
   "metadata": {},
   "source": [
    "### Working with Schedules"
   ]
  },
  {
   "cell_type": "code",
   "execution_count": 10,
   "metadata": {},
   "outputs": [
    {
     "data": {
      "image/png": "[encoded data removed]",
      "text/plain": [
       "<Figure size 432x288 with 1 Axes>"
      ]
     },
     "metadata": {
      "needs_background": "light"
     },
     "output_type": "display_data"
    }
   ],
   "source": [
    "# Top schedule 1\n",
    "schedule_1 = museums.filter([\"schedule_1\"], axis=1)\n",
    "schedule_1.drop(schedule_1.index[schedule_1['schedule_1'] == np.nan], inplace=True)\n",
    "top_graph(schedule_1[\"schedule_1\"], \"Schedule 1\")"
   ]
  },
  {
   "cell_type": "markdown",
   "metadata": {},
   "source": [
    "#### Generate sorted scheduleList"
   ]
  },
  {
   "cell_type": "code",
   "execution_count": 11,
   "metadata": {},
   "outputs": [],
   "source": [
    "schedule_list = [\"Senin\", \"Selasa\", \"Rabu\", \"Kamis\", \"Jumat\", \"Sabtu\", \"Minggu\"]"
   ]
  },
  {
   "cell_type": "markdown",
   "metadata": {},
   "source": [
    "#### One hot encoding for multiple labels for all schedules"
   ]
  },
  {
   "cell_type": "code",
   "execution_count": 12,
   "metadata": {},
   "outputs": [],
   "source": [
    "museums[\"schedule_1_bin\"] = museums[\"schedule_1\"].apply(lambda x : binary(schedule_list, x))"
   ]
  },
  {
   "cell_type": "code",
   "execution_count": 13,
   "metadata": {},
   "outputs": [
    {
     "data": {
      "text/plain": [
       "0    [0, 1, 1, 1, 1, 1, 0]\n",
       "1    [0, 1, 1, 1, 1, 1, 1]\n",
       "2    [0, 1, 1, 1, 1, 1, 1]\n",
       "3    [0, 1, 1, 1, 1, 0, 0]\n",
       "4    [0, 1, 1, 1, 1, 1, 1]\n",
       "Name: schedule_1_bin, dtype: object"
      ]
     },
     "execution_count": 13,
     "metadata": {},
     "output_type": "execute_result"
    }
   ],
   "source": [
    "museums[\"schedule_1_bin\"].head()"
   ]
  },
  {
   "cell_type": "markdown",
   "metadata": {},
   "source": [
    "### Working with ticket category"
   ]
  },
  {
   "cell_type": "code",
   "execution_count": 14,
   "metadata": {},
   "outputs": [
    {
     "data": {
      "image/png": "[encoded data removed]",
      "text/plain": [
       "<Figure size 432x288 with 1 Axes>"
      ]
     },
     "metadata": {
      "needs_background": "light"
     },
     "output_type": "display_data"
    }
   ],
   "source": [
    "ticket_1 = museums.filter([\"ticket_1\"], axis=1)\n",
    "ticket_1.drop(ticket_1.index[ticket_1['ticket_1'] == np.nan], inplace=True)\n",
    "top_graph(ticket_1[\"ticket_1\"], \"Ticket 1\")"
   ]
  },
  {
   "cell_type": "markdown",
   "metadata": {},
   "source": [
    "#### Generate sorted ticket category"
   ]
  },
  {
   "cell_type": "code",
   "execution_count": 15,
   "metadata": {},
   "outputs": [
    {
     "data": {
      "text/plain": [
       "['Anak - Anak',\n",
       " 'Dewasa',\n",
       " 'HUT TNI 5 Oktober',\n",
       " 'Kereta',\n",
       " 'Lansia',\n",
       " 'Mahasiswa',\n",
       " 'Masuk',\n",
       " 'Nasabah',\n",
       " 'Pelajar',\n",
       " 'Pesawat',\n",
       " 'Reservasi',\n",
       " 'Rombongan',\n",
       " 'Umum',\n",
       " 'Wisatawan Mancanegara']"
      ]
     },
     "execution_count": 15,
     "metadata": {},
     "output_type": "execute_result"
    }
   ],
   "source": [
    "ticket_list = list(remove_duplicates(ticket_1[\"ticket_1\"]))\n",
    "ticket_list.sort()\n",
    "ticket_list"
   ]
  },
  {
   "cell_type": "markdown",
   "metadata": {},
   "source": [
    "#### One hot encoding for multiple labels for all ticket category"
   ]
  },
  {
   "cell_type": "code",
   "execution_count": 16,
   "metadata": {},
   "outputs": [],
   "source": [
    "museums[\"ticket_1_bin\"] = museums[\"ticket_1\"].apply(lambda x : binary(ticket_list, x))"
   ]
  },
  {
   "cell_type": "code",
   "execution_count": 17,
   "metadata": {},
   "outputs": [
    {
     "data": {
      "text/plain": [
       "0    [1, 0, 0, 0, 0, 0, 0, 0, 1, 0, 0, 0, 1, 1]\n",
       "1    [0, 0, 0, 0, 0, 0, 0, 0, 0, 0, 0, 0, 1, 0]\n",
       "2    [0, 0, 0, 0, 0, 0, 0, 0, 0, 0, 0, 0, 1, 0]\n",
       "3    [0, 0, 0, 0, 0, 0, 0, 0, 0, 0, 0, 0, 1, 0]\n",
       "4    [1, 1, 0, 0, 0, 0, 0, 0, 0, 0, 0, 0, 0, 0]\n",
       "Name: ticket_1_bin, dtype: object"
      ]
     },
     "execution_count": 17,
     "metadata": {},
     "output_type": "execute_result"
    }
   ],
   "source": [
    "museums[\"ticket_1_bin\"].head()"
   ]
  },
  {
   "cell_type": "markdown",
   "metadata": {},
   "source": [
    "### Working with public transportation"
   ]
  },
  {
   "cell_type": "code",
   "execution_count": 18,
   "metadata": {},
   "outputs": [
    {
     "data": {
      "image/png": "[encoded data removed]",
      "text/plain": [
       "<Figure size 432x288 with 1 Axes>"
      ]
     },
     "metadata": {
      "needs_background": "light"
     },
     "output_type": "display_data"
    }
   ],
   "source": [
    "public_transportation = museums.filter([\"public_transportation\"], axis=1)\n",
    "public_transportation.drop(public_transportation.index[public_transportation['public_transportation'] == np.nan], inplace=True)\n",
    "top_graph(public_transportation[\"public_transportation\"], \"Public Transportation\")"
   ]
  },
  {
   "cell_type": "markdown",
   "metadata": {},
   "source": [
    "#### Generate sorted public transportation"
   ]
  },
  {
   "cell_type": "code",
   "execution_count": 19,
   "metadata": {},
   "outputs": [
    {
     "data": {
      "text/plain": [
       "['Bandara Halim Perdanakusuma',\n",
       " 'Bandara Soekarno - Hatta',\n",
       " 'Stasiun Cawang',\n",
       " 'Stasiun Cikini',\n",
       " 'Stasiun Gambir',\n",
       " 'Stasiun Gondangdia',\n",
       " 'Stasiun Grogol',\n",
       " 'Stasiun Jakarta Utara',\n",
       " 'Stasiun Juanda',\n",
       " 'Stasiun Karet',\n",
       " 'Stasiun Kemayoran',\n",
       " 'Stasiun Kota',\n",
       " 'Stasiun Manggarai',\n",
       " 'Stasiun Palmerah',\n",
       " 'Stasiun Pasar Minggu',\n",
       " 'Stasiun Pasar Senen',\n",
       " 'Stasiun Rajawali',\n",
       " 'Stasiun Sawah Besar',\n",
       " 'Stasiun Senen',\n",
       " 'Stasiun Sentiong',\n",
       " 'Stasiun Sudirman',\n",
       " 'Stasiun Tanah Abang',\n",
       " 'Stasiun Tanjung Barat',\n",
       " 'Stasiun Tebet',\n",
       " 'Terminal Blok M',\n",
       " 'Terminal Grogol',\n",
       " 'Terminal Kalideres',\n",
       " 'Terminal Kampung Melayu',\n",
       " 'Terminal Kampung Rambutan',\n",
       " 'Terminal Kebon Jeruk',\n",
       " 'Terminal Manggarai',\n",
       " 'Terminal Pasar Minggu',\n",
       " 'Terminal Pasar Senen',\n",
       " 'Terminal Pulo Gadung',\n",
       " 'Terminal Rawamangun',\n",
       " 'Terminal Senen',\n",
       " 'Terminal Tanah Abang']"
      ]
     },
     "execution_count": 19,
     "metadata": {},
     "output_type": "execute_result"
    }
   ],
   "source": [
    "transportation_list = list(remove_duplicates(public_transportation[\"public_transportation\"]))\n",
    "transportation_list.sort()\n",
    "transportation_list"
   ]
  },
  {
   "cell_type": "markdown",
   "metadata": {},
   "source": [
    "#### One hot encoding for multiple labels for public transportation"
   ]
  },
  {
   "cell_type": "code",
   "execution_count": 20,
   "metadata": {},
   "outputs": [],
   "source": [
    "museums[\"public_transportation_bin\"] = museums[\"public_transportation\"].apply(lambda x : binary(transportation_list, x))"
   ]
  },
  {
   "cell_type": "code",
   "execution_count": 21,
   "metadata": {},
   "outputs": [
    {
     "data": {
      "text/plain": [
       "0    [1, 0, 0, 0, 0, 0, 0, 0, 0, 0, 1, 0, 0, 0, 0, ...\n",
       "1    [1, 1, 0, 0, 1, 0, 0, 0, 0, 0, 0, 0, 0, 0, 0, ...\n",
       "2    [1, 1, 0, 0, 1, 0, 0, 0, 0, 0, 0, 0, 0, 0, 0, ...\n",
       "3    [1, 1, 0, 0, 0, 0, 0, 0, 0, 0, 0, 0, 0, 0, 0, ...\n",
       "4    [1, 1, 0, 0, 1, 0, 0, 0, 0, 0, 0, 0, 0, 0, 0, ...\n",
       "Name: public_transportation_bin, dtype: object"
      ]
     },
     "execution_count": 21,
     "metadata": {},
     "output_type": "execute_result"
    }
   ],
   "source": [
    "museums[\"public_transportation_bin\"].head()"
   ]
  },
  {
   "cell_type": "markdown",
   "metadata": {},
   "source": [
    "### Working with category"
   ]
  },
  {
   "cell_type": "code",
   "execution_count": 22,
   "metadata": {},
   "outputs": [
    {
     "data": {
      "image/png": "[encoded data removed]",
      "text/plain": [
       "<Figure size 432x288 with 1 Axes>"
      ]
     },
     "metadata": {
      "needs_background": "light"
     },
     "output_type": "display_data"
    }
   ],
   "source": [
    "category = museums.filter([\"category\"], axis=1)\n",
    "category.drop(category.index[category['category'] == False], inplace=True)\n",
    "top_graph(category[\"category\"], \"Category\")"
   ]
  },
  {
   "cell_type": "markdown",
   "metadata": {},
   "source": [
    "#### Generate sorted category"
   ]
  },
  {
   "cell_type": "code",
   "execution_count": 23,
   "metadata": {},
   "outputs": [
    {
     "data": {
      "text/plain": [
       "['Agama', 'Fauna', 'Militer', 'Sains', 'Sejarah', 'Seni', 'Transportasi']"
      ]
     },
     "execution_count": 23,
     "metadata": {},
     "output_type": "execute_result"
    }
   ],
   "source": [
    "category_list = list(remove_duplicates(category[\"category\"]))\n",
    "category_list.sort()\n",
    "category_list"
   ]
  },
  {
   "cell_type": "markdown",
   "metadata": {},
   "source": [
    "#### One hot encoding for multiple labels for category"
   ]
  },
  {
   "cell_type": "code",
   "execution_count": 24,
   "metadata": {},
   "outputs": [],
   "source": [
    "museums[\"category_bin\"] = museums[\"category\"].apply(lambda x : binary(category_list, x))"
   ]
  },
  {
   "cell_type": "code",
   "execution_count": 25,
   "metadata": {},
   "outputs": [
    {
     "data": {
      "text/plain": [
       "0    [0, 0, 0, 0, 0, 1, 0]\n",
       "1    [1, 0, 0, 0, 0, 0, 0]\n",
       "2    [0, 0, 0, 0, 1, 0, 0]\n",
       "3    [0, 0, 0, 0, 0, 1, 0]\n",
       "4    [0, 0, 0, 0, 1, 0, 0]\n",
       "Name: category_bin, dtype: object"
      ]
     },
     "execution_count": 25,
     "metadata": {},
     "output_type": "execute_result"
    }
   ],
   "source": [
    "museums[\"category_bin\"].head()"
   ]
  },
  {
   "cell_type": "markdown",
   "metadata": {},
   "source": [
    "### Working with city"
   ]
  },
  {
   "cell_type": "code",
   "execution_count": 26,
   "metadata": {},
   "outputs": [
    {
     "data": {
      "image/png": "[encoded data removed]",
      "text/plain": [
       "<Figure size 432x288 with 1 Axes>"
      ]
     },
     "metadata": {
      "needs_background": "light"
     },
     "output_type": "display_data"
    }
   ],
   "source": [
    "city = museums.filter([\"city\"], axis=1)\n",
    "city.drop(city.index[city['city'] == np.nan], inplace=True)\n",
    "top_graph(city[\"city\"], \"City\")"
   ]
  },
  {
   "cell_type": "markdown",
   "metadata": {},
   "source": [
    "#### Generate sorted city"
   ]
  },
  {
   "cell_type": "code",
   "execution_count": 27,
   "metadata": {},
   "outputs": [
    {
     "data": {
      "text/plain": [
       "['Jakarta Barat',\n",
       " 'Jakarta Pusat',\n",
       " 'Jakarta Selatan',\n",
       " 'Jakarta Timur',\n",
       " 'Jakarta Utara']"
      ]
     },
     "execution_count": 27,
     "metadata": {},
     "output_type": "execute_result"
    }
   ],
   "source": [
    "city_list = list(remove_duplicates(city[\"city\"]))\n",
    "city_list.sort()\n",
    "city_list"
   ]
  },
  {
   "cell_type": "markdown",
   "metadata": {},
   "source": [
    "#### One hot encoding for multiple labels for city"
   ]
  },
  {
   "cell_type": "code",
   "execution_count": 28,
   "metadata": {},
   "outputs": [],
   "source": [
    "museums[\"city_bin\"] = museums[\"city\"].apply(lambda x : binary(city_list, x))"
   ]
  },
  {
   "cell_type": "code",
   "execution_count": 29,
   "metadata": {},
   "outputs": [
    {
     "data": {
      "text/plain": [
       "0    [0, 1, 0, 0, 0]\n",
       "1    [0, 0, 0, 1, 0]\n",
       "2    [0, 1, 0, 0, 0]\n",
       "3    [0, 1, 0, 0, 0]\n",
       "4    [0, 1, 0, 0, 0]\n",
       "Name: city_bin, dtype: object"
      ]
     },
     "execution_count": 29,
     "metadata": {},
     "output_type": "execute_result"
    }
   ],
   "source": [
    "museums[\"city_bin\"].head()"
   ]
  },
  {
   "cell_type": "markdown",
   "metadata": {},
   "source": [
    "## Handle Numerical Data"
   ]
  },
  {
   "cell_type": "markdown",
   "metadata": {},
   "source": [
    "### Working with Open & Closed Time"
   ]
  },
  {
   "cell_type": "code",
   "execution_count": 30,
   "metadata": {},
   "outputs": [],
   "source": [
    "open_time = museums.filter([\"open_1\"], axis=1)\n",
    "open_time.drop(index=15, inplace=True)\n",
    "open_list = list(remove_duplicates(open_time[\"open_1\"]))\n",
    "open_list.sort()\n",
    "open_min, open_max = open_list[0], open_list[-1]"
   ]
  },
  {
   "cell_type": "code",
   "execution_count": 31,
   "metadata": {},
   "outputs": [],
   "source": [
    "closed_time = museums.filter([\"closed_1\"], axis=1)\n",
    "closed_time.drop(index=15, inplace=True)\n",
    "closed_list = list(remove_duplicates(closed_time[\"closed_1\"]))\n",
    "closed_list.sort()\n",
    "closed_min, closed_max = closed_list[0], closed_list[-1]"
   ]
  },
  {
   "cell_type": "code",
   "execution_count": 32,
   "metadata": {},
   "outputs": [],
   "source": [
    "museums[\"open_1\"] = open_time[\"open_1\"].apply(lambda x: min_max_normalize(x, open_min, open_max))\n",
    "museums[\"closed_1\"] = closed_time[\"closed_1\"].apply(lambda x: min_max_normalize(x, closed_min, closed_max))\n",
    "museums[\"open_1\"].iloc[15] = [0.0]\n",
    "museums[\"closed_1\"].iloc[15] = [0.0]"
   ]
  },
  {
   "cell_type": "markdown",
   "metadata": {},
   "source": [
    "### Working with Ticket Price"
   ]
  },
  {
   "cell_type": "code",
   "execution_count": 33,
   "metadata": {},
   "outputs": [],
   "source": [
    "ticket_price = museums.filter([\"ticket_price_1\"], axis=1)\n",
    "ticket_price.drop(ticket_price.index[ticket_price['ticket_price_1'] == np.nan], inplace=True)\n",
    "ticket_price[\"ticket_price_1\"] = ticket_price[\"ticket_price_1\"].apply(lambda x: list(map(int, x)))\n",
    "ticket_price_list = list(remove_duplicates(ticket_price[\"ticket_price_1\"]))\n",
    "ticket_price_list.sort()\n",
    "ticket_price_min, ticket_price_max = ticket_price_list[0], ticket_price_list[-1]"
   ]
  },
  {
   "cell_type": "code",
   "execution_count": 34,
   "metadata": {},
   "outputs": [],
   "source": [
    "museums[\"ticket_price_1\"] = ticket_price[\"ticket_price_1\"].apply(lambda x: min_max_normalize(x, ticket_price_min, ticket_price_max))"
   ]
  },
  {
   "cell_type": "markdown",
   "metadata": {},
   "source": [
    "# TFIDF"
   ]
  },
  {
   "cell_type": "code",
   "execution_count": 35,
   "metadata": {},
   "outputs": [
    {
     "data": {
      "text/html": [
       "<div>\n",
       "<style scoped>\n",
       "    .dataframe tbody tr th:only-of-type {\n",
       "        vertical-align: middle;\n",
       "    }\n",
       "\n",
       "    .dataframe tbody tr th {\n",
       "        vertical-align: top;\n",
       "    }\n",
       "\n",
       "    .dataframe thead th {\n",
       "        text-align: right;\n",
       "    }\n",
       "</style>\n",
       "<table border=\"1\" class=\"dataframe\">\n",
       "  <thead>\n",
       "    <tr style=\"text-align: right;\">\n",
       "      <th></th>\n",
       "      <th>name</th>\n",
       "      <th>description</th>\n",
       "    </tr>\n",
       "  </thead>\n",
       "  <tbody>\n",
       "    <tr>\n",
       "      <th>0</th>\n",
       "      <td>Art: 1 New Museum</td>\n",
       "      <td>Art: 1 New Museum merupakan museum khusus yang...</td>\n",
       "    </tr>\n",
       "    <tr>\n",
       "      <th>1</th>\n",
       "      <td>Bayt Al-Qur’an dan Museum Istiqlal</td>\n",
       "      <td>Museum Bayt Al-Qur’an dan Museum Istiqlal meru...</td>\n",
       "    </tr>\n",
       "    <tr>\n",
       "      <th>2</th>\n",
       "      <td>Galeri Foto Jurnalistik Antara</td>\n",
       "      <td>Gedung Galeri Foto Jurnalistik Antara merupaka...</td>\n",
       "    </tr>\n",
       "    <tr>\n",
       "      <th>3</th>\n",
       "      <td>Galeri Nasional Indonesia</td>\n",
       "      <td>Galeri Nasional Indonesia telah dirintis sejak...</td>\n",
       "    </tr>\n",
       "    <tr>\n",
       "      <th>4</th>\n",
       "      <td>Monumen Nasional</td>\n",
       "      <td>Monumen Nasional dibangun pada masa pemerintah...</td>\n",
       "    </tr>\n",
       "    <tr>\n",
       "      <th>...</th>\n",
       "      <td>...</td>\n",
       "      <td>...</td>\n",
       "    </tr>\n",
       "    <tr>\n",
       "      <th>56</th>\n",
       "      <td>Museum Timor Timur</td>\n",
       "      <td>Museum Timor Timur merupakan museum khusus yan...</td>\n",
       "    </tr>\n",
       "    <tr>\n",
       "      <th>57</th>\n",
       "      <td>Museum Tragedi 12 Mei ’98 Universitas Trisakti</td>\n",
       "      <td>Museum Tragedi 12 Mei ‘98 Universitas Trisakti...</td>\n",
       "    </tr>\n",
       "    <tr>\n",
       "      <th>58</th>\n",
       "      <td>Museum Transportasi</td>\n",
       "      <td>Museum Transportasi merupakan museum khusus ya...</td>\n",
       "    </tr>\n",
       "    <tr>\n",
       "      <th>59</th>\n",
       "      <td>Museum Wayang</td>\n",
       "      <td>Museum Wayang merupakan museum khusus yang pad...</td>\n",
       "    </tr>\n",
       "    <tr>\n",
       "      <th>60</th>\n",
       "      <td>Pusat Peragaan IPTEK</td>\n",
       "      <td>Pusat Peragaan IPTEK merupakan museum khusus y...</td>\n",
       "    </tr>\n",
       "  </tbody>\n",
       "</table>\n",
       "<p>61 rows × 2 columns</p>\n",
       "</div>"
      ],
      "text/plain": [
       "                                              name  \\\n",
       "0                                Art: 1 New Museum   \n",
       "1               Bayt Al-Qur’an dan Museum Istiqlal   \n",
       "2                   Galeri Foto Jurnalistik Antara   \n",
       "3                        Galeri Nasional Indonesia   \n",
       "4                                 Monumen Nasional   \n",
       "..                                             ...   \n",
       "56                              Museum Timor Timur   \n",
       "57  Museum Tragedi 12 Mei ’98 Universitas Trisakti   \n",
       "58                             Museum Transportasi   \n",
       "59                                   Museum Wayang   \n",
       "60                            Pusat Peragaan IPTEK   \n",
       "\n",
       "                                          description  \n",
       "0   Art: 1 New Museum merupakan museum khusus yang...  \n",
       "1   Museum Bayt Al-Qur’an dan Museum Istiqlal meru...  \n",
       "2   Gedung Galeri Foto Jurnalistik Antara merupaka...  \n",
       "3   Galeri Nasional Indonesia telah dirintis sejak...  \n",
       "4   Monumen Nasional dibangun pada masa pemerintah...  \n",
       "..                                                ...  \n",
       "56  Museum Timor Timur merupakan museum khusus yan...  \n",
       "57  Museum Tragedi 12 Mei ‘98 Universitas Trisakti...  \n",
       "58  Museum Transportasi merupakan museum khusus ya...  \n",
       "59  Museum Wayang merupakan museum khusus yang pad...  \n",
       "60  Pusat Peragaan IPTEK merupakan museum khusus y...  \n",
       "\n",
       "[61 rows x 2 columns]"
      ]
     },
     "execution_count": 35,
     "metadata": {},
     "output_type": "execute_result"
    }
   ],
   "source": [
    "df = museums[[\"name\", \"description\"]].copy()\n",
    "df"
   ]
  },
  {
   "cell_type": "markdown",
   "metadata": {},
   "source": [
    "## Preprocessing"
   ]
  },
  {
   "cell_type": "code",
   "execution_count": 36,
   "metadata": {},
   "outputs": [
    {
     "name": "stdout",
     "output_type": "stream",
     "text": [
      "CPU times: user 2.18 ms, sys: 1.15 ms, total: 3.33 ms\n",
      "Wall time: 3.14 ms\n"
     ]
    }
   ],
   "source": [
    "%%time\n",
    "df[\"description\"] = df[\"description\"].apply(lambda x: str(x).replace(\"\\n\", \" \"))\n",
    "# Converting all words to lower case and removing punctuation\n",
    "df['description'] = [re.sub(r'\\d+\\S*', '',\n",
    "                  row.lower().replace('.', ' ').replace('_', '').replace('/', ''))\n",
    "                  for row in df['description']]\n",
    "\n",
    "df['description'] = [re.sub(r'[^\\w\\s]', '', row)\n",
    "                  for row in df['description']]\n",
    "\n",
    "# Removing numbers\n",
    "df['description'] = [re.sub(r'\\d+', '', row) for row in df['description']]"
   ]
  },
  {
   "cell_type": "code",
   "execution_count": 37,
   "metadata": {},
   "outputs": [
    {
     "name": "stdout",
     "output_type": "stream",
     "text": [
      "CPU times: user 11.2 ms, sys: 1.55 ms, total: 12.7 ms\n",
      "Wall time: 169 ms\n"
     ]
    },
    {
     "name": "stderr",
     "output_type": "stream",
     "text": [
      "[nltk_data] Downloading package stopwords to /home/reykim/nltk_data...\n",
      "[nltk_data]   Package stopwords is already up-to-date!\n"
     ]
    }
   ],
   "source": [
    "%%time\n",
    "nltk.download(\"stopwords\")\n",
    "\n",
    "# Tokenizing comments and putting them into a new column\n",
    "tokenizer = nltk.tokenize.RegexpTokenizer(r'\\w+')  # by blank space\n",
    "df['tokens'] = df['description'].apply(tokenizer.tokenize)"
   ]
  },
  {
   "cell_type": "code",
   "execution_count": 38,
   "metadata": {},
   "outputs": [
    {
     "name": "stdout",
     "output_type": "stream",
     "text": [
      "CPU times: user 842 ms, sys: 46.2 ms, total: 888 ms\n",
      "Wall time: 888 ms\n"
     ]
    }
   ],
   "source": [
    "%%time\n",
    "# Removing Stopwords & Punctuation\n",
    "\n",
    "filtered_words = []\n",
    "for row in df['tokens']:\n",
    "    filtered_words.append([\n",
    "        word.lower() for word in row\n",
    "        if word.lower() not in nltk.corpus.stopwords.words('indonesian')\n",
    "    ])\n",
    "\n",
    "df['tokens'] = filtered_words"
   ]
  },
  {
   "cell_type": "code",
   "execution_count": 39,
   "metadata": {},
   "outputs": [
    {
     "name": "stderr",
     "output_type": "stream",
     "text": [
      "[nltk_data] Downloading package wordnet to /home/reykim/nltk_data...\n",
      "[nltk_data]   Package wordnet is already up-to-date!\n"
     ]
    },
    {
     "name": "stdout",
     "output_type": "stream",
     "text": [
      "CPU times: user 1.41 s, sys: 84.1 ms, total: 1.49 s\n",
      "Wall time: 1.49 s\n"
     ]
    }
   ],
   "source": [
    "%%time\n",
    "# Setting the Lemmatization object\n",
    "nltk.download(\"wordnet\")\n",
    "lmtzr = nltk.stem.wordnet.WordNetLemmatizer()\n",
    "\n",
    "# Looping through the words and appending the lemmatized version to a list\n",
    "stemmed_words = []\n",
    "for row in df['tokens']:\n",
    "    stemmed_words.append([\n",
    "        # Verbs\n",
    "        lmtzr.lemmatize(  \n",
    "            # Adjectives\n",
    "            lmtzr.lemmatize(  \n",
    "                # Nouns\n",
    "                lmtzr.lemmatize(word.lower()), 'a'), 'v')\n",
    "        for word in row\n",
    "        if word.lower() not in nltk.corpus.stopwords.words('indonesian')])\n",
    "\n",
    "# Adding the list as a column in the data frame\n",
    "df['tokens'] = stemmed_words"
   ]
  },
  {
   "cell_type": "code",
   "execution_count": 40,
   "metadata": {},
   "outputs": [],
   "source": [
    "allWords = []\n",
    "for row in stemmed_words:\n",
    "    for word in row:\n",
    "        allWords.append(str(word))\n",
    "            \n",
    "uniqueWords = np.unique(allWords)"
   ]
  },
  {
   "cell_type": "code",
   "execution_count": 41,
   "metadata": {},
   "outputs": [],
   "source": [
    "stemmed_sentences = []\n",
    "\n",
    "# Spacing out the words in the lyrics for each song\n",
    "for row in df['tokens']:\n",
    "    stemmed_string = ''\n",
    "    for word in row:\n",
    "        stemmed_string = stemmed_string + ' ' + word\n",
    "    stemmed_sentences.append(stemmed_string)\n",
    "    \n",
    "df['tokens'] = stemmed_sentences"
   ]
  },
  {
   "cell_type": "code",
   "execution_count": 42,
   "metadata": {},
   "outputs": [],
   "source": [
    "# Creating the sklearn object\n",
    "tfidf = TfidfVectorizer(smooth_idf=False)\n",
    "\n",
    "# Transforming our 'tokens' column into a TF-IDF matrix and then a data frame\n",
    "tfidf_df = pd.DataFrame(tfidf.fit_transform(df['tokens']).toarray(), \n",
    "                        columns=tfidf.get_feature_names_out())"
   ]
  },
  {
   "cell_type": "code",
   "execution_count": 43,
   "metadata": {},
   "outputs": [],
   "source": [
    "# Removing sparse columns\n",
    "tfidf_df = tfidf_df[tfidf_df.columns[tfidf_df.sum() > 1]]\n",
    "\n",
    "# Removing any remaining digits\n",
    "tfidf_df = tfidf_df.filter(regex=r'^((?!\\d).)*$')"
   ]
  },
  {
   "cell_type": "markdown",
   "metadata": {},
   "source": [
    "## Cosine Similarity"
   ]
  },
  {
   "cell_type": "code",
   "execution_count": 44,
   "metadata": {},
   "outputs": [],
   "source": [
    "cosine = cosine_similarity(tfidf_df)\n",
    "similarities = {}\n",
    "for i in range(len(cosine)):\n",
    "    indices = cosine[i].argsort()[:-62:-1]\n",
    "    similarities[i] = [{\"id\": x, \"sim\": cosine[i][x]} for x in indices][1:]"
   ]
  },
  {
   "cell_type": "code",
   "execution_count": 45,
   "metadata": {},
   "outputs": [],
   "source": [
    "import pickle\n",
    "with open(dir_path + '/datasets/similarities.json', 'wb') as fp:\n",
    "    pickle.dump(similarities, fp)"
   ]
  },
  {
   "cell_type": "markdown",
   "metadata": {},
   "source": [
    "# Experiment"
   ]
  },
  {
   "cell_type": "code",
   "execution_count": 46,
   "metadata": {},
   "outputs": [
    {
     "data": {
      "text/html": [
       "<div>\n",
       "<style scoped>\n",
       "    .dataframe tbody tr th:only-of-type {\n",
       "        vertical-align: middle;\n",
       "    }\n",
       "\n",
       "    .dataframe tbody tr th {\n",
       "        vertical-align: top;\n",
       "    }\n",
       "\n",
       "    .dataframe thead th {\n",
       "        text-align: right;\n",
       "    }\n",
       "</style>\n",
       "<table border=\"1\" class=\"dataframe\">\n",
       "  <thead>\n",
       "    <tr style=\"text-align: right;\">\n",
       "      <th></th>\n",
       "      <th>name</th>\n",
       "      <th>open_1</th>\n",
       "      <th>closed_1</th>\n",
       "      <th>ticket_price_1</th>\n",
       "      <th>schedule_1_bin</th>\n",
       "      <th>ticket_1_bin</th>\n",
       "      <th>public_transportation_bin</th>\n",
       "      <th>category_bin</th>\n",
       "      <th>city_bin</th>\n",
       "    </tr>\n",
       "  </thead>\n",
       "  <tbody>\n",
       "    <tr>\n",
       "      <th>0</th>\n",
       "      <td>Art: 1 New Museum</td>\n",
       "      <td>[0.6]</td>\n",
       "      <td>[1.0]</td>\n",
       "      <td>[0.6756756756756757, 0.5405405405405406, 0.405...</td>\n",
       "      <td>[0, 1, 1, 1, 1, 1, 0]</td>\n",
       "      <td>[1, 0, 0, 0, 0, 0, 0, 0, 1, 0, 0, 0, 1, 1]</td>\n",
       "      <td>[1, 0, 0, 0, 0, 0, 0, 0, 0, 0, 1, 0, 0, 0, 0, ...</td>\n",
       "      <td>[0, 0, 0, 0, 0, 1, 0]</td>\n",
       "      <td>[0, 1, 0, 0, 0]</td>\n",
       "    </tr>\n",
       "    <tr>\n",
       "      <th>1</th>\n",
       "      <td>Bayt Al-Qur’an dan Museum Istiqlal</td>\n",
       "      <td>[0.3]</td>\n",
       "      <td>[0.2857142857142857]</td>\n",
       "      <td>[0.0]</td>\n",
       "      <td>[0, 1, 1, 1, 1, 1, 1]</td>\n",
       "      <td>[0, 0, 0, 0, 0, 0, 0, 0, 0, 0, 0, 0, 1, 0]</td>\n",
       "      <td>[1, 1, 0, 0, 1, 0, 0, 0, 0, 0, 0, 0, 0, 0, 0, ...</td>\n",
       "      <td>[1, 0, 0, 0, 0, 0, 0]</td>\n",
       "      <td>[0, 0, 0, 1, 0]</td>\n",
       "    </tr>\n",
       "    <tr>\n",
       "      <th>2</th>\n",
       "      <td>Galeri Foto Jurnalistik Antara</td>\n",
       "      <td>[0.6]</td>\n",
       "      <td>[1.0]</td>\n",
       "      <td>[0.0]</td>\n",
       "      <td>[0, 1, 1, 1, 1, 1, 1]</td>\n",
       "      <td>[0, 0, 0, 0, 0, 0, 0, 0, 0, 0, 0, 0, 1, 0]</td>\n",
       "      <td>[1, 1, 0, 0, 1, 0, 0, 0, 0, 0, 0, 0, 0, 0, 0, ...</td>\n",
       "      <td>[0, 0, 0, 0, 1, 0, 0]</td>\n",
       "      <td>[0, 1, 0, 0, 0]</td>\n",
       "    </tr>\n",
       "    <tr>\n",
       "      <th>3</th>\n",
       "      <td>Galeri Nasional Indonesia</td>\n",
       "      <td>[0.4]</td>\n",
       "      <td>[0.42857142857142855]</td>\n",
       "      <td>[0.0]</td>\n",
       "      <td>[0, 1, 1, 1, 1, 0, 0]</td>\n",
       "      <td>[0, 0, 0, 0, 0, 0, 0, 0, 0, 0, 0, 0, 1, 0]</td>\n",
       "      <td>[1, 1, 0, 0, 0, 0, 0, 0, 0, 0, 0, 0, 0, 0, 0, ...</td>\n",
       "      <td>[0, 0, 0, 0, 0, 1, 0]</td>\n",
       "      <td>[0, 1, 0, 0, 0]</td>\n",
       "    </tr>\n",
       "    <tr>\n",
       "      <th>4</th>\n",
       "      <td>Monumen Nasional</td>\n",
       "      <td>[0.2]</td>\n",
       "      <td>[0.42857142857142855]</td>\n",
       "      <td>[0.10810810810810811, 0.05405405405405406]</td>\n",
       "      <td>[0, 1, 1, 1, 1, 1, 1]</td>\n",
       "      <td>[1, 1, 0, 0, 0, 0, 0, 0, 0, 0, 0, 0, 0, 0]</td>\n",
       "      <td>[1, 1, 0, 0, 1, 0, 0, 0, 0, 0, 0, 0, 0, 0, 0, ...</td>\n",
       "      <td>[0, 0, 0, 0, 1, 0, 0]</td>\n",
       "      <td>[0, 1, 0, 0, 0]</td>\n",
       "    </tr>\n",
       "  </tbody>\n",
       "</table>\n",
       "</div>"
      ],
      "text/plain": [
       "                                 name open_1               closed_1  \\\n",
       "0                   Art: 1 New Museum  [0.6]                  [1.0]   \n",
       "1  Bayt Al-Qur’an dan Museum Istiqlal  [0.3]   [0.2857142857142857]   \n",
       "2      Galeri Foto Jurnalistik Antara  [0.6]                  [1.0]   \n",
       "3           Galeri Nasional Indonesia  [0.4]  [0.42857142857142855]   \n",
       "4                    Monumen Nasional  [0.2]  [0.42857142857142855]   \n",
       "\n",
       "                                      ticket_price_1         schedule_1_bin  \\\n",
       "0  [0.6756756756756757, 0.5405405405405406, 0.405...  [0, 1, 1, 1, 1, 1, 0]   \n",
       "1                                              [0.0]  [0, 1, 1, 1, 1, 1, 1]   \n",
       "2                                              [0.0]  [0, 1, 1, 1, 1, 1, 1]   \n",
       "3                                              [0.0]  [0, 1, 1, 1, 1, 0, 0]   \n",
       "4         [0.10810810810810811, 0.05405405405405406]  [0, 1, 1, 1, 1, 1, 1]   \n",
       "\n",
       "                                 ticket_1_bin  \\\n",
       "0  [1, 0, 0, 0, 0, 0, 0, 0, 1, 0, 0, 0, 1, 1]   \n",
       "1  [0, 0, 0, 0, 0, 0, 0, 0, 0, 0, 0, 0, 1, 0]   \n",
       "2  [0, 0, 0, 0, 0, 0, 0, 0, 0, 0, 0, 0, 1, 0]   \n",
       "3  [0, 0, 0, 0, 0, 0, 0, 0, 0, 0, 0, 0, 1, 0]   \n",
       "4  [1, 1, 0, 0, 0, 0, 0, 0, 0, 0, 0, 0, 0, 0]   \n",
       "\n",
       "                           public_transportation_bin           category_bin  \\\n",
       "0  [1, 0, 0, 0, 0, 0, 0, 0, 0, 0, 1, 0, 0, 0, 0, ...  [0, 0, 0, 0, 0, 1, 0]   \n",
       "1  [1, 1, 0, 0, 1, 0, 0, 0, 0, 0, 0, 0, 0, 0, 0, ...  [1, 0, 0, 0, 0, 0, 0]   \n",
       "2  [1, 1, 0, 0, 1, 0, 0, 0, 0, 0, 0, 0, 0, 0, 0, ...  [0, 0, 0, 0, 1, 0, 0]   \n",
       "3  [1, 1, 0, 0, 0, 0, 0, 0, 0, 0, 0, 0, 0, 0, 0, ...  [0, 0, 0, 0, 0, 1, 0]   \n",
       "4  [1, 1, 0, 0, 1, 0, 0, 0, 0, 0, 0, 0, 0, 0, 0, ...  [0, 0, 0, 0, 1, 0, 0]   \n",
       "\n",
       "          city_bin  \n",
       "0  [0, 1, 0, 0, 0]  \n",
       "1  [0, 0, 0, 1, 0]  \n",
       "2  [0, 1, 0, 0, 0]  \n",
       "3  [0, 1, 0, 0, 0]  \n",
       "4  [0, 1, 0, 0, 0]  "
      ]
     },
     "execution_count": 46,
     "metadata": {},
     "output_type": "execute_result"
    }
   ],
   "source": [
    "# drop unused columns\n",
    "new_museums = museums.copy()\n",
    "new_museums.drop([\"category\", \"city\", \"schedule_1\", \"ticket_1\", \"public_transportation\", \"description\"], axis=1, inplace=True)\n",
    "new_museums.head()"
   ]
  },
  {
   "cell_type": "code",
   "execution_count": 47,
   "metadata": {},
   "outputs": [],
   "source": [
    "new_museums.to_csv(dir_path + \"/datasets/museums_binary.csv\", index=False)"
   ]
  },
  {
   "cell_type": "markdown",
   "metadata": {},
   "source": [
    "### Recommender System"
   ]
  },
  {
   "cell_type": "markdown",
   "metadata": {},
   "source": [
    "#### Cosine Distance Function"
   ]
  },
  {
   "cell_type": "code",
   "execution_count": 49,
   "metadata": {},
   "outputs": [],
   "source": [
    "# for key in similarities:\n",
    "#     for idx, val in enumerate(similarities[key]):\n",
    "#         similarities[key][idx][\"dist\"] = cosine_distance(val[\"dist\"], int(key), val[\"id\"])\n",
    "#     similarities[key].sort(key=lambda x: x[\"dist\"])"
   ]
  },
  {
   "cell_type": "code",
   "execution_count": 50,
   "metadata": {},
   "outputs": [],
   "source": [
    "with open(dir_path + '/datasets/similarities.json', 'rb') as fp:\n",
    "    data = pickle.load(fp)"
   ]
  },
  {
   "cell_type": "code",
   "execution_count": 65,
   "metadata": {},
   "outputs": [],
   "source": [
    "def convert_length(point1, point2):\n",
    "    if len(point1) > len(point2):\n",
    "        point2 = point2[:len(point1)] + [0]*(len(point1) - len(point2))\n",
    "    else:\n",
    "        point1 = point1[:len(point2)] + [0]*(len(point2) - len(point1))\n",
    "\n",
    "    return point1, point2\n",
    "\n",
    "def cosine_distance(museum_id_1, museum_id_2):\n",
    "    \"\"\"\n",
    "    Search distance with cosine distance\n",
    "    \"\"\"\n",
    "    a = new_museums.iloc[museum_id_1]\n",
    "    b = new_museums.iloc[museum_id_2]\n",
    "\n",
    "    for val in data[museum_id_1]:\n",
    "        if val[\"id\"] == museum_id_2:\n",
    "            distance = 1 - val[\"sim\"]\n",
    "            break\n",
    "\n",
    "    def cosine(col, point1, point2):\n",
    "        point1 = list(map(float, point1))\n",
    "        point2 = list(map(float, point2))\n",
    "        \n",
    "        if col == \"ticket_price_1\":\n",
    "            point1, point2 = convert_length(point1, point2)\n",
    "    \n",
    "        w = 0\n",
    "        x = 0\n",
    "        y = 0\n",
    "        z = 0\n",
    "        for i in range(len(point1)):\n",
    "            x += (point1[i] * point2[i])\n",
    "            y += math.pow(point1[i], 2)\n",
    "            z += math.pow(point2[i], 2)\n",
    "        w = (math.sqrt(y) * math.sqrt(z))\n",
    "        return 1 - (x / w) if w != 0 else 0\n",
    "\n",
    "    for col, val in a.iteritems():\n",
    "        if col != \"name\":\n",
    "            distance += cosine(col, a[col], b[col])\n",
    "\n",
    "    return distance\n"
   ]
  },
  {
   "cell_type": "markdown",
   "metadata": {},
   "source": [
    "#### KNN"
   ]
  },
  {
   "cell_type": "code",
   "execution_count": 91,
   "metadata": {},
   "outputs": [],
   "source": [
    "def recommender(name, distance_fn):\n",
    "    pred_museum = new_museums.loc[new_museums['name'] == name]\n",
    "\n",
    "    def knn(base, K):\n",
    "        distances = []\n",
    "\n",
    "        for idx, museum in new_museums.iterrows():\n",
    "            if idx != base.index[0]:\n",
    "                dist = distance_fn(base.index[0], idx)\n",
    "                distances.append((idx, dist))\n",
    "\n",
    "        distances.sort(key=operator.itemgetter(1))\n",
    "        neighbors = distances[:K]\n",
    "\n",
    "        return neighbors\n",
    "\n",
    "    K = 15\n",
    "    neighbors = knn(pred_museum, K)\n",
    "\n",
    "    recommend = []\n",
    "\n",
    "    for neighbor in neighbors:\n",
    "        recommend.append([new_museums.iloc[neighbor[0]][0],\n",
    "                          str(raw_museums.iloc[neighbor[0]][1]),\n",
    "                          str(raw_museums.iloc[neighbor[0]][2]),\n",
    "                          str(raw_museums.iloc[neighbor[0]][3]),\n",
    "                          str(raw_museums.iloc[neighbor[0]][4]),\n",
    "                          str(raw_museums.iloc[neighbor[0]][5]),\n",
    "                          str(raw_museums.iloc[neighbor[0]][6]),\n",
    "                          str(raw_museums.iloc[neighbor[0]][7]),\n",
    "                          str(raw_museums.iloc[neighbor[0]][8]),\n",
    "                          neighbor[1]])\n",
    "\n",
    "    col = list(museums.columns[:9])\n",
    "    col.append(\"distance\")\n",
    "    df = pd.DataFrame(data=recommend, columns=col)\n",
    "    # .sort_values(by=[\"name\"])\n",
    "    return df\n",
    "    # return recommend\n"
   ]
  },
  {
   "cell_type": "markdown",
   "metadata": {},
   "source": [
    "### Experiment 1"
   ]
  },
  {
   "cell_type": "code",
   "execution_count": 99,
   "metadata": {},
   "outputs": [
    {
     "data": {
      "text/html": [
       "<div>\n",
       "<style scoped>\n",
       "    .dataframe tbody tr th:only-of-type {\n",
       "        vertical-align: middle;\n",
       "    }\n",
       "\n",
       "    .dataframe tbody tr th {\n",
       "        vertical-align: top;\n",
       "    }\n",
       "\n",
       "    .dataframe thead th {\n",
       "        text-align: right;\n",
       "    }\n",
       "</style>\n",
       "<table border=\"1\" class=\"dataframe\">\n",
       "  <thead>\n",
       "    <tr style=\"text-align: right;\">\n",
       "      <th></th>\n",
       "      <th>name</th>\n",
       "      <th>category</th>\n",
       "      <th>schedule_1</th>\n",
       "      <th>open_1</th>\n",
       "      <th>closed_1</th>\n",
       "      <th>city</th>\n",
       "      <th>ticket_1</th>\n",
       "      <th>ticket_price_1</th>\n",
       "      <th>public_transportation</th>\n",
       "      <th>description</th>\n",
       "    </tr>\n",
       "  </thead>\n",
       "  <tbody>\n",
       "    <tr>\n",
       "      <th>20</th>\n",
       "      <td>Museum Fauna Indonesia “Komodo” dan Taman Rept...</td>\n",
       "      <td>Fauna</td>\n",
       "      <td>Senin, Selasa, Rabu, Kamis, Jumat</td>\n",
       "      <td>08:30</td>\n",
       "      <td>16:00</td>\n",
       "      <td>Jakarta Timur</td>\n",
       "      <td>Umum</td>\n",
       "      <td>25000</td>\n",
       "      <td>Bandara Soekarno - Hatta, Bandara Halim Perdan...</td>\n",
       "      <td>Museum Fauna Indonesia “Komodo” dan Taman Rept...</td>\n",
       "    </tr>\n",
       "  </tbody>\n",
       "</table>\n",
       "</div>"
      ],
      "text/plain": [
       "                                                 name category  \\\n",
       "20  Museum Fauna Indonesia “Komodo” dan Taman Rept...    Fauna   \n",
       "\n",
       "                           schedule_1 open_1 closed_1           city ticket_1  \\\n",
       "20  Senin, Selasa, Rabu, Kamis, Jumat  08:30    16:00  Jakarta Timur     Umum   \n",
       "\n",
       "   ticket_price_1                              public_transportation  \\\n",
       "20          25000  Bandara Soekarno - Hatta, Bandara Halim Perdan...   \n",
       "\n",
       "                                          description  \n",
       "20  Museum Fauna Indonesia “Komodo” dan Taman Rept...  "
      ]
     },
     "execution_count": 99,
     "metadata": {},
     "output_type": "execute_result"
    }
   ],
   "source": [
    "query_1 = raw_museums[\"name\"].iloc[rand.randint(0, 60)]\n",
    "raw_museums.loc[raw_museums['name'] == query_1]"
   ]
  },
  {
   "cell_type": "code",
   "execution_count": 100,
   "metadata": {},
   "outputs": [
    {
     "data": {
      "text/html": [
       "<div>\n",
       "<style scoped>\n",
       "    .dataframe tbody tr th:only-of-type {\n",
       "        vertical-align: middle;\n",
       "    }\n",
       "\n",
       "    .dataframe tbody tr th {\n",
       "        vertical-align: top;\n",
       "    }\n",
       "\n",
       "    .dataframe thead th {\n",
       "        text-align: right;\n",
       "    }\n",
       "</style>\n",
       "<table border=\"1\" class=\"dataframe\">\n",
       "  <thead>\n",
       "    <tr style=\"text-align: right;\">\n",
       "      <th></th>\n",
       "      <th>name</th>\n",
       "      <th>category</th>\n",
       "      <th>schedule_1</th>\n",
       "      <th>open_1</th>\n",
       "      <th>closed_1</th>\n",
       "      <th>city</th>\n",
       "      <th>ticket_1</th>\n",
       "      <th>ticket_price_1</th>\n",
       "      <th>public_transportation</th>\n",
       "      <th>distance</th>\n",
       "    </tr>\n",
       "  </thead>\n",
       "  <tbody>\n",
       "    <tr>\n",
       "      <th>0</th>\n",
       "      <td>Museum Serangga</td>\n",
       "      <td>Fauna</td>\n",
       "      <td>Senin, Selasa, Rabu, Kamis, Jumat, Sabtu, Minggu</td>\n",
       "      <td>09:00</td>\n",
       "      <td>16:00</td>\n",
       "      <td>Jakarta Timur</td>\n",
       "      <td>Umum</td>\n",
       "      <td>25000</td>\n",
       "      <td>Bandara Soekarno - Hatta, Bandara Halim Perdan...</td>\n",
       "      <td>0.493824</td>\n",
       "    </tr>\n",
       "    <tr>\n",
       "      <th>1</th>\n",
       "      <td>Museum Listrik dan Energi Baru</td>\n",
       "      <td>Sains</td>\n",
       "      <td>Senin, Selasa, Rabu, Kamis, Jumat, Sabtu, Minggu</td>\n",
       "      <td>08:00</td>\n",
       "      <td>16:00</td>\n",
       "      <td>Jakarta Timur</td>\n",
       "      <td>Umum</td>\n",
       "      <td>10000</td>\n",
       "      <td>Bandara Soekarno - Hatta, Bandara Halim Perdan...</td>\n",
       "      <td>1.497382</td>\n",
       "    </tr>\n",
       "    <tr>\n",
       "      <th>2</th>\n",
       "      <td>Museum Indonesia</td>\n",
       "      <td>Sejarah</td>\n",
       "      <td>Senin, Selasa, Rabu, Kamis, Jumat, Sabtu, Minggu</td>\n",
       "      <td>09:00</td>\n",
       "      <td>16:00</td>\n",
       "      <td>Jakarta Timur</td>\n",
       "      <td>Umum</td>\n",
       "      <td>15000</td>\n",
       "      <td>Bandara Soekarno - Hatta, Bandara Halim Perdan...</td>\n",
       "      <td>1.518634</td>\n",
       "    </tr>\n",
       "    <tr>\n",
       "      <th>3</th>\n",
       "      <td>Museum Timor Timur</td>\n",
       "      <td>Sejarah</td>\n",
       "      <td>Senin, Selasa, Rabu, Kamis, Jumat, Sabtu, Minggu</td>\n",
       "      <td>08:30</td>\n",
       "      <td>16:00</td>\n",
       "      <td>Jakarta Timur</td>\n",
       "      <td>Umum</td>\n",
       "      <td>5000</td>\n",
       "      <td>Bandara Halim Perdanakusuma, Stasiun Gambir, S...</td>\n",
       "      <td>1.564155</td>\n",
       "    </tr>\n",
       "    <tr>\n",
       "      <th>4</th>\n",
       "      <td>Museum Prangko</td>\n",
       "      <td>Sejarah</td>\n",
       "      <td>Senin, Selasa, Rabu, Kamis, Jumat</td>\n",
       "      <td>08:00</td>\n",
       "      <td>16:00</td>\n",
       "      <td>Jakarta Timur</td>\n",
       "      <td>Umum</td>\n",
       "      <td>5000</td>\n",
       "      <td>Bandara Soekarno - Hatta, Bandara Halim Perdan...</td>\n",
       "      <td>1.578962</td>\n",
       "    </tr>\n",
       "    <tr>\n",
       "      <th>5</th>\n",
       "      <td>Museum Graha Widya Patra (Minyak dan Gas Bumi)</td>\n",
       "      <td>Sains</td>\n",
       "      <td>Senin, Selasa, Rabu, Kamis, Jumat, Sabtu, Minggu</td>\n",
       "      <td>08:00</td>\n",
       "      <td>16:00</td>\n",
       "      <td>Jakarta Timur</td>\n",
       "      <td>Umum</td>\n",
       "      <td>15000</td>\n",
       "      <td>Bandara Soekarno - Hatta, Bandara Halim Perdan...</td>\n",
       "      <td>1.649541</td>\n",
       "    </tr>\n",
       "    <tr>\n",
       "      <th>6</th>\n",
       "      <td>Pusat Peragaan IPTEK</td>\n",
       "      <td>Sains</td>\n",
       "      <td>Senin, Selasa, Rabu, Kamis</td>\n",
       "      <td>08:30</td>\n",
       "      <td>16:00</td>\n",
       "      <td>Jakarta Timur</td>\n",
       "      <td>Umum</td>\n",
       "      <td>16500</td>\n",
       "      <td>Bandara Soekarno - Hatta, Bandara Halim Perdan...</td>\n",
       "      <td>1.686646</td>\n",
       "    </tr>\n",
       "    <tr>\n",
       "      <th>7</th>\n",
       "      <td>Museum Pusaka</td>\n",
       "      <td>Sejarah</td>\n",
       "      <td>Senin, Selasa, Rabu, Kamis, Jumat, Sabtu, Minggu</td>\n",
       "      <td>09:00</td>\n",
       "      <td>16:00</td>\n",
       "      <td>Jakarta Timur</td>\n",
       "      <td>Umum</td>\n",
       "      <td>10000</td>\n",
       "      <td>Bandara Soekarno - Hatta, Bandara Halim Perdan...</td>\n",
       "      <td>1.693336</td>\n",
       "    </tr>\n",
       "    <tr>\n",
       "      <th>8</th>\n",
       "      <td>Museum Asmat</td>\n",
       "      <td>Sejarah</td>\n",
       "      <td>Senin, Selasa, Rabu, Kamis, Jumat, Sabtu, Minggu</td>\n",
       "      <td>08:30</td>\n",
       "      <td>16:00</td>\n",
       "      <td>Jakarta Timur</td>\n",
       "      <td>Umum</td>\n",
       "      <td>10000</td>\n",
       "      <td>Bandara Soekarno - Hatta, Bandara Halim Perdan...</td>\n",
       "      <td>1.789173</td>\n",
       "    </tr>\n",
       "    <tr>\n",
       "      <th>9</th>\n",
       "      <td>Museum Penerangan</td>\n",
       "      <td>Sains</td>\n",
       "      <td>Senin, Selasa, Rabu, Kamis, Jumat, Sabtu, Minggu</td>\n",
       "      <td>08:00</td>\n",
       "      <td>16:00</td>\n",
       "      <td>Jakarta Timur</td>\n",
       "      <td>Umum</td>\n",
       "      <td>0</td>\n",
       "      <td>Bandara Soekarno - Hatta, Bandara Halim Perdan...</td>\n",
       "      <td>1.793520</td>\n",
       "    </tr>\n",
       "    <tr>\n",
       "      <th>10</th>\n",
       "      <td>Museum Hakka Indonesia</td>\n",
       "      <td>Sejarah</td>\n",
       "      <td>Selasa, Rabu, Kamis, Jumat, Sabtu, Minggu</td>\n",
       "      <td>09:00</td>\n",
       "      <td>16:00</td>\n",
       "      <td>Jakarta Timur</td>\n",
       "      <td>Umum</td>\n",
       "      <td>0</td>\n",
       "      <td>Bandara Soekarno - Hatta, Bandara Halim Perdan...</td>\n",
       "      <td>1.801239</td>\n",
       "    </tr>\n",
       "    <tr>\n",
       "      <th>11</th>\n",
       "      <td>Bayt Al-Qur’an dan Museum Istiqlal</td>\n",
       "      <td>Agama</td>\n",
       "      <td>Selasa, Rabu, Kamis, Jumat, Sabtu, Minggu</td>\n",
       "      <td>08:30</td>\n",
       "      <td>15:00</td>\n",
       "      <td>Jakarta Timur</td>\n",
       "      <td>Umum</td>\n",
       "      <td>0</td>\n",
       "      <td>Bandara Soekarno - Hatta, Bandara Halim Perdan...</td>\n",
       "      <td>2.192830</td>\n",
       "    </tr>\n",
       "    <tr>\n",
       "      <th>12</th>\n",
       "      <td>Museum Pemadam Kebakaran</td>\n",
       "      <td>Sejarah</td>\n",
       "      <td>Rabu, Kamis, Jumat, Sabtu, Minggu</td>\n",
       "      <td>08:00</td>\n",
       "      <td>16:00</td>\n",
       "      <td>Jakarta Timur</td>\n",
       "      <td>Umum</td>\n",
       "      <td>0</td>\n",
       "      <td>Bandara Soekarno - Hatta, Bandara Halim Perdan...</td>\n",
       "      <td>2.353145</td>\n",
       "    </tr>\n",
       "    <tr>\n",
       "      <th>13</th>\n",
       "      <td>Museum Alkitab</td>\n",
       "      <td>Agama</td>\n",
       "      <td>Senin, Selasa, Rabu, Kamis, Jumat</td>\n",
       "      <td>08:00</td>\n",
       "      <td>16:00</td>\n",
       "      <td>Jakarta Pusat</td>\n",
       "      <td>Umum</td>\n",
       "      <td>5000</td>\n",
       "      <td>Bandara Soekarno - Hatta, Bandara Halim Perdan...</td>\n",
       "      <td>2.508883</td>\n",
       "    </tr>\n",
       "    <tr>\n",
       "      <th>14</th>\n",
       "      <td>Museum Anatomi Universitas Katolik (Unika) Atm...</td>\n",
       "      <td>Sains</td>\n",
       "      <td>Senin, Selasa, Rabu, Kamis, Jumat</td>\n",
       "      <td>08:00</td>\n",
       "      <td>15:00</td>\n",
       "      <td>Jakarta Utara</td>\n",
       "      <td>Umum</td>\n",
       "      <td>0</td>\n",
       "      <td>Bandara Soekarno - Hatta, Bandara Halim Perdan...</td>\n",
       "      <td>2.514443</td>\n",
       "    </tr>\n",
       "  </tbody>\n",
       "</table>\n",
       "</div>"
      ],
      "text/plain": [
       "                                                 name category  \\\n",
       "0                                     Museum Serangga    Fauna   \n",
       "1                      Museum Listrik dan Energi Baru    Sains   \n",
       "2                                    Museum Indonesia  Sejarah   \n",
       "3                                  Museum Timor Timur  Sejarah   \n",
       "4                                      Museum Prangko  Sejarah   \n",
       "5      Museum Graha Widya Patra (Minyak dan Gas Bumi)    Sains   \n",
       "6                                Pusat Peragaan IPTEK    Sains   \n",
       "7                                       Museum Pusaka  Sejarah   \n",
       "8                                        Museum Asmat  Sejarah   \n",
       "9                                   Museum Penerangan    Sains   \n",
       "10                             Museum Hakka Indonesia  Sejarah   \n",
       "11                 Bayt Al-Qur’an dan Museum Istiqlal    Agama   \n",
       "12                           Museum Pemadam Kebakaran  Sejarah   \n",
       "13                                     Museum Alkitab    Agama   \n",
       "14  Museum Anatomi Universitas Katolik (Unika) Atm...    Sains   \n",
       "\n",
       "                                          schedule_1 open_1 closed_1  \\\n",
       "0   Senin, Selasa, Rabu, Kamis, Jumat, Sabtu, Minggu  09:00    16:00   \n",
       "1   Senin, Selasa, Rabu, Kamis, Jumat, Sabtu, Minggu  08:00    16:00   \n",
       "2   Senin, Selasa, Rabu, Kamis, Jumat, Sabtu, Minggu  09:00    16:00   \n",
       "3   Senin, Selasa, Rabu, Kamis, Jumat, Sabtu, Minggu  08:30    16:00   \n",
       "4                  Senin, Selasa, Rabu, Kamis, Jumat  08:00    16:00   \n",
       "5   Senin, Selasa, Rabu, Kamis, Jumat, Sabtu, Minggu  08:00    16:00   \n",
       "6                         Senin, Selasa, Rabu, Kamis  08:30    16:00   \n",
       "7   Senin, Selasa, Rabu, Kamis, Jumat, Sabtu, Minggu  09:00    16:00   \n",
       "8   Senin, Selasa, Rabu, Kamis, Jumat, Sabtu, Minggu  08:30    16:00   \n",
       "9   Senin, Selasa, Rabu, Kamis, Jumat, Sabtu, Minggu  08:00    16:00   \n",
       "10         Selasa, Rabu, Kamis, Jumat, Sabtu, Minggu  09:00    16:00   \n",
       "11         Selasa, Rabu, Kamis, Jumat, Sabtu, Minggu  08:30    15:00   \n",
       "12                 Rabu, Kamis, Jumat, Sabtu, Minggu  08:00    16:00   \n",
       "13                 Senin, Selasa, Rabu, Kamis, Jumat  08:00    16:00   \n",
       "14                 Senin, Selasa, Rabu, Kamis, Jumat  08:00    15:00   \n",
       "\n",
       "             city ticket_1 ticket_price_1  \\\n",
       "0   Jakarta Timur     Umum          25000   \n",
       "1   Jakarta Timur     Umum          10000   \n",
       "2   Jakarta Timur     Umum          15000   \n",
       "3   Jakarta Timur     Umum           5000   \n",
       "4   Jakarta Timur     Umum           5000   \n",
       "5   Jakarta Timur     Umum          15000   \n",
       "6   Jakarta Timur     Umum          16500   \n",
       "7   Jakarta Timur     Umum          10000   \n",
       "8   Jakarta Timur     Umum          10000   \n",
       "9   Jakarta Timur     Umum              0   \n",
       "10  Jakarta Timur     Umum              0   \n",
       "11  Jakarta Timur     Umum              0   \n",
       "12  Jakarta Timur     Umum              0   \n",
       "13  Jakarta Pusat     Umum           5000   \n",
       "14  Jakarta Utara     Umum              0   \n",
       "\n",
       "                                public_transportation  distance  \n",
       "0   Bandara Soekarno - Hatta, Bandara Halim Perdan...  0.493824  \n",
       "1   Bandara Soekarno - Hatta, Bandara Halim Perdan...  1.497382  \n",
       "2   Bandara Soekarno - Hatta, Bandara Halim Perdan...  1.518634  \n",
       "3   Bandara Halim Perdanakusuma, Stasiun Gambir, S...  1.564155  \n",
       "4   Bandara Soekarno - Hatta, Bandara Halim Perdan...  1.578962  \n",
       "5   Bandara Soekarno - Hatta, Bandara Halim Perdan...  1.649541  \n",
       "6   Bandara Soekarno - Hatta, Bandara Halim Perdan...  1.686646  \n",
       "7   Bandara Soekarno - Hatta, Bandara Halim Perdan...  1.693336  \n",
       "8   Bandara Soekarno - Hatta, Bandara Halim Perdan...  1.789173  \n",
       "9   Bandara Soekarno - Hatta, Bandara Halim Perdan...  1.793520  \n",
       "10  Bandara Soekarno - Hatta, Bandara Halim Perdan...  1.801239  \n",
       "11  Bandara Soekarno - Hatta, Bandara Halim Perdan...  2.192830  \n",
       "12  Bandara Soekarno - Hatta, Bandara Halim Perdan...  2.353145  \n",
       "13  Bandara Soekarno - Hatta, Bandara Halim Perdan...  2.508883  \n",
       "14  Bandara Soekarno - Hatta, Bandara Halim Perdan...  2.514443  "
      ]
     },
     "execution_count": 100,
     "metadata": {},
     "output_type": "execute_result"
    }
   ],
   "source": [
    "# # using cosine distance\n",
    "recommender(query_1, cosine_distance)"
   ]
  }
 ],
 "metadata": {
  "interpreter": {
   "hash": "64655c6e5ea7413915ad94f8b213b2a5c8128a5529e660bc1636dd6010c004cb"
  },
  "kernelspec": {
   "display_name": "Python 3.9.5 64-bit ('venv': venv)",
   "name": "python3"
  },
  "language_info": {
   "codemirror_mode": {
    "name": "ipython",
    "version": 3
   },
   "file_extension": ".py",
   "mimetype": "text/x-python",
   "name": "python",
   "nbconvert_exporter": "python",
   "pygments_lexer": "ipython3",
   "version": "3.8.10"
  },
  "orig_nbformat": 4
 },
 "nbformat": 4,
 "nbformat_minor": 2
}
